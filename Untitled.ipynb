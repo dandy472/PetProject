{
 "cells": [
  {
   "cell_type": "code",
   "execution_count": 79,
   "id": "0ba9a175",
   "metadata": {},
   "outputs": [
    {
     "name": "stdout",
     "output_type": "stream",
     "text": [
      "0b1111011\n",
      "---\n"
     ]
    },
    {
     "data": {
      "text/plain": [
       "12"
      ]
     },
     "execution_count": 79,
     "metadata": {},
     "output_type": "execute_result"
    }
   ],
   "source": [
    "num=123\n",
    "print(bin(num))\n",
    "print('---')\n",
    "k=num.bit_length()-1+bin(num).count(\"1\")\n",
    "    \n",
    "k"
   ]
  },
  {
   "cell_type": "code",
   "execution_count": 78,
   "id": "1ffcbbea",
   "metadata": {},
   "outputs": [
    {
     "data": {
      "text/plain": [
       "6"
      ]
     },
     "execution_count": 78,
     "metadata": {},
     "output_type": "execute_result"
    }
   ],
   "source": [
    "bin(123).count(\"1\")"
   ]
  },
  {
   "cell_type": "code",
   "execution_count": 26,
   "id": "fd98ee69",
   "metadata": {},
   "outputs": [
    {
     "data": {
      "text/plain": [
       "[0, 1, 2]"
      ]
     },
     "execution_count": 26,
     "metadata": {},
     "output_type": "execute_result"
    }
   ],
   "source": [
    "a=[[1,0],[1,0],[1,0],[1,1]]\n",
    "k=4\n",
    "res=[]\n",
    "j=1\n",
    "while k>0 and j<len(a[0]):\n",
    "    for i in range(len(a)):\n",
    "        if i not in res:\n",
    "            if a[i][j]==0:\n",
    "                res.append(i)\n",
    "                k-=1\n",
    "            if k==0:\n",
    "                break\n",
    "    j+=1\n",
    "\n",
    "res"
   ]
  },
  {
   "cell_type": "code",
   "execution_count": 33,
   "id": "1c3fecb9",
   "metadata": {},
   "outputs": [
    {
     "data": {
      "text/plain": [
       "([1, 1, 0, 0, 0], 0)"
      ]
     },
     "execution_count": 33,
     "metadata": {},
     "output_type": "execute_result"
    }
   ],
   "source": [
    "a=[[1,1,0,0,0],[1,1,1,1,0],[1,0,0,0,0],[1,1,0,0,0],[1,1,1,1,1]]\n",
    "k=4\n",
    "m = len(a)\n",
    "rows = sorted(range(m), key=lambda i: (a[i], i))\n",
    "(a[0], 0)\n",
    "#del rows[k:]\n",
    "#rows"
   ]
  },
  {
   "cell_type": "code",
   "execution_count": 80,
   "id": "6ea08aec",
   "metadata": {},
   "outputs": [
    {
     "data": {
      "text/plain": [
       "17"
      ]
     },
     "execution_count": 80,
     "metadata": {},
     "output_type": "execute_result"
    }
   ],
   "source": [
    "accounts = [[2,8,7],[7,1,3],[1,9,5]]\n",
    "maxq= 0\n",
    "for i in range(len(accounts)):\n",
    "    t=sum(accounts[i])\n",
    "    maxq=max(maxq,t)\n",
    "maxq"
   ]
  },
  {
   "cell_type": "code",
   "execution_count": 82,
   "id": "312edddc",
   "metadata": {},
   "outputs": [
    {
     "name": "stdout",
     "output_type": "stream",
     "text": [
      "<map object at 0x0000029E0EF1E050>\n"
     ]
    }
   ],
   "source": []
  }
 ],
 "metadata": {
  "kernelspec": {
   "display_name": "Python 3 (ipykernel)",
   "language": "python",
   "name": "python3"
  },
  "language_info": {
   "codemirror_mode": {
    "name": "ipython",
    "version": 3
   },
   "file_extension": ".py",
   "mimetype": "text/x-python",
   "name": "python",
   "nbconvert_exporter": "python",
   "pygments_lexer": "ipython3",
   "version": "3.10.9"
  }
 },
 "nbformat": 4,
 "nbformat_minor": 5
}
