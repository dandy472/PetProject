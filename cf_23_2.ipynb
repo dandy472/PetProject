{
 "cells": [
  {
   "cell_type": "markdown",
   "id": "8ab15b7f",
   "metadata": {},
   "source": [
    "# Импорт библиотек и загрузка данных"
   ]
  },
  {
   "cell_type": "code",
   "execution_count": 1,
   "id": "648b6acf",
   "metadata": {},
   "outputs": [],
   "source": [
    "import numpy as np\n",
    "import pandas as pd\n",
    "from scipy.stats import norm\n",
    "from statsmodels.stats.contingency_tables import StratifiedTable\n",
    "import os\n",
    "from scipy import stats\n",
    "\n",
    "#визуализация\n",
    "import seaborn as sns\n",
    "import matplotlib.pyplot as plt\n",
    "from plotly import graph_objects as go\n",
    "import plotly.express as px\n",
    "\n",
    "from tqdm.auto import tqdm\n",
    "\n",
    "plt.style.use('ggplot')"
   ]
  },
  {
   "cell_type": "code",
   "execution_count": 2,
   "id": "bd972e3f",
   "metadata": {
    "scrolled": true
   },
   "outputs": [],
   "source": [
    "df_serp=pd.read_csv('Downloads\\serps.csv')\n",
    "df_metrics=pd.read_csv('Downloads\\metrics.csv')"
   ]
  },
  {
   "cell_type": "code",
   "execution_count": 36,
   "id": "f7c9ff0a",
   "metadata": {},
   "outputs": [
    {
     "data": {
      "text/plain": [
       "55500"
      ]
     },
     "execution_count": 36,
     "metadata": {},
     "output_type": "execute_result"
    }
   ],
   "source": [
    "df_serp[\"vacancy_id_conv\"].nunique()"
   ]
  },
  {
   "cell_type": "code",
   "execution_count": 3,
   "id": "034e40b3",
   "metadata": {
    "scrolled": true
   },
   "outputs": [
    {
     "data": {
      "text/html": [
       "<div>\n",
       "<style scoped>\n",
       "    .dataframe tbody tr th:only-of-type {\n",
       "        vertical-align: middle;\n",
       "    }\n",
       "\n",
       "    .dataframe tbody tr th {\n",
       "        vertical-align: top;\n",
       "    }\n",
       "\n",
       "    .dataframe thead th {\n",
       "        text-align: right;\n",
       "    }\n",
       "</style>\n",
       "<table border=\"1\" class=\"dataframe\">\n",
       "  <thead>\n",
       "    <tr style=\"text-align: right;\">\n",
       "      <th></th>\n",
       "      <th>request_id</th>\n",
       "      <th>vacancy_id_conv</th>\n",
       "      <th>city</th>\n",
       "      <th>applicant</th>\n",
       "      <th>metric_full</th>\n",
       "      <th>emplpyer_id</th>\n",
       "    </tr>\n",
       "  </thead>\n",
       "  <tbody>\n",
       "    <tr>\n",
       "      <th>0</th>\n",
       "      <td>168719525526659303f2dee867dc6eda</td>\n",
       "      <td>48019</td>\n",
       "      <td>Moscow</td>\n",
       "      <td>78076</td>\n",
       "      <td>3.869807</td>\n",
       "      <td>4815</td>\n",
       "    </tr>\n",
       "    <tr>\n",
       "      <th>1</th>\n",
       "      <td>1687196322554b091cf99ec5fd0949d0</td>\n",
       "      <td>48019</td>\n",
       "      <td>Moscow</td>\n",
       "      <td>379829</td>\n",
       "      <td>3.869807</td>\n",
       "      <td>4815</td>\n",
       "    </tr>\n",
       "    <tr>\n",
       "      <th>2</th>\n",
       "      <td>168718801728012110e723f6e5763351</td>\n",
       "      <td>48019</td>\n",
       "      <td>Moscow</td>\n",
       "      <td>379144</td>\n",
       "      <td>3.869807</td>\n",
       "      <td>4815</td>\n",
       "    </tr>\n",
       "    <tr>\n",
       "      <th>3</th>\n",
       "      <td>1687195028379296aef0c3bce4c606d1</td>\n",
       "      <td>48019</td>\n",
       "      <td>Moscow</td>\n",
       "      <td>284223</td>\n",
       "      <td>3.869807</td>\n",
       "      <td>4815</td>\n",
       "    </tr>\n",
       "    <tr>\n",
       "      <th>4</th>\n",
       "      <td>1687182857283108ba3c1249550a66fe</td>\n",
       "      <td>48019</td>\n",
       "      <td>Moscow</td>\n",
       "      <td>460779</td>\n",
       "      <td>3.869807</td>\n",
       "      <td>4815</td>\n",
       "    </tr>\n",
       "  </tbody>\n",
       "</table>\n",
       "</div>"
      ],
      "text/plain": [
       "                         request_id  vacancy_id_conv    city  applicant  \\\n",
       "0  168719525526659303f2dee867dc6eda            48019  Moscow      78076   \n",
       "1  1687196322554b091cf99ec5fd0949d0            48019  Moscow     379829   \n",
       "2  168718801728012110e723f6e5763351            48019  Moscow     379144   \n",
       "3  1687195028379296aef0c3bce4c606d1            48019  Moscow     284223   \n",
       "4  1687182857283108ba3c1249550a66fe            48019  Moscow     460779   \n",
       "\n",
       "   metric_full  emplpyer_id  \n",
       "0     3.869807         4815  \n",
       "1     3.869807         4815  \n",
       "2     3.869807         4815  \n",
       "3     3.869807         4815  \n",
       "4     3.869807         4815  "
      ]
     },
     "execution_count": 3,
     "metadata": {},
     "output_type": "execute_result"
    }
   ],
   "source": [
    "df_m=df_serp.merge(df_metrics)\n",
    "df_m.head()"
   ]
  },
  {
   "cell_type": "markdown",
   "id": "f882cd56",
   "metadata": {},
   "source": [
    "## Группировка данных"
   ]
  },
  {
   "cell_type": "markdown",
   "id": "d438cf85",
   "metadata": {},
   "source": [
    "Соискатели и количество городов, в которых они ищут вакансии"
   ]
  },
  {
   "cell_type": "code",
   "execution_count": 25,
   "id": "6ea9c404",
   "metadata": {},
   "outputs": [],
   "source": [
    "df_appl=df_m.groupby('applicant').agg({\"city\":\"count\"}).reset_index()"
   ]
  },
  {
   "cell_type": "markdown",
   "id": "0e8ed6bb",
   "metadata": {},
   "source": [
    "По результатам выдачи"
   ]
  },
  {
   "cell_type": "code",
   "execution_count": 99,
   "id": "fd3d38b7",
   "metadata": {},
   "outputs": [],
   "source": [
    "df_gserp=df_m.groupby('request_id').agg(totals=('request_id','count'),max_scor=('metric_full','max'),\\\n",
    "                                            min_scor=('metric_full','min')\\\n",
    "                               ).reset_index()"
   ]
  },
  {
   "cell_type": "markdown",
   "id": "423f7b19",
   "metadata": {},
   "source": [
    "По работодателям"
   ]
  },
  {
   "cell_type": "code",
   "execution_count": 109,
   "id": "04b30f4a",
   "metadata": {},
   "outputs": [],
   "source": [
    "df_empl=df_metrics.groupby('emplpyer_id').agg(totals=('vacancy_id_conv','count'),max_scor=('metric_full','max'),\\\n",
    "                                            min_scor=('metric_full','min')\\\n",
    "                               ).reset_index()"
   ]
  },
  {
   "cell_type": "markdown",
   "id": "662d91dc",
   "metadata": {},
   "source": [
    "## Анализ полученных данных"
   ]
  },
  {
   "cell_type": "markdown",
   "id": "90388653",
   "metadata": {},
   "source": [
    "### Соискатели"
   ]
  },
  {
   "cell_type": "markdown",
   "id": "48f28874",
   "metadata": {},
   "source": [
    "Количество уникальных соскателей"
   ]
  },
  {
   "cell_type": "code",
   "execution_count": 22,
   "id": "4c8884cc",
   "metadata": {},
   "outputs": [
    {
     "data": {
      "text/plain": [
       "911862"
      ]
     },
     "execution_count": 22,
     "metadata": {},
     "output_type": "execute_result"
    }
   ],
   "source": [
    "df_appl.shape[0]"
   ]
  },
  {
   "cell_type": "markdown",
   "id": "a9194083",
   "metadata": {},
   "source": [
    "Медиана количества городов, в котором один соискатель ищет работу"
   ]
  },
  {
   "cell_type": "code",
   "execution_count": 24,
   "id": "4ff41455",
   "metadata": {},
   "outputs": [
    {
     "data": {
      "text/plain": [
       "2.0"
      ]
     },
     "execution_count": 24,
     "metadata": {},
     "output_type": "execute_result"
    }
   ],
   "source": [
    "df_appl['city'].median()"
   ]
  },
  {
   "cell_type": "markdown",
   "id": "8bcb18e7",
   "metadata": {},
   "source": [
    "Насколько много людей ищет работу в нескольких городах"
   ]
  },
  {
   "cell_type": "code",
   "execution_count": 28,
   "id": "a151abc1",
   "metadata": {},
   "outputs": [
    {
     "data": {
      "text/plain": [
       "76.6"
      ]
     },
     "execution_count": 28,
     "metadata": {},
     "output_type": "execute_result"
    }
   ],
   "source": [
    "round(100*df_appl.query(\"city > 1\").shape[0]/df_appl.shape[0],1)"
   ]
  },
  {
   "cell_type": "markdown",
   "id": "39877523",
   "metadata": {},
   "source": [
    "### Вакансии"
   ]
  },
  {
   "cell_type": "markdown",
   "id": "b3f55748",
   "metadata": {},
   "source": [
    "Доля вакансий со скор < 3"
   ]
  },
  {
   "cell_type": "code",
   "execution_count": 92,
   "id": "c9a4065d",
   "metadata": {},
   "outputs": [
    {
     "data": {
      "text/plain": [
       "15.31"
      ]
     },
     "execution_count": 92,
     "metadata": {},
     "output_type": "execute_result"
    }
   ],
   "source": [
    "round(100*df_metrics.query(\"metric_full<3\").shape[0]/df_metrics.shape[0], 2)"
   ]
  },
  {
   "cell_type": "markdown",
   "id": "92ddfbd7",
   "metadata": {},
   "source": [
    "### SERP"
   ]
  },
  {
   "cell_type": "markdown",
   "id": "6cb244f6",
   "metadata": {},
   "source": [
    "Количество вакансий на странице выдачи"
   ]
  },
  {
   "cell_type": "code",
   "execution_count": 104,
   "id": "67eef4b2",
   "metadata": {},
   "outputs": [
    {
     "data": {
      "text/plain": [
       "count    1000000.000000\n",
       "mean           2.431596\n",
       "std            2.290122\n",
       "min            1.000000\n",
       "25%            1.000000\n",
       "50%            2.000000\n",
       "75%            3.000000\n",
       "max           50.000000\n",
       "Name: totals, dtype: float64"
      ]
     },
     "execution_count": 104,
     "metadata": {},
     "output_type": "execute_result"
    }
   ],
   "source": [
    "df_gserp.totals.describe()"
   ]
  },
  {
   "cell_type": "code",
   "execution_count": 106,
   "id": "6d87947d",
   "metadata": {},
   "outputs": [
    {
     "data": {
      "image/png": "[encoded data removed]",
      "text/plain": [
       "<Figure size 640x480 with 1 Axes>"
      ]
     },
     "metadata": {},
     "output_type": "display_data"
    }
   ],
   "source": [
    "plt.hist(df_gserp.totals)\n",
    "plt.xlabel(\"Количество вакансий на SERP\")\n",
    "plt.ylabel(\"Число SERP\")\n",
    "plt.title(\"Гистограмма количества вакансий на SERP\")\n",
    "plt.show()"
   ]
  },
  {
   "cell_type": "code",
   "execution_count": 107,
   "id": "e25b5d68",
   "metadata": {},
   "outputs": [
    {
     "data": {
      "text/plain": [
       "2.0"
      ]
     },
     "execution_count": 107,
     "metadata": {},
     "output_type": "execute_result"
    }
   ],
   "source": [
    "df_gserp.totals.median()"
   ]
  },
  {
   "cell_type": "markdown",
   "id": "290ec85e",
   "metadata": {},
   "source": [
    "### Работодатели"
   ]
  },
  {
   "cell_type": "code",
   "execution_count": 110,
   "id": "4e056735",
   "metadata": {},
   "outputs": [
    {
     "data": {
      "text/html": [
       "<div>\n",
       "<style scoped>\n",
       "    .dataframe tbody tr th:only-of-type {\n",
       "        vertical-align: middle;\n",
       "    }\n",
       "\n",
       "    .dataframe tbody tr th {\n",
       "        vertical-align: top;\n",
       "    }\n",
       "\n",
       "    .dataframe thead th {\n",
       "        text-align: right;\n",
       "    }\n",
       "</style>\n",
       "<table border=\"1\" class=\"dataframe\">\n",
       "  <thead>\n",
       "    <tr style=\"text-align: right;\">\n",
       "      <th></th>\n",
       "      <th>emplpyer_id</th>\n",
       "      <th>totals</th>\n",
       "      <th>max_scor</th>\n",
       "      <th>min_scor</th>\n",
       "    </tr>\n",
       "  </thead>\n",
       "  <tbody>\n",
       "    <tr>\n",
       "      <th>0</th>\n",
       "      <td>0</td>\n",
       "      <td>3</td>\n",
       "      <td>3.519367</td>\n",
       "      <td>2.415642</td>\n",
       "    </tr>\n",
       "    <tr>\n",
       "      <th>1</th>\n",
       "      <td>1</td>\n",
       "      <td>9</td>\n",
       "      <td>6.336716</td>\n",
       "      <td>1.764291</td>\n",
       "    </tr>\n",
       "    <tr>\n",
       "      <th>2</th>\n",
       "      <td>2</td>\n",
       "      <td>6</td>\n",
       "      <td>5.045708</td>\n",
       "      <td>2.634967</td>\n",
       "    </tr>\n",
       "    <tr>\n",
       "      <th>3</th>\n",
       "      <td>3</td>\n",
       "      <td>6</td>\n",
       "      <td>6.277994</td>\n",
       "      <td>1.710486</td>\n",
       "    </tr>\n",
       "    <tr>\n",
       "      <th>4</th>\n",
       "      <td>4</td>\n",
       "      <td>3</td>\n",
       "      <td>5.448330</td>\n",
       "      <td>2.046591</td>\n",
       "    </tr>\n",
       "  </tbody>\n",
       "</table>\n",
       "</div>"
      ],
      "text/plain": [
       "   emplpyer_id  totals  max_scor  min_scor\n",
       "0            0       3  3.519367  2.415642\n",
       "1            1       9  6.336716  1.764291\n",
       "2            2       6  5.045708  2.634967\n",
       "3            3       6  6.277994  1.710486\n",
       "4            4       3  5.448330  2.046591"
      ]
     },
     "execution_count": 110,
     "metadata": {},
     "output_type": "execute_result"
    }
   ],
   "source": [
    "df_empl.head()"
   ]
  },
  {
   "cell_type": "markdown",
   "id": "c5ab04a0",
   "metadata": {},
   "source": [
    "Доля работодателей, у которых лучшая вакансия имеет скор <3"
   ]
  },
  {
   "cell_type": "code",
   "execution_count": 114,
   "id": "a9e24a19",
   "metadata": {},
   "outputs": [
    {
     "data": {
      "text/plain": [
       "0.4"
      ]
     },
     "execution_count": 114,
     "metadata": {},
     "output_type": "execute_result"
    }
   ],
   "source": [
    "round(100*df_empl.query(\"max_scor < 3\").shape[0]/df_empl.shape[0],2)"
   ]
  },
  {
   "cell_type": "markdown",
   "id": "f71ce655",
   "metadata": {},
   "source": [
    "Доля работодателей, у которых лучшая вакансия имеет скор <3, среди тех, у которых есть хотя бы одна вакансия со значением скор <3"
   ]
  },
  {
   "cell_type": "code",
   "execution_count": 118,
   "id": "701e896d",
   "metadata": {},
   "outputs": [
    {
     "data": {
      "text/plain": [
       "0.69"
      ]
     },
     "execution_count": 118,
     "metadata": {},
     "output_type": "execute_result"
    }
   ],
   "source": [
    "round(100*df_empl.query(\"max_scor < 3\").shape[0]/df_empl.query(\"min_scor < 3\").shape[0],2)"
   ]
  },
  {
   "cell_type": "markdown",
   "id": "5f8fcf47",
   "metadata": {},
   "source": [
    "Нет зависимости от работодателя и \"непривлекательности\" его вакансий"
   ]
  },
  {
   "cell_type": "markdown",
   "id": "80030a73",
   "metadata": {},
   "source": [
    "## Расчёт MDE"
   ]
  },
  {
   "cell_type": "markdown",
   "id": "05db6c65",
   "metadata": {},
   "source": [
    "### Определение размеров выборки для каждой группы"
   ]
  },
  {
   "cell_type": "markdown",
   "id": "6434de18",
   "metadata": {},
   "source": [
    "Ежедневная аудитория пользователей, которые попадут в аудиторию составляет 12.5% от ежедневного активного числа пользователей (27 000). Эксперимент длится 2 недели. При этом берется 30% от пользователей из данной аудитории и случайно назначается группа (контрольная и тестовая). Количество пользователей в каждой из групп:"
   ]
  },
  {
   "cell_type": "code",
   "execution_count": 125,
   "id": "36e9dae8",
   "metadata": {},
   "outputs": [
    {
     "data": {
      "text/plain": [
       "4725.0"
      ]
     },
     "execution_count": 125,
     "metadata": {},
     "output_type": "execute_result"
    }
   ],
   "source": [
    "usrs=0.125*27000*14*0.1\n",
    "usrs"
   ]
  },
  {
   "cell_type": "code",
   "execution_count": 136,
   "id": "91028b96",
   "metadata": {},
   "outputs": [
    {
     "data": {
      "text/plain": [
       "0.021"
      ]
     },
     "execution_count": 136,
     "metadata": {},
     "output_type": "execute_result"
    }
   ],
   "source": [
    "n_rv=stats.norm()\n",
    "p=df_metrics.query(\"metric_full<3\").shape[0]/df_metrics.shape[0]\n",
    "s=p*(1-p)\n",
    "\n",
    "alp=0.05\n",
    "bet=0.2\n",
    "\n",
    "MDE= round(( 2*s*((n_rv.ppf((alp)/2) + n_rv.ppf(bet))**2)/4725)**0.5,3)\n",
    "MDE\n"
   ]
  }
 ],
 "metadata": {
  "kernelspec": {
   "display_name": "Python 3 (ipykernel)",
   "language": "python",
   "name": "python3"
  },
  "language_info": {
   "codemirror_mode": {
    "name": "ipython",
    "version": 3
   },
   "file_extension": ".py",
   "mimetype": "text/x-python",
   "name": "python",
   "nbconvert_exporter": "python",
   "pygments_lexer": "ipython3",
   "version": "3.10.9"
  }
 },
 "nbformat": 4,
 "nbformat_minor": 5
}
