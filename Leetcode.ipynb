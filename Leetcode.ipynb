{
 "cells": [
  {
   "cell_type": "code",
   "execution_count": 29,
   "id": "b21c2c1d",
   "metadata": {},
   "outputs": [
    {
     "name": "stdout",
     "output_type": "stream",
     "text": [
      "[0, 1]\n",
      "271115\n",
      "5\n"
     ]
    }
   ],
   "source": [
    "nums = [2,7,11,15]\n",
    "target = 9\n",
    "exc =[i for i in range (len(nums))]\n",
    "for i in range(len(nums)):\n",
    "    if nums[i]>target:\n",
    "        exc.remove(i)\n",
    "for j in range(len(exc)):\n",
    "    for k in range(j+1,len(exc)):\n",
    "        if nums[exc[j]]+nums[exc[k]]==target:\n",
    "            print( [exc[j],exc[k]])\n",
    "s=''\n",
    "for i in range(4):\n",
    "    s+=str(nums[i])\n",
    "print(s)\n",
    "for d in s[-1]:\n",
    "    print(d)\n",
    "    "
   ]
  },
  {
   "cell_type": "code",
   "execution_count": 63,
   "id": "53d9b5b0",
   "metadata": {},
   "outputs": [
    {
     "name": "stdout",
     "output_type": "stream",
     "text": [
      "1.5\n"
     ]
    }
   ],
   "source": [
    "l1 = [1,2]\n",
    "l2 = [-1,44]\n",
    "k=(len(l1)+len(l2))\n",
    "tk=(k//2)-1\n",
    "m,i,j=0,0,0\n",
    "while tk>0:\n",
    "    if l1[i]>l2[j]:\n",
    "        j=j+1\n",
    "    else:\n",
    "        i=i+1\n",
    "    tk-=1\n",
    "al = min(l2[j],l1[i+1]) if (i+1)<len(l1) else l2[j]\n",
    "bl = min (l1[i],l2[j+1]) if (j+1)<len(l2) else l1[i]\n",
    "if k%2==1:\n",
    "\n",
    "    print(max(al,bl))\n",
    "    print(\"!\")\n",
    "else:\n",
    "    \n",
    "    print((al+bl)/2)"
   ]
  },
  {
   "cell_type": "code",
   "execution_count": 49,
   "id": "3e6418b1",
   "metadata": {},
   "outputs": [
    {
     "ename": "TypeError",
     "evalue": "can't multiply sequence by non-int of type 'str'",
     "output_type": "error",
     "traceback": [
      "\u001b[1;31m---------------------------------------------------------------------------\u001b[0m",
      "\u001b[1;31mTypeError\u001b[0m                                 Traceback (most recent call last)",
      "Cell \u001b[1;32mIn[49], line 16\u001b[0m\n\u001b[0;32m     14\u001b[0m chars \u001b[38;5;241m=\u001b[39m [digit_map[digit] \u001b[38;5;28;01mfor\u001b[39;00m digit \u001b[38;5;129;01min\u001b[39;00m digits]\n\u001b[0;32m     15\u001b[0m \u001b[38;5;66;03m# step 2: obtain all possible combinations\u001b[39;00m\n\u001b[1;32m---> 16\u001b[0m combs \u001b[38;5;241m=\u001b[39m \u001b[43mmath\u001b[49m\u001b[38;5;241;43m.\u001b[39;49m\u001b[43mprod\u001b[49m\u001b[43m \u001b[49m\u001b[43m(\u001b[49m\u001b[43mchrs\u001b[49m\u001b[43m \u001b[49m\u001b[38;5;28;43;01mfor\u001b[39;49;00m\u001b[43m \u001b[49m\u001b[43mchrs\u001b[49m\u001b[43m \u001b[49m\u001b[38;5;129;43;01min\u001b[39;49;00m\u001b[43m \u001b[49m\u001b[43mchars\u001b[49m\u001b[43m)\u001b[49m  \u001b[38;5;66;03m# or product(chrs for chrs in chars)\u001b[39;00m\n\u001b[0;32m     17\u001b[0m result \u001b[38;5;241m=\u001b[39m []\n\u001b[0;32m     18\u001b[0m \u001b[38;5;28;01mfor\u001b[39;00m comb \u001b[38;5;129;01min\u001b[39;00m combs:\n",
      "\u001b[1;31mTypeError\u001b[0m: can't multiply sequence by non-int of type 'str'"
     ]
    }
   ],
   "source": [
    "import math\n",
    "digits = '23'\n",
    "digit_map = {\n",
    "    '2': 'abc',\n",
    "    '3': 'def',\n",
    "    '4': 'ghi',\n",
    "    '5': 'jkl',\n",
    "    '6': 'mno',\n",
    "    '7': 'pqrs',\n",
    "    '8': 'tuv',\n",
    "    '9': 'wxyz'\n",
    "}\n",
    "# step 1: map digits to characters\n",
    "chars = [digit_map[digit] for digit in digits]\n",
    "# step 2: obtain all possible combinations\n",
    "combs = math.prod (chrs for chrs in chars)  # or product(chrs for chrs in chars)\n",
    "result = []\n",
    "for comb in combs:\n",
    "    if not comb:\n",
    "        continue\n",
    "    # step 3: concatenate characters\n",
    "    string = ''.join(comb)\n",
    "    # step 4: add to result list\n",
    "    result.append(string)\n",
    "result"
   ]
  },
  {
   "cell_type": "code",
   "execution_count": 19,
   "id": "632f895c",
   "metadata": {
    "scrolled": true
   },
   "outputs": [
    {
     "data": {
      "text/plain": [
       "[[1, 2, 3], [4, 5, 6], [7, 8, 9]]"
      ]
     },
     "execution_count": 19,
     "metadata": {},
     "output_type": "execute_result"
    }
   ],
   "source": [
    "matrix = [[1,2,3],[4,5,6],[7,8,9]]\n",
    "\n",
    "b =[list(row)[::-1] for row in zip(*matrix)]\n",
    "\n",
    "matrix"
   ]
  },
  {
   "cell_type": "code",
   "execution_count": 28,
   "id": "7d7dffb7",
   "metadata": {},
   "outputs": [
    {
     "name": "stdout",
     "output_type": "stream",
     "text": [
      "i=1->[[], [1]]\n",
      "i=2->[[], [1], [2]]\n",
      "[[], [1], [2], [1, 2]]\n",
      "i=3->[[], [1], [2], [1, 2], [3]]\n",
      "[[], [1], [2], [1, 2], [3], [1, 3]]\n",
      "[[], [1], [2], [1, 2], [3], [1, 3], [2, 3]]\n",
      "[[], [1], [2], [1, 2], [3], [1, 3], [2, 3], [1, 2, 3]]\n"
     ]
    }
   ],
   "source": [
    "nums=[1,2,3]\n",
    "subsets = [[]]\n",
    "for num in nums:\n",
    "    print ('i={0}'.format(str(num)), end = '->')\n",
    "    for i in range(len(subsets)):\n",
    "        currSubset = subsets[i]\n",
    "        subsets.append(currSubset + [num])\n",
    "        print(subsets)"
   ]
  },
  {
   "cell_type": "code",
   "execution_count": 2,
   "id": "ee07ff2e",
   "metadata": {},
   "outputs": [
    {
     "name": "stdout",
     "output_type": "stream",
     "text": [
      "0\n",
      "0\n",
      "4\n",
      "4\n",
      "5\n",
      "5\n"
     ]
    }
   ],
   "source": [
    "prices = [7,1,5,3,6,4]\n",
    "buy=0\n",
    "sell=0\n",
    "profit=0\n",
    "for i in range(len(prices)):\n",
    "    if i==0:\n",
    "        buy=prices[i]\n",
    "    else:\n",
    "        if buy>prices[i]:\n",
    "            profit=0\n",
    "            buy=prices[i]\n",
    "        else:\n",
    "            if prices[i]-buy>profit:\n",
    "                profit=prices[i]-buy\n",
    "    print (profit)"
   ]
  },
  {
   "cell_type": "code",
   "execution_count": 34,
   "id": "4cc1b8bb",
   "metadata": {},
   "outputs": [
    {
     "name": "stdout",
     "output_type": "stream",
     "text": [
      "2->bot\n",
      "1\n",
      "2\n",
      "3\n",
      "4\n",
      "8\n",
      "12\n",
      "11\n",
      "10\n",
      "9\n",
      "5\n",
      "6\n",
      "7\n"
     ]
    }
   ],
   "source": [
    "matrix = [[1,2,3,4],[5,6,7,8],[9,10,11,12]]\n",
    "m=len(matrix)\n",
    "n=len(matrix[0])\n",
    "top=0\n",
    "bottom=m-1\n",
    "print(str(bottom)+'->bot')\n",
    "left=0\n",
    "right=n-1\n",
    "direct=0\n",
    "while top<=bottom and left<=right:\n",
    "\n",
    "    if direct == 0:\n",
    "        for i in range(left,right+1):\n",
    "            print(matrix[top][i])        \n",
    "        top+=1\n",
    "        direct = 1\n",
    "\n",
    "    elif direct ==1:\n",
    "        for j in range(top,bottom+1):\n",
    "            print(matrix[j][right])\n",
    "        right-=1\n",
    "        direct=2\n",
    "    elif direct== 2:\n",
    "        for i in range(right,left-1,-1):\n",
    "            print(matrix[bottom][i])\n",
    "        bottom-=1\n",
    "        direct=3\n",
    "    elif direct==3:\n",
    "        for j in range(bottom,top-1,-1):\n",
    "            print(matrix[j][left])\n",
    "        left+=1\n",
    "        direct=0\n",
    "        "
   ]
  },
  {
   "cell_type": "code",
   "execution_count": 28,
   "id": "c566e873",
   "metadata": {},
   "outputs": [
    {
     "name": "stdout",
     "output_type": "stream",
     "text": [
      "7\n",
      "--\n",
      "2\n",
      "--\n",
      "['This    is   an', 'example of text', 'justification.  ']\n"
     ]
    }
   ],
   "source": [
    "words = [\"This\", \"is\", \"an\", \"example\", \"of\", \"text\", \"justification.\"]\n",
    "maxWidth=16\n",
    "output=[]\n",
    "c_len=0\n",
    "c_arr=[]\n",
    "for n in words:\n",
    "    if c_len+len(n)+len(c_arr)<=maxWidth:\n",
    "        c_len+=len(n)\n",
    "        if len(c_arr)>1:\n",
    "            c_len+=1\n",
    "        c_arr.append(n)\n",
    "    else:        \n",
    "        if len(c_arr)==1:\n",
    "            output.append(c_arr[0] +' '*(maxWidth-len(c_arr[0])))\n",
    "        else:\n",
    "\n",
    "            print(maxWidth-c_len)\n",
    "            print('--')\n",
    "            space,extra = divmod((maxWidth-c_len),len(c_arr)-1)\n",
    "            i=0\n",
    "            while extra>0:\n",
    "                c_arr[i]=c_arr[i]+' '\n",
    "                extra-=1\n",
    "                i+=1\n",
    "            output.append('')\n",
    "            if space==0:\n",
    "                space=1\n",
    "            for kk in range (len(c_arr)-1):\n",
    "                output[len(output)-1]=output[len(output)-1]+c_arr[kk]+' '*space\n",
    "            output[len(output)-1]=output[len(output)-1]+c_arr[len(c_arr)-1]\n",
    "        c_len=len(n)\n",
    "        c_arr.clear()\n",
    "        c_arr.append(n)\n",
    "output.append(c_arr[0] +' '*(maxWidth-len(c_arr[0])))\n",
    "print (output)"
   ]
  },
  {
   "cell_type": "code",
   "execution_count": 10,
   "id": "569156aa",
   "metadata": {},
   "outputs": [
    {
     "name": "stdout",
     "output_type": "stream",
     "text": [
      "2\n",
      "2\n",
      "2\n"
     ]
    }
   ],
   "source": [
    "pattern = \"abba\"\n",
    "s = \"dog cat cat dog\"\n",
    "z=zip(pattern,s.split())\n",
    "\n",
    "print(len(set(z)))\n",
    "print(len(set(pattern)))\n",
    "print(len(set(s.split())))"
   ]
  }
 ],
 "metadata": {
  "kernelspec": {
   "display_name": "Python 3 (ipykernel)",
   "language": "python",
   "name": "python3"
  },
  "language_info": {
   "codemirror_mode": {
    "name": "ipython",
    "version": 3
   },
   "file_extension": ".py",
   "mimetype": "text/x-python",
   "name": "python",
   "nbconvert_exporter": "python",
   "pygments_lexer": "ipython3",
   "version": "3.10.9"
  }
 },
 "nbformat": 4,
 "nbformat_minor": 5
}
