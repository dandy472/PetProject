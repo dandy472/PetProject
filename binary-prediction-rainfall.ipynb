{
 "cells": [
  {
   "cell_type": "markdown",
   "metadata": {},
   "source": [
    "### ✅ Step 1: Import Libraries"
   ]
  },
  {
   "cell_type": "code",
   "execution_count": 1,
   "metadata": {},
   "outputs": [],
   "source": [
    "import pandas as pd\n",
    "import numpy as np\n",
    "import matplotlib.pyplot as plt\n",
    "\n",
    "from sklearn.model_selection import TimeSeriesSplit\n",
    "from sklearn.metrics import accuracy_score, f1_score, roc_curve, auc\n",
    "from sklearn.preprocessing import StandardScaler\n",
    "\n",
    "from sklearn.ensemble import ExtraTreesClassifier, VotingClassifier\n",
    "import catboost\n",
    "import xgboost\n",
    "from sklearn.linear_model import LogisticRegression\n",
    "from sklearn.ensemble import RandomForestClassifier, ExtraTreesClassifier, VotingClassifier\n",
    "from sklearn.svm import SVC\n",
    "from sklearn.neural_network import MLPClassifier\n",
    "from xgboost import XGBClassifier\n",
    "from catboost import CatBoostClassifier\n",
    "from sklearn.metrics import accuracy_score, f1_score, roc_curve, auc\n",
    "\n",
    "import warnings\n",
    "warnings.filterwarnings('ignore')"
   ]
  },
  {
   "cell_type": "markdown",
   "metadata": {},
   "source": [
    "### ✅ Step 2: Load and Prepare Data\n",
    "load two datasets (df1, df2) and make sure they have the same format."
   ]
  },
  {
   "cell_type": "code",
   "execution_count": 3,
   "metadata": {
    "execution": {
     "iopub.execute_input": "2025-04-08T14:49:46.579133Z",
     "iopub.status.busy": "2025-04-08T14:49:46.578590Z",
     "iopub.status.idle": "2025-04-08T14:49:46.648644Z",
     "shell.execute_reply": "2025-04-08T14:49:46.647258Z",
     "shell.execute_reply.started": "2025-04-08T14:49:46.579101Z"
    }
   },
   "outputs": [],
   "source": [
    "df1 = pd.read_csv(\"datasets/rainfall_2/Rainfall.csv\")\n",
    "df2 = pd.read_csv(\"datasets/rainfall_2/train.csv\")\n",
    "test_df = pd.read_csv('datasets/rainfall_2/test.csv')\n",
    "\n",
    "df1.columns = df1.columns.str.strip()\n",
    "df1['rainfall'] = df1['rainfall'].str.lower().map({'yes': 1, 'no': 0})\n",
    "df2 = df2.drop(columns=['id'])\n",
    "\n",
    "# Reorder columns to make them match\n",
    "column_order = ['day', 'pressure', 'maxtemp', 'temparature', 'mintemp', 'dewpoint',\n",
    "                'humidity', 'cloud', 'sunshine', 'winddirection', 'windspeed', 'rainfall']\n",
    "df1 = df1[column_order]\n",
    "df2 = df2[column_order]\n",
    "\n",
    "train_df = pd.concat([df1, df2], ignore_index=True)\n"
   ]
  },
  {
   "cell_type": "code",
   "execution_count": 4,
   "metadata": {},
   "outputs": [],
   "source": [
    "# from sklearn.model_selection import train_test_split\n",
    "\n",
    "# df = pd.read_csv(\"datasets/rainfall/train.csv\")\n",
    "# train_df, test_df = train_test_split(df, test_size=0.2)\n",
    "# # valid_df, test_df = train_test_split(test_df, test_size=0.5)\n",
    "\n",
    "# train_df.to_csv(\"datasets/rainfall_2/train.csv\", sep=',', index=False)\n",
    "# # valid_df.to_csv(\"datasets/rainfall_2/valid.csv\", sep=',', index=False)\n",
    "# test_df.to_csv(\"datasets/rainfall_2/test.csv\", sep=',', index=False)"
   ]
  },
  {
   "cell_type": "code",
   "execution_count": 5,
   "metadata": {
    "execution": {
     "iopub.execute_input": "2025-04-08T14:49:46.651377Z",
     "iopub.status.busy": "2025-04-08T14:49:46.650911Z",
     "iopub.status.idle": "2025-04-08T14:49:46.658053Z",
     "shell.execute_reply": "2025-04-08T14:49:46.656836Z",
     "shell.execute_reply.started": "2025-04-08T14:49:46.651333Z"
    }
   },
   "outputs": [],
   "source": [
    "# Drop 'id' column from train and test datasets\n",
    "train_df.drop(columns=['id'], inplace=True, errors='ignore')\n",
    "# valid_df.drop(columns=['id'], inplace=True, errors='ignore')\n",
    "test_df.drop(columns=['id'], inplace=True, errors='ignore')\n"
   ]
  },
  {
   "cell_type": "markdown",
   "metadata": {},
   "source": [
    "### "
   ]
  },
  {
   "cell_type": "markdown",
   "metadata": {},
   "source": [
    "### ✅ Step 3: EDA"
   ]
  },
  {
   "cell_type": "code",
   "execution_count": 6,
   "metadata": {
    "execution": {
     "iopub.execute_input": "2025-04-08T14:49:46.659831Z",
     "iopub.status.busy": "2025-04-08T14:49:46.659519Z",
     "iopub.status.idle": "2025-04-08T14:49:46.705438Z",
     "shell.execute_reply": "2025-04-08T14:49:46.704343Z",
     "shell.execute_reply.started": "2025-04-08T14:49:46.659806Z"
    }
   },
   "outputs": [
    {
     "data": {
      "text/html": [
       "<div>\n",
       "<style scoped>\n",
       "    .dataframe tbody tr th:only-of-type {\n",
       "        vertical-align: middle;\n",
       "    }\n",
       "\n",
       "    .dataframe tbody tr th {\n",
       "        vertical-align: top;\n",
       "    }\n",
       "\n",
       "    .dataframe thead th {\n",
       "        text-align: right;\n",
       "    }\n",
       "</style>\n",
       "<table border=\"1\" class=\"dataframe\">\n",
       "  <thead>\n",
       "    <tr style=\"text-align: right;\">\n",
       "      <th></th>\n",
       "      <th>day</th>\n",
       "      <th>pressure</th>\n",
       "      <th>maxtemp</th>\n",
       "      <th>temparature</th>\n",
       "      <th>mintemp</th>\n",
       "      <th>dewpoint</th>\n",
       "      <th>humidity</th>\n",
       "      <th>cloud</th>\n",
       "      <th>sunshine</th>\n",
       "      <th>winddirection</th>\n",
       "      <th>windspeed</th>\n",
       "      <th>rainfall</th>\n",
       "    </tr>\n",
       "  </thead>\n",
       "  <tbody>\n",
       "    <tr>\n",
       "      <th>0</th>\n",
       "      <td>1</td>\n",
       "      <td>1025.9</td>\n",
       "      <td>19.9</td>\n",
       "      <td>18.3</td>\n",
       "      <td>16.8</td>\n",
       "      <td>13.1</td>\n",
       "      <td>72.0</td>\n",
       "      <td>49.0</td>\n",
       "      <td>9.3</td>\n",
       "      <td>80.0</td>\n",
       "      <td>26.3</td>\n",
       "      <td>1</td>\n",
       "    </tr>\n",
       "    <tr>\n",
       "      <th>1</th>\n",
       "      <td>2</td>\n",
       "      <td>1022.0</td>\n",
       "      <td>21.7</td>\n",
       "      <td>18.9</td>\n",
       "      <td>17.2</td>\n",
       "      <td>15.6</td>\n",
       "      <td>81.0</td>\n",
       "      <td>83.0</td>\n",
       "      <td>0.6</td>\n",
       "      <td>50.0</td>\n",
       "      <td>15.3</td>\n",
       "      <td>1</td>\n",
       "    </tr>\n",
       "    <tr>\n",
       "      <th>2</th>\n",
       "      <td>3</td>\n",
       "      <td>1019.7</td>\n",
       "      <td>20.3</td>\n",
       "      <td>19.3</td>\n",
       "      <td>18.0</td>\n",
       "      <td>18.4</td>\n",
       "      <td>95.0</td>\n",
       "      <td>91.0</td>\n",
       "      <td>0.0</td>\n",
       "      <td>40.0</td>\n",
       "      <td>14.2</td>\n",
       "      <td>1</td>\n",
       "    </tr>\n",
       "    <tr>\n",
       "      <th>3</th>\n",
       "      <td>4</td>\n",
       "      <td>1018.9</td>\n",
       "      <td>22.3</td>\n",
       "      <td>20.6</td>\n",
       "      <td>19.1</td>\n",
       "      <td>18.8</td>\n",
       "      <td>90.0</td>\n",
       "      <td>88.0</td>\n",
       "      <td>1.0</td>\n",
       "      <td>50.0</td>\n",
       "      <td>16.9</td>\n",
       "      <td>1</td>\n",
       "    </tr>\n",
       "    <tr>\n",
       "      <th>4</th>\n",
       "      <td>5</td>\n",
       "      <td>1015.9</td>\n",
       "      <td>21.3</td>\n",
       "      <td>20.7</td>\n",
       "      <td>20.2</td>\n",
       "      <td>19.9</td>\n",
       "      <td>95.0</td>\n",
       "      <td>81.0</td>\n",
       "      <td>0.0</td>\n",
       "      <td>40.0</td>\n",
       "      <td>13.7</td>\n",
       "      <td>1</td>\n",
       "    </tr>\n",
       "  </tbody>\n",
       "</table>\n",
       "</div>"
      ],
      "text/plain": [
       "   day  pressure  maxtemp  temparature  mintemp  dewpoint  humidity  cloud  \\\n",
       "0    1    1025.9     19.9         18.3     16.8      13.1      72.0   49.0   \n",
       "1    2    1022.0     21.7         18.9     17.2      15.6      81.0   83.0   \n",
       "2    3    1019.7     20.3         19.3     18.0      18.4      95.0   91.0   \n",
       "3    4    1018.9     22.3         20.6     19.1      18.8      90.0   88.0   \n",
       "4    5    1015.9     21.3         20.7     20.2      19.9      95.0   81.0   \n",
       "\n",
       "   sunshine  winddirection  windspeed  rainfall  \n",
       "0       9.3           80.0       26.3         1  \n",
       "1       0.6           50.0       15.3         1  \n",
       "2       0.0           40.0       14.2         1  \n",
       "3       1.0           50.0       16.9         1  \n",
       "4       0.0           40.0       13.7         1  "
      ]
     },
     "execution_count": 6,
     "metadata": {},
     "output_type": "execute_result"
    }
   ],
   "source": [
    "train_df.head()"
   ]
  },
  {
   "cell_type": "code",
   "execution_count": 7,
   "metadata": {
    "execution": {
     "iopub.execute_input": "2025-04-08T14:49:46.706860Z",
     "iopub.status.busy": "2025-04-08T14:49:46.706515Z",
     "iopub.status.idle": "2025-04-08T14:49:46.757101Z",
     "shell.execute_reply": "2025-04-08T14:49:46.755812Z",
     "shell.execute_reply.started": "2025-04-08T14:49:46.706820Z"
    }
   },
   "outputs": [
    {
     "data": {
      "text/html": [
       "<div>\n",
       "<style scoped>\n",
       "    .dataframe tbody tr th:only-of-type {\n",
       "        vertical-align: middle;\n",
       "    }\n",
       "\n",
       "    .dataframe tbody tr th {\n",
       "        vertical-align: top;\n",
       "    }\n",
       "\n",
       "    .dataframe thead th {\n",
       "        text-align: right;\n",
       "    }\n",
       "</style>\n",
       "<table border=\"1\" class=\"dataframe\">\n",
       "  <thead>\n",
       "    <tr style=\"text-align: right;\">\n",
       "      <th></th>\n",
       "      <th>day</th>\n",
       "      <th>pressure</th>\n",
       "      <th>maxtemp</th>\n",
       "      <th>temparature</th>\n",
       "      <th>mintemp</th>\n",
       "      <th>dewpoint</th>\n",
       "      <th>humidity</th>\n",
       "      <th>cloud</th>\n",
       "      <th>sunshine</th>\n",
       "      <th>winddirection</th>\n",
       "      <th>windspeed</th>\n",
       "      <th>rainfall</th>\n",
       "    </tr>\n",
       "  </thead>\n",
       "  <tbody>\n",
       "    <tr>\n",
       "      <th>count</th>\n",
       "      <td>2118.000000</td>\n",
       "      <td>2118.000000</td>\n",
       "      <td>2118.000000</td>\n",
       "      <td>2118.000000</td>\n",
       "      <td>2118.000000</td>\n",
       "      <td>2118.000000</td>\n",
       "      <td>2118.000000</td>\n",
       "      <td>2118.000000</td>\n",
       "      <td>2118.000000</td>\n",
       "      <td>2117.000000</td>\n",
       "      <td>2117.000000</td>\n",
       "      <td>2118.000000</td>\n",
       "    </tr>\n",
       "    <tr>\n",
       "      <th>mean</th>\n",
       "      <td>150.356468</td>\n",
       "      <td>1013.590699</td>\n",
       "      <td>26.379698</td>\n",
       "      <td>23.946553</td>\n",
       "      <td>22.137252</td>\n",
       "      <td>20.363126</td>\n",
       "      <td>81.593484</td>\n",
       "      <td>74.480170</td>\n",
       "      <td>3.954769</td>\n",
       "      <td>104.671847</td>\n",
       "      <td>21.696552</td>\n",
       "      <td>0.737016</td>\n",
       "    </tr>\n",
       "    <tr>\n",
       "      <th>std</th>\n",
       "      <td>113.117443</td>\n",
       "      <td>5.790749</td>\n",
       "      <td>5.734466</td>\n",
       "      <td>5.331488</td>\n",
       "      <td>5.204025</td>\n",
       "      <td>5.470789</td>\n",
       "      <td>8.355103</td>\n",
       "      <td>19.059198</td>\n",
       "      <td>3.735444</td>\n",
       "      <td>80.799070</td>\n",
       "      <td>9.923292</td>\n",
       "      <td>0.440358</td>\n",
       "    </tr>\n",
       "    <tr>\n",
       "      <th>min</th>\n",
       "      <td>1.000000</td>\n",
       "      <td>998.500000</td>\n",
       "      <td>7.100000</td>\n",
       "      <td>4.900000</td>\n",
       "      <td>3.100000</td>\n",
       "      <td>-0.400000</td>\n",
       "      <td>36.000000</td>\n",
       "      <td>0.000000</td>\n",
       "      <td>0.000000</td>\n",
       "      <td>10.000000</td>\n",
       "      <td>4.400000</td>\n",
       "      <td>0.000000</td>\n",
       "    </tr>\n",
       "    <tr>\n",
       "      <th>25%</th>\n",
       "      <td>33.000000</td>\n",
       "      <td>1008.500000</td>\n",
       "      <td>21.300000</td>\n",
       "      <td>19.300000</td>\n",
       "      <td>17.600000</td>\n",
       "      <td>16.725000</td>\n",
       "      <td>77.000000</td>\n",
       "      <td>66.000000</td>\n",
       "      <td>0.400000</td>\n",
       "      <td>40.000000</td>\n",
       "      <td>14.000000</td>\n",
       "      <td>0.000000</td>\n",
       "    </tr>\n",
       "    <tr>\n",
       "      <th>50%</th>\n",
       "      <td>140.000000</td>\n",
       "      <td>1013.000000</td>\n",
       "      <td>27.800000</td>\n",
       "      <td>25.500000</td>\n",
       "      <td>23.900000</td>\n",
       "      <td>22.100000</td>\n",
       "      <td>81.000000</td>\n",
       "      <td>82.000000</td>\n",
       "      <td>2.500000</td>\n",
       "      <td>70.000000</td>\n",
       "      <td>20.500000</td>\n",
       "      <td>1.000000</td>\n",
       "    </tr>\n",
       "    <tr>\n",
       "      <th>75%</th>\n",
       "      <td>248.750000</td>\n",
       "      <td>1017.800000</td>\n",
       "      <td>31.200000</td>\n",
       "      <td>28.400000</td>\n",
       "      <td>26.500000</td>\n",
       "      <td>25.000000</td>\n",
       "      <td>87.000000</td>\n",
       "      <td>88.000000</td>\n",
       "      <td>7.400000</td>\n",
       "      <td>200.000000</td>\n",
       "      <td>27.400000</td>\n",
       "      <td>1.000000</td>\n",
       "    </tr>\n",
       "    <tr>\n",
       "      <th>max</th>\n",
       "      <td>365.000000</td>\n",
       "      <td>1034.600000</td>\n",
       "      <td>36.300000</td>\n",
       "      <td>32.400000</td>\n",
       "      <td>30.000000</td>\n",
       "      <td>26.700000</td>\n",
       "      <td>98.000000</td>\n",
       "      <td>100.000000</td>\n",
       "      <td>12.100000</td>\n",
       "      <td>350.000000</td>\n",
       "      <td>59.500000</td>\n",
       "      <td>1.000000</td>\n",
       "    </tr>\n",
       "  </tbody>\n",
       "</table>\n",
       "</div>"
      ],
      "text/plain": [
       "               day     pressure      maxtemp  temparature      mintemp  \\\n",
       "count  2118.000000  2118.000000  2118.000000  2118.000000  2118.000000   \n",
       "mean    150.356468  1013.590699    26.379698    23.946553    22.137252   \n",
       "std     113.117443     5.790749     5.734466     5.331488     5.204025   \n",
       "min       1.000000   998.500000     7.100000     4.900000     3.100000   \n",
       "25%      33.000000  1008.500000    21.300000    19.300000    17.600000   \n",
       "50%     140.000000  1013.000000    27.800000    25.500000    23.900000   \n",
       "75%     248.750000  1017.800000    31.200000    28.400000    26.500000   \n",
       "max     365.000000  1034.600000    36.300000    32.400000    30.000000   \n",
       "\n",
       "          dewpoint     humidity        cloud     sunshine  winddirection  \\\n",
       "count  2118.000000  2118.000000  2118.000000  2118.000000    2117.000000   \n",
       "mean     20.363126    81.593484    74.480170     3.954769     104.671847   \n",
       "std       5.470789     8.355103    19.059198     3.735444      80.799070   \n",
       "min      -0.400000    36.000000     0.000000     0.000000      10.000000   \n",
       "25%      16.725000    77.000000    66.000000     0.400000      40.000000   \n",
       "50%      22.100000    81.000000    82.000000     2.500000      70.000000   \n",
       "75%      25.000000    87.000000    88.000000     7.400000     200.000000   \n",
       "max      26.700000    98.000000   100.000000    12.100000     350.000000   \n",
       "\n",
       "         windspeed     rainfall  \n",
       "count  2117.000000  2118.000000  \n",
       "mean     21.696552     0.737016  \n",
       "std       9.923292     0.440358  \n",
       "min       4.400000     0.000000  \n",
       "25%      14.000000     0.000000  \n",
       "50%      20.500000     1.000000  \n",
       "75%      27.400000     1.000000  \n",
       "max      59.500000     1.000000  "
      ]
     },
     "execution_count": 7,
     "metadata": {},
     "output_type": "execute_result"
    }
   ],
   "source": [
    "train_df.describe()"
   ]
  },
  {
   "cell_type": "code",
   "execution_count": 8,
   "metadata": {
    "execution": {
     "iopub.execute_input": "2025-04-08T14:49:46.759239Z",
     "iopub.status.busy": "2025-04-08T14:49:46.758871Z",
     "iopub.status.idle": "2025-04-08T14:49:46.783595Z",
     "shell.execute_reply": "2025-04-08T14:49:46.782480Z",
     "shell.execute_reply.started": "2025-04-08T14:49:46.759209Z"
    }
   },
   "outputs": [
    {
     "name": "stdout",
     "output_type": "stream",
     "text": [
      "<class 'pandas.core.frame.DataFrame'>\n",
      "RangeIndex: 2118 entries, 0 to 2117\n",
      "Data columns (total 12 columns):\n",
      " #   Column         Non-Null Count  Dtype  \n",
      "---  ------         --------------  -----  \n",
      " 0   day            2118 non-null   int64  \n",
      " 1   pressure       2118 non-null   float64\n",
      " 2   maxtemp        2118 non-null   float64\n",
      " 3   temparature    2118 non-null   float64\n",
      " 4   mintemp        2118 non-null   float64\n",
      " 5   dewpoint       2118 non-null   float64\n",
      " 6   humidity       2118 non-null   float64\n",
      " 7   cloud          2118 non-null   float64\n",
      " 8   sunshine       2118 non-null   float64\n",
      " 9   winddirection  2117 non-null   float64\n",
      " 10  windspeed      2117 non-null   float64\n",
      " 11  rainfall       2118 non-null   int64  \n",
      "dtypes: float64(10), int64(2)\n",
      "memory usage: 198.7 KB\n"
     ]
    }
   ],
   "source": [
    "train_df.info()"
   ]
  },
  {
   "cell_type": "code",
   "execution_count": 9,
   "metadata": {},
   "outputs": [],
   "source": [
    "# valid_df.info()"
   ]
  },
  {
   "cell_type": "code",
   "execution_count": 10,
   "metadata": {
    "execution": {
     "iopub.execute_input": "2025-04-08T14:49:46.939355Z",
     "iopub.status.busy": "2025-04-08T14:49:46.938887Z",
     "iopub.status.idle": "2025-04-08T14:49:46.951375Z",
     "shell.execute_reply": "2025-04-08T14:49:46.950146Z",
     "shell.execute_reply.started": "2025-04-08T14:49:46.939322Z"
    }
   },
   "outputs": [
    {
     "name": "stdout",
     "output_type": "stream",
     "text": [
      "<class 'pandas.core.frame.DataFrame'>\n",
      "RangeIndex: 438 entries, 0 to 437\n",
      "Data columns (total 12 columns):\n",
      " #   Column         Non-Null Count  Dtype  \n",
      "---  ------         --------------  -----  \n",
      " 0   day            438 non-null    int64  \n",
      " 1   pressure       438 non-null    float64\n",
      " 2   maxtemp        438 non-null    float64\n",
      " 3   temparature    438 non-null    float64\n",
      " 4   mintemp        438 non-null    float64\n",
      " 5   dewpoint       438 non-null    float64\n",
      " 6   humidity       438 non-null    float64\n",
      " 7   cloud          438 non-null    float64\n",
      " 8   sunshine       438 non-null    float64\n",
      " 9   winddirection  438 non-null    float64\n",
      " 10  windspeed      438 non-null    float64\n",
      " 11  rainfall       438 non-null    int64  \n",
      "dtypes: float64(10), int64(2)\n",
      "memory usage: 41.2 KB\n"
     ]
    }
   ],
   "source": [
    "test_df.info()"
   ]
  },
  {
   "cell_type": "code",
   "execution_count": 11,
   "metadata": {
    "execution": {
     "iopub.execute_input": "2025-04-08T14:49:47.128792Z",
     "iopub.status.busy": "2025-04-08T14:49:47.128301Z",
     "iopub.status.idle": "2025-04-08T14:49:47.145273Z",
     "shell.execute_reply": "2025-04-08T14:49:47.144010Z",
     "shell.execute_reply.started": "2025-04-08T14:49:47.128757Z"
    }
   },
   "outputs": [
    {
     "name": "stdout",
     "output_type": "stream",
     "text": [
      "Does test_df have missing values? False\n",
      "Does train_df have missing values? True\n",
      "Missing values in test_df:\n",
      "Series([], dtype: int64)\n",
      "\n",
      "Missing values in train_df:\n",
      "winddirection    1\n",
      "windspeed        1\n",
      "dtype: int64\n"
     ]
    }
   ],
   "source": [
    "# Check for missing values in test and train\n",
    "print(\"Does test_df have missing values?\", test_df.isnull().sum().any())\n",
    "# print(\"Does valid_df have missing values?\", valid_df.isnull().sum().any())\n",
    "print(\"Does train_df have missing values?\", train_df.isnull().sum().any())\n",
    "\n",
    "\n",
    "print(\"Missing values in test_df:\")\n",
    "print(test_df.isnull().sum()[test_df.isnull().sum() > 0])\n",
    "\n",
    "# print(\"\\nMissing values in valid_df:\")\n",
    "# print(train_df.isnull().sum()[valid_df.isnull().sum() > 0])\n",
    "\n",
    "print(\"\\nMissing values in train_df:\")\n",
    "print(train_df.isnull().sum()[train_df.isnull().sum() > 0])\n"
   ]
  },
  {
   "cell_type": "markdown",
   "metadata": {},
   "source": [
    "### ✅ Step 4: Clean Missing Data\n",
    "Fill in missing values (mean imputation)."
   ]
  },
  {
   "cell_type": "code",
   "execution_count": 12,
   "metadata": {
    "execution": {
     "iopub.execute_input": "2025-04-08T14:49:53.306146Z",
     "iopub.status.busy": "2025-04-08T14:49:53.305743Z",
     "iopub.status.idle": "2025-04-08T14:49:53.324493Z",
     "shell.execute_reply": "2025-04-08T14:49:53.323288Z",
     "shell.execute_reply.started": "2025-04-08T14:49:53.306118Z"
    }
   },
   "outputs": [],
   "source": [
    "train_df = train_df.fillna(train_df.mean())\n",
    "# valid_df = valid_df.fillna(valid_df.mean())\n",
    "test_df = test_df.fillna(test_df.mean())"
   ]
  },
  {
   "cell_type": "code",
   "execution_count": 13,
   "metadata": {
    "execution": {
     "iopub.execute_input": "2025-04-08T14:49:53.560817Z",
     "iopub.status.busy": "2025-04-08T14:49:53.560401Z",
     "iopub.status.idle": "2025-04-08T14:49:53.581105Z",
     "shell.execute_reply": "2025-04-08T14:49:53.579787Z",
     "shell.execute_reply.started": "2025-04-08T14:49:53.560781Z"
    }
   },
   "outputs": [
    {
     "name": "stdout",
     "output_type": "stream",
     "text": [
      "Does test_df have missing values? False\n",
      "Does train_df have missing values? False\n",
      "Missing values in test_df:\n",
      "Series([], dtype: int64)\n",
      "\n",
      "Missing values in train_df:\n",
      "Series([], dtype: int64)\n"
     ]
    }
   ],
   "source": [
    "# Check for missing values in test and train\n",
    "print(\"Does test_df have missing values?\", test_df.isnull().sum().any())\n",
    "# print(\"Does valid_df have missing values?\", valid_df.isnull().sum().any())\n",
    "print(\"Does train_df have missing values?\", train_df.isnull().sum().any())\n",
    "\n",
    "\n",
    "print(\"Missing values in test_df:\")\n",
    "print(test_df.isnull().sum()[test_df.isnull().sum() > 0])\n",
    "\n",
    "# print(\"\\nMissing values in valid_df:\")\n",
    "# print(valid_df.isnull().sum()[valid_df.isnull().sum() > 0])\n",
    "\n",
    "print(\"\\nMissing values in train_df:\")\n",
    "print(train_df.isnull().sum()[train_df.isnull().sum() > 0])\n"
   ]
  },
  {
   "cell_type": "code",
   "execution_count": 14,
   "metadata": {
    "execution": {
     "iopub.execute_input": "2025-04-08T14:49:53.724355Z",
     "iopub.status.busy": "2025-04-08T14:49:53.723905Z",
     "iopub.status.idle": "2025-04-08T14:49:53.771730Z",
     "shell.execute_reply": "2025-04-08T14:49:53.770291Z",
     "shell.execute_reply.started": "2025-04-08T14:49:53.724323Z"
    }
   },
   "outputs": [],
   "source": [
    "def get_season(day):\n",
    "    if 80 <= day <= 171:\n",
    "        return \"spring\"\n",
    "    elif 172 <= day <= 263:\n",
    "        return \"summer\"\n",
    "    elif 264 <= day <= 354:\n",
    "        return \"fall\"\n",
    "    else:\n",
    "        return \"winter\"\n",
    "        \n",
    "train_df[\"season\"] = train_df[\"day\"].apply(get_season)\n",
    "test_df[\"season\"] = test_df[\"day\"].apply(get_season)\n",
    "# valid_df[\"season\"] = valid_df[\"day\"].apply(get_season)\n",
    "\n",
    "train_df[\"temp_range\"] = train_df[\"maxtemp\"] - train_df[\"mintemp\"]\n",
    "test_df[\"temp_range\"] = test_df[\"maxtemp\"] - test_df[\"mintemp\"]\n",
    "# valid_df[\"temp_range\"] = valid_df[\"maxtemp\"] - valid_df[\"mintemp\"]\n",
    "\n",
    "train_df[\"dew_humidity_ratio\"] = train_df[\"dewpoint\"] / (train_df[\"humidity\"] + 1e-5)\n",
    "test_df[\"dew_humidity_ratio\"] = test_df[\"dewpoint\"] / (test_df[\"humidity\"] + 1e-5)\n",
    "# valid_df[\"dew_humidity_ratio\"] = valid_df[\"dewpoint\"] / (valid_df[\"humidity\"] + 1e-5)\n",
    "\n",
    "train_df[\"temp_dew_diff\"] = train_df[\"temparature\"] - train_df[\"dewpoint\"]\n",
    "test_df[\"temp_dew_diff\"] = test_df[\"temparature\"] - test_df[\"dewpoint\"]\n",
    "# valid_df[\"temp_dew_diff\"] = valid_df[\"temparature\"] - valid_df[\"dewpoint\"]\n",
    "\n",
    "train_df[\"cloud_sun_ratio\"] = train_df[\"cloud\"] / (train_df[\"sunshine\"] + 1e-5)\n",
    "test_df[\"cloud_sun_ratio\"] = test_df[\"cloud\"] / (test_df[\"sunshine\"] + 1e-5)\n",
    "# valid_df[\"cloud_sun_ratio\"] = valid_df[\"cloud\"] / (valid_df[\"sunshine\"] + 1e-5)\n",
    "\n",
    "train_df[\"low_sun\"] = (train_df[\"sunshine\"] < 1).astype(int)\n",
    "test_df[\"low_sun\"] = (test_df[\"sunshine\"] < 1).astype(int)\n",
    "# valid_df[\"low_sun\"] = (valid_df[\"sunshine\"] < 1).astype(int)\n",
    "\n",
    "train_df[\"cloud_humidity\"] = train_df[\"humidity\"] * train_df[\"cloud\"]\n",
    "test_df[\"cloud_humidity\"] = test_df[\"humidity\"] * test_df[\"cloud\"]\n",
    "# valid_df[\"cloud_humidity\"] = valid_df[\"humidity\"] * valid_df[\"cloud\"]\n",
    "\n",
    "train_df[\"temp_humidity\"] = train_df[\"humidity\"] * train_df[\"temp_dew_diff\"]\n",
    "test_df[\"temp_humidity\"] = test_df[\"humidity\"] * test_df[\"temp_dew_diff\"]\n",
    "# valid_df[\"temp_humidity\"] = valid_df[\"humidity\"] * valid_df[\"temp_dew_diff\"]\n",
    "\n",
    "season_map = {\"winter\": 0, \"spring\": 1, \"summer\": 2, \"fall\": 3}\n",
    "\n",
    "train_df[\"season_num\"] = train_df[\"season\"].map(season_map)\n",
    "test_df[\"season_num\"] = test_df[\"season\"].map(season_map)\n",
    "# valid_df[\"season_num\"] = valid_df[\"season\"].map(season_map)\n",
    "\n",
    "train_df[\"cloud_sun_season\"] = train_df[\"cloud_sun_ratio\"] * train_df[\"season_num\"]\n",
    "test_df[\"cloud_sun_season\"] = test_df[\"cloud_sun_ratio\"] * test_df[\"season_num\"]\n",
    "# valid_df[\"cloud_sun_season\"] = valid_df[\"cloud_sun_ratio\"] * valid_df[\"season_num\"]\n",
    "\n",
    "train_df[\"cloud_sun_intersect\"] = train_df[\"cloud\"] * train_df[\"sunshine\"]\n",
    "test_df[\"cloud_sun_intersect\"] = test_df[\"cloud\"] * test_df[\"sunshine\"]\n",
    "# valid_df[\"cloud_sun_intersect\"] = valid_df[\"cloud\"] * valid_df[\"sunshine\"]\n",
    "\n",
    "train_df[\"cloud_humidity_intersect\"] = train_df[\"cloud\"] * train_df[\"humidity\"]\n",
    "test_df[\"cloud_humidity_intersect\"] = test_df[\"cloud\"] * test_df[\"humidity\"]\n",
    "# valid_df[\"cloud_humidity_intersect\"] = valid_df[\"cloud\"] * valid_df[\"humidity\"]\n",
    "\n",
    "train_df[\"cloud_sun_intersect\"] = train_df[\"cloud\"] / (train_df[\"sunshine\"] + 1e-3)\n",
    "test_df[\"cloud_sun_intersect\"] = test_df[\"cloud\"] / (test_df[\"sunshine\"] + 1e-3)\n",
    "# valid_df[\"cloud_sun_intersect\"] = valid_df[\"cloud\"] / (valid_df[\"sunshine\"] + 1e-3)\n",
    "\n",
    "train_df[\"humidity_dewpoint_intersect\"] = train_df[\"humidity\"] * train_df[\"dewpoint\"]\n",
    "test_df[\"humidity_dewpoint_intersect\"] = test_df[\"humidity\"] * test_df[\"dewpoint\"]\n",
    "# valid_df[\"humidity_dewpoint_intersect\"] = valid_df[\"humidity\"] * valid_df[\"dewpoint\"]\n",
    "\n",
    "train_df[\"sun_wind_intersect\"] = train_df[\"sunshine\"] / (train_df[\"windspeed\"] + 1e-3)\n",
    "test_df[\"sun_wind_intersect\"] = test_df[\"sunshine\"] / (test_df[\"windspeed\"] + 1e-3)\n",
    "# valid_df[\"sun_wind_intersect\"] = valid_df[\"sunshine\"] / (valid_df[\"windspeed\"] + 1e-3)\n",
    "\n",
    "train_df[\"cloud_low_sun_intersect\"] = train_df[\"cloud\"] * train_df[\"low_sun\"]\n",
    "test_df[\"cloud_low_sun_intersect\"] = test_df[\"cloud\"] * test_df[\"low_sun\"]\n",
    "# valid_df[\"cloud_low_sun_intersect\"] = valid_df[\"cloud\"] * valid_df[\"low_sun\"]\n",
    "\n",
    "bool_cols = train_df.select_dtypes(include='bool').columns\n",
    "\n",
    "for col in bool_cols:\n",
    "    train_df[col] = train_df[col].astype(int)\n",
    "    test_df[col] = test_df[col].astype(int)\n",
    "    # valid_df[col] = valid_df[col].astype(int)\n",
    "    \n",
    "train_df = train_df.drop([\"season\"], axis=1)\n",
    "test_df = test_df.drop([\"season\"], axis=1)\n",
    "# valid_df = valid_df.drop([\"season\"], axis=1)\n",
    "\n",
    "test_df[\"winddirection\"].fillna(test_df[\"winddirection\"].mean(), inplace=True)\n",
    "# valid_df[\"winddirection\"].fillna(valid_df[\"winddirection\"].mean(), inplace=True)\n"
   ]
  },
  {
   "cell_type": "markdown",
   "metadata": {},
   "source": [
    "### ✅ Step 5: Prepare Features & Labels\n",
    "Split into X (features) and y (target):"
   ]
  },
  {
   "cell_type": "code",
   "execution_count": 15,
   "metadata": {
    "execution": {
     "iopub.execute_input": "2025-04-08T14:50:02.441723Z",
     "iopub.status.busy": "2025-04-08T14:50:02.441387Z",
     "iopub.status.idle": "2025-04-08T14:50:02.450075Z",
     "shell.execute_reply": "2025-04-08T14:50:02.448636Z",
     "shell.execute_reply.started": "2025-04-08T14:50:02.441698Z"
    }
   },
   "outputs": [],
   "source": [
    "X = train_df.drop(columns=['rainfall'])\n",
    "y = train_df['rainfall']\n"
   ]
  },
  {
   "cell_type": "code",
   "execution_count": 16,
   "metadata": {},
   "outputs": [],
   "source": [
    "# print(X.columns)"
   ]
  },
  {
   "cell_type": "markdown",
   "metadata": {},
   "source": [
    "### ✅ Step 6: Standardize Data\n",
    "Helps models perform better:"
   ]
  },
  {
   "cell_type": "code",
   "execution_count": 17,
   "metadata": {
    "execution": {
     "iopub.execute_input": "2025-04-08T14:50:07.425566Z",
     "iopub.status.busy": "2025-04-08T14:50:07.425252Z",
     "iopub.status.idle": "2025-04-08T14:50:07.453915Z",
     "shell.execute_reply": "2025-04-08T14:50:07.452716Z",
     "shell.execute_reply.started": "2025-04-08T14:50:07.425541Z"
    }
   },
   "outputs": [],
   "source": [
    "scaler = StandardScaler()\n",
    "X_scaled = scaler.fit_transform(X)\n"
   ]
  },
  {
   "cell_type": "markdown",
   "metadata": {},
   "source": [
    "### ✅ Step 7: Purged Cross Validation\n",
    "Use time-based splitting to prevent data leakage."
   ]
  },
  {
   "cell_type": "code",
   "execution_count": 18,
   "metadata": {
    "execution": {
     "iopub.execute_input": "2025-04-08T14:50:08.748143Z",
     "iopub.status.busy": "2025-04-08T14:50:08.747763Z",
     "iopub.status.idle": "2025-04-08T14:50:08.754046Z",
     "shell.execute_reply": "2025-04-08T14:50:08.752737Z",
     "shell.execute_reply.started": "2025-04-08T14:50:08.748116Z"
    }
   },
   "outputs": [],
   "source": [
    "def purged_cross_validation(X, y, n_splits=5, purge_length=1):\n",
    "    ts_split = TimeSeriesSplit(n_splits=n_splits)\n",
    "    for train_idx, val_idx in ts_split.split(X):\n",
    "        val_idx = val_idx[val_idx >= train_idx[-purge_length]]\n",
    "        X_train, X_val = X[train_idx], X[val_idx]\n",
    "        y_train, y_val = y[train_idx], y[val_idx]\n",
    "        yield X_train, X_val, y_train, y_val\n"
   ]
  },
  {
   "cell_type": "markdown",
   "metadata": {},
   "source": [
    "### ✅ Step 8: Define & Train Model\n",
    "You use a soft-voting ensemble of three strong models."
   ]
  },
  {
   "cell_type": "code",
   "execution_count": 19,
   "metadata": {
    "execution": {
     "iopub.execute_input": "2025-04-08T15:05:44.724521Z",
     "iopub.status.busy": "2025-04-08T15:05:44.724100Z",
     "iopub.status.idle": "2025-04-08T15:05:44.758950Z",
     "shell.execute_reply": "2025-04-08T15:05:44.757658Z",
     "shell.execute_reply.started": "2025-04-08T15:05:44.724490Z"
    }
   },
   "outputs": [],
   "source": [
    "# Define all tuned models\n",
    "l1 = LogisticRegression(penalty='l1', solver='saga', C=0.1, max_iter=1000)\n",
    "l2 = LogisticRegression(penalty='l2', solver='lbfgs', C=1.0, max_iter=1000)\n",
    "xgb = XGBClassifier(use_label_encoder=False, eval_metric='logloss', n_estimators=100, max_depth=6, learning_rate=0.1)\n",
    "cat = CatBoostClassifier(verbose=0, iterations=100, learning_rate=0.1, depth=6)\n",
    "svc = SVC(kernel='rbf', C=1, gamma=0.01, probability=True)\n",
    "rf = RandomForestClassifier(n_estimators=100, max_depth=10)\n",
    "et = ExtraTreesClassifier(n_estimators=100)\n",
    "ann = MLPClassifier(hidden_layer_sizes=(3, 5), activation='relu', solver='adam', max_iter=1000)\n",
    "\n",
    "# Define the voting classifier\n",
    "model = VotingClassifier(\n",
    "    estimators=[\n",
    "        ('l1', l1),\n",
    "        ('l2', l2),\n",
    "        ('xgb', xgb),\n",
    "        ('cat', cat),\n",
    "        ('svc', svc),\n",
    "        ('rf', rf),\n",
    "        ('et', et),\n",
    "        ('ann', ann)\n",
    "    ],\n",
    "    voting='soft'\n",
    ")\n"
   ]
  },
  {
   "cell_type": "code",
   "execution_count": 20,
   "metadata": {
    "execution": {
     "iopub.execute_input": "2025-04-08T15:06:24.425480Z",
     "iopub.status.busy": "2025-04-08T15:06:24.425115Z",
     "iopub.status.idle": "2025-04-08T15:06:37.615389Z",
     "shell.execute_reply": "2025-04-08T15:06:37.614167Z",
     "shell.execute_reply.started": "2025-04-08T15:06:24.425454Z"
    }
   },
   "outputs": [
    {
     "name": "stdout",
     "output_type": "stream",
     "text": [
      "\n",
      "--- Fold 1 ---\n",
      "Accuracy: 0.8328611898016998\n",
      "F1 Score: 0.8936936936936937\n",
      "AUC: 0.8740281224152191\n",
      "\n",
      "--- Fold 2 ---\n",
      "Accuracy: 0.8413597733711048\n",
      "F1 Score: 0.8985507246376812\n",
      "AUC: 0.9019684696455011\n",
      "\n",
      "--- Fold 3 ---\n",
      "Accuracy: 0.8980169971671388\n",
      "F1 Score: 0.9333333333333333\n",
      "AUC: 0.9119560625264047\n",
      "\n",
      "--- Fold 4 ---\n",
      "Accuracy: 0.8753541076487252\n",
      "F1 Score: 0.9197080291970803\n",
      "AUC: 0.9015755000885113\n",
      "\n",
      "--- Fold 5 ---\n",
      "Accuracy: 0.8838526912181303\n",
      "F1 Score: 0.9242144177449167\n",
      "AUC: 0.9065906210392902\n"
     ]
    }
   ],
   "source": [
    "# Assuming X_scaled and y are already defined\n",
    "for fold_idx, (X_train, X_val, y_train, y_val) in enumerate(purged_cross_validation(X_scaled, y)):\n",
    "    print(f\"\\n--- Fold {fold_idx + 1} ---\")\n",
    "    model.fit(X_train, y_train)\n",
    "    preds = model.predict(X_val)\n",
    "    probas = model.predict_proba(X_val)[:, 1]\n",
    "\n",
    "    acc = accuracy_score(y_val, preds)\n",
    "    f1 = f1_score(y_val, preds)\n",
    "    fpr, tpr, _ = roc_curve(y_val, probas)\n",
    "    roc_auc = auc(fpr, tpr)\n",
    "\n",
    "    print(\"Accuracy:\", acc)\n",
    "    print(\"F1 Score:\", f1)\n",
    "    print(\"AUC:\", roc_auc)\n"
   ]
  },
  {
   "cell_type": "code",
   "execution_count": 21,
   "metadata": {
    "execution": {
     "iopub.execute_input": "2025-04-08T15:07:42.888240Z",
     "iopub.status.busy": "2025-04-08T15:07:42.887676Z",
     "iopub.status.idle": "2025-04-08T15:07:43.141094Z",
     "shell.execute_reply": "2025-04-08T15:07:43.139690Z",
     "shell.execute_reply.started": "2025-04-08T15:07:42.888198Z"
    }
   },
   "outputs": [
    {
     "data": {
      "image/png": "[encoded data removed]",
      "text/plain": [
       "<Figure size 800x600 with 1 Axes>"
      ]
     },
     "metadata": {},
     "output_type": "display_data"
    }
   ],
   "source": [
    "\n",
    "roc_auc = auc(fpr, tpr)\n",
    "\n",
    "# Plotting the ROC Curve\n",
    "plt.figure(figsize=(8, 6))\n",
    "plt.plot(fpr, tpr, color='blue', lw=2, label=f'ROC Curve (AUC = {roc_auc:.4f})')\n",
    "plt.plot([0, 1], [0, 1], color='gray', linestyle='--')\n",
    "plt.xlabel('False Positive Rate')\n",
    "plt.ylabel('True Positive Rate')\n",
    "plt.title('Receiver Operating Characteristic (ROC) Curve')\n",
    "plt.legend(loc=\"lower right\")\n",
    "plt.grid()\n",
    "plt.show()\n"
   ]
  },
  {
   "cell_type": "markdown",
   "metadata": {},
   "source": [
    "### ✅ Step 9: Final Training & Submission\n"
   ]
  },
  {
   "cell_type": "code",
   "execution_count": 22,
   "metadata": {
    "execution": {
     "iopub.execute_input": "2025-04-08T15:16:42.246935Z",
     "iopub.status.busy": "2025-04-08T15:16:42.246544Z",
     "iopub.status.idle": "2025-04-08T15:16:47.554463Z",
     "shell.execute_reply": "2025-04-08T15:16:47.553050Z",
     "shell.execute_reply.started": "2025-04-08T15:16:42.246909Z"
    }
   },
   "outputs": [
    {
     "name": "stdout",
     "output_type": "stream",
     "text": [
      "              precision    recall  f1-score   support\n",
      "\n",
      "           0       0.78      0.53      0.63       100\n",
      "           1       0.87      0.96      0.91       338\n",
      "\n",
      "    accuracy                           0.86       438\n",
      "   macro avg       0.83      0.74      0.77       438\n",
      "weighted avg       0.85      0.86      0.85       438\n",
      "\n",
      "[[ 53  47]\n",
      " [ 15 323]]\n"
     ]
    }
   ],
   "source": [
    "# Scale\n",
    "# test_df['rainfall'] = test_df['rainfall'].str.lower().map({'yes': 1, 'no': 0})\n",
    "target = test_df['rainfall'].values\n",
    "del test_df['rainfall']\n",
    "# column_order = ['day', 'pressure', 'maxtemp', 'temparature', 'mintemp', 'dewpoint',\n",
    "#        'humidity', 'cloud', 'sunshine', 'winddirection', 'windspeed',\n",
    "#        'temp_range', 'dew_humidity_ratio', 'temp_dew_diff', 'cloud_sun_ratio',\n",
    "#        'low_sun', 'cloud_humidity', 'temp_humidity', 'season_num',\n",
    "#        'cloud_sun_season', 'cloud_sun_intersect', 'cloud_humidity_intersect',\n",
    "#        'humidity_dewpoint_intersect', 'sun_wind_intersect',\n",
    "#        'cloud_low_sun_intersect']\n",
    "# X_test_scaled = scaler.transform(test_df[column_order])\n",
    "X_test_scaled = scaler.transform(test_df)\n",
    "\n",
    "# Fit final model on full training data\n",
    "model.fit(X_scaled, y)\n",
    "\n",
    "# Ensure X_test_scaled has correct column names\n",
    "X_test_scaled = pd.DataFrame(X_test_scaled, columns=X.columns)\n",
    "\n",
    "# Predict probabilities\n",
    "# preds_test = model.predict_proba(X_test_scaled)[:, 1]\n",
    "\n",
    "predicted = model.predict(X_test_scaled)\n",
    "\n",
    "from sklearn import metrics\n",
    "print(metrics.classification_report(target, predicted))\n",
    "print(metrics.confusion_matrix(target, predicted))\n"
   ]
  },
  {
   "cell_type": "code",
   "execution_count": null,
   "metadata": {},
   "outputs": [],
   "source": []
  }
 ],
 "metadata": {
  "kaggle": {
   "accelerator": "none",
   "dataSources": [
    {
     "databundleVersionId": 11251744,
     "sourceId": 91714,
     "sourceType": "competition"
    },
    {
     "datasetId": 5651545,
     "sourceId": 9328134,
     "sourceType": "datasetVersion"
    }
   ],
   "dockerImageVersionId": 30918,
   "isGpuEnabled": false,
   "isInternetEnabled": true,
   "language": "python",
   "sourceType": "notebook"
  },
  "kernelspec": {
   "display_name": "Python [conda env:base] *",
   "language": "python",
   "name": "conda-base-py"
  },
  "language_info": {
   "codemirror_mode": {
    "name": "ipython",
    "version": 3
   },
   "file_extension": ".py",
   "mimetype": "text/x-python",
   "name": "python",
   "nbconvert_exporter": "python",
   "pygments_lexer": "ipython3",
   "version": "3.12.7"
  }
 },
 "nbformat": 4,
 "nbformat_minor": 4
}
