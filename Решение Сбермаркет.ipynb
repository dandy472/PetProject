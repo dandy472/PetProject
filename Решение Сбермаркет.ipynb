{
 "cells": [
  {
   "cell_type": "code",
   "execution_count": 1,
   "metadata": {},
   "outputs": [],
   "source": [
    "import pandas as pd\n",
    "import os\n",
    "import numpy as np\n",
    "from scipy import stats as st"
   ]
  },
  {
   "cell_type": "markdown",
   "metadata": {},
   "source": [
    "Прочитаем файлы для анализа"
   ]
  },
  {
   "cell_type": "code",
   "execution_count": 2,
   "metadata": {},
   "outputs": [],
   "source": [
    "ab_test = pd.read_csv('~\\Documents\\СберМаркет\\Career Factory-20210428T114851Z-001\\Career Factory\\AB Test Hit.csv', parse_dates=['hit_at'])\n",
    "add_to_card = pd.read_csv('~\\Documents\\СберМаркет\\Career Factory-20210428T114851Z-001\\Career Factory\\Add To Cart Clicked.csv', parse_dates=['timestamp'])\n",
    "address_change = pd.read_csv('~\\Documents\\СберМаркет\\Career Factory-20210428T114851Z-001\\Career Factory\\Address Change Initiated.csv', parse_dates=['timestamp'])\n",
    "message_not_zone= pd.read_csv('~\\Documents\\СберМаркет\\Career Factory-20210428T114851Z-001\\Career Factory\\Address Not In Delivery Zone.csv', parse_dates=['timestamp'])\n",
    "landing_viewed = pd.read_csv('~\\Documents\\СберМаркет\\Career Factory-20210428T114851Z-001\\Career Factory\\Landing Viewed.csv', parse_dates=['timestamp'])\n",
    "retailer = pd.read_csv('~\\Documents\\СберМаркет\\Career Factory-20210428T114851Z-001\\Career Factory\\Main Page Viewed.csv', parse_dates=['timestamp'])\n",
    "order = pd.read_csv('~\\Documents\\СберМаркет\\Career Factory-20210428T114851Z-001\\Career Factory\\Order Completed.csv', parse_dates=['timestamp'])\n",
    "product_add = pd.read_csv('~\\Documents\\СберМаркет\\Career Factory-20210428T114851Z-001\\Career Factory\\Product Added.csv', parse_dates=['timestamp'])\n",
    "shop_started = pd.read_csv('~\\Documents\\СберМаркет\\Career Factory-20210428T114851Z-001\\Career Factory\\Shop Celection Started.csv', parse_dates=['timestamp'])\n",
    "shop_selected = pd.read_csv('~\\Documents\\СберМаркет\\Career Factory-20210428T114851Z-001\\Career Factory\\Shop Selected.csv', parse_dates=['timestamp'])\n"
   ]
  },
  {
   "cell_type": "markdown",
   "metadata": {},
   "source": [
    "Ключом в каждой таблице будет id пользователя и дата посещени. Добавим информауию о дате в каждую таблицу"
   ]
  },
  {
   "cell_type": "code",
   "execution_count": 3,
   "metadata": {},
   "outputs": [
    {
     "name": "stderr",
     "output_type": "stream",
     "text": [
      "C:\\Users\\user\\Anaconda3\\1\\lib\\site-packages\\pandas\\core\\arrays\\datetimes.py:1088: UserWarning: Converting to PeriodArray/Index representation will drop timezone information.\n",
      "  warnings.warn(\n"
     ]
    }
   ],
   "source": [
    "ab_test['date']=ab_test.hit_at.dt.to_period('D')"
   ]
  },
  {
   "cell_type": "code",
   "execution_count": 4,
   "metadata": {},
   "outputs": [],
   "source": [
    "landing_viewed['date'] = landing_viewed.timestamp.dt.to_period('D') # добавлем столбец с датой без времени"
   ]
  },
  {
   "cell_type": "code",
   "execution_count": 5,
   "metadata": {},
   "outputs": [],
   "source": [
    "retailer['date'] = retailer.timestamp.dt.to_period('D')"
   ]
  },
  {
   "cell_type": "code",
   "execution_count": 6,
   "metadata": {},
   "outputs": [],
   "source": [
    "address_change['date'] = address_change.timestamp.dt.to_period('D')"
   ]
  },
  {
   "cell_type": "code",
   "execution_count": 7,
   "metadata": {},
   "outputs": [],
   "source": [
    "message_not_zone['date'] = message_not_zone.timestamp.dt.to_period('D')"
   ]
  },
  {
   "cell_type": "code",
   "execution_count": 8,
   "metadata": {},
   "outputs": [],
   "source": [
    "product_add['date'] = product_add.timestamp.dt.to_period('D')"
   ]
  },
  {
   "cell_type": "code",
   "execution_count": 9,
   "metadata": {},
   "outputs": [],
   "source": [
    "shop_started['date'] = shop_started.timestamp.dt.to_period('D')"
   ]
  },
  {
   "cell_type": "code",
   "execution_count": 10,
   "metadata": {},
   "outputs": [],
   "source": [
    "shop_selected['date'] = shop_selected.timestamp.dt.to_period('D')"
   ]
  },
  {
   "cell_type": "code",
   "execution_count": 11,
   "metadata": {},
   "outputs": [],
   "source": [
    "add_to_card['date'] = add_to_card.timestamp.dt.to_period('D')"
   ]
  },
  {
   "cell_type": "code",
   "execution_count": 12,
   "metadata": {},
   "outputs": [],
   "source": [
    "order['date'] = order.timestamp.dt.to_period('D')"
   ]
  },
  {
   "cell_type": "markdown",
   "metadata": {},
   "source": [
    "Данные по тому в какую группу попал клиент содержаться в таблице \"ab_test\". Проверим сколько клиентов попало в каждую группу и есть ли дубликаты."
   ]
  },
  {
   "cell_type": "code",
   "execution_count": 13,
   "metadata": {},
   "outputs": [
    {
     "name": "stdout",
     "output_type": "stream",
     "text": [
      "Всего пользователей в обеих группах: 501423\n",
      "Из отраженных в обеих группах: 513\n"
     ]
    }
   ],
   "source": [
    "client_group_count = ab_test.groupby(['anonymous_id', 'date', 'group'], as_index = False).agg({'hit_at': 'count'})\\\n",
    "                             .groupby(['anonymous_id', 'date'], as_index = False).agg({'group': 'count'})\\\n",
    "                             .rename(columns = {'group': 'group_count'})\n",
    "print('Всего пользователей в обеих группах: {}'.format(client_group_count.shape[0]))\n",
    "print('Из отраженных в обеих группах: {}'.format(client_group_count.query('group_count>1').shape[0]))"
   ]
  },
  {
   "cell_type": "markdown",
   "metadata": {},
   "source": [
    "Удалим дубликаты в таблице \"ab_test\""
   ]
  },
  {
   "cell_type": "code",
   "execution_count": 14,
   "metadata": {},
   "outputs": [],
   "source": [
    "ab_test_not_dup = client_group_count.query('group_count < 2')\\\n",
    "                              .merge(ab_test, on = ['date', 'anonymous_id'], how = 'left')\\\n",
    "                              .sort_values('hit_at')\\\n",
    "                              .drop_duplicates(subset=['date', 'anonymous_id'], keep='last')    "
   ]
  },
  {
   "cell_type": "code",
   "execution_count": 15,
   "metadata": {},
   "outputs": [
    {
     "data": {
      "text/plain": [
       "0"
      ]
     },
     "execution_count": 15,
     "metadata": {},
     "output_type": "execute_result"
    }
   ],
   "source": [
    "ab_test_not_dup.duplicated(subset=['date', 'anonymous_id']).sum()  "
   ]
  },
  {
   "cell_type": "code",
   "execution_count": null,
   "metadata": {},
   "outputs": [],
   "source": []
  },
  {
   "cell_type": "markdown",
   "metadata": {},
   "source": [
    "Мы оставили только один вариант столбца device_type, browser и os. Проверим на сколько это принципиально. (расчеты для проверки отличий в ОС пользователей, зафиксированных в один день несколько раз.)"
   ]
  },
  {
   "cell_type": "code",
   "execution_count": 19,
   "metadata": {},
   "outputs": [
    {
     "data": {
      "text/plain": [
       "mobile    -17\n",
       "desktop    17\n",
       "tablet      0\n",
       "console     0\n",
       "smarttv     0\n",
       "Name: device_type, dtype: int64"
      ]
     },
     "execution_count": 19,
     "metadata": {},
     "output_type": "execute_result"
    }
   ],
   "source": [
    "ab_test_not_dup_first = client_group_count.query('group_count < 2')\\\n",
    "                              .merge(ab_test, on = ['date', 'anonymous_id'], how = 'left')\\\n",
    "                              .sort_values('hit_at')\\\n",
    "                              .drop_duplicates(subset=['date', 'anonymous_id'], keep='first')\n",
    "ab_test_not_dup['device_type'].value_counts()-ab_test_not_dup_first['device_type'].value_counts()\n",
    "# Разница несущественная, для анализа будем учитывать последнюю зафиксированную ос, device_type и browser/"
   ]
  },
  {
   "cell_type": "code",
   "execution_count": null,
   "metadata": {},
   "outputs": [],
   "source": []
  },
  {
   "cell_type": "markdown",
   "metadata": {},
   "source": [
    "Проверим период эксперимента и количество участников в группах после удаления дубликатов"
   ]
  },
  {
   "cell_type": "code",
   "execution_count": 20,
   "metadata": {},
   "outputs": [
    {
     "data": {
      "text/html": [
       "<div>\n",
       "<style scoped>\n",
       "    .dataframe tbody tr th:only-of-type {\n",
       "        vertical-align: middle;\n",
       "    }\n",
       "\n",
       "    .dataframe tbody tr th {\n",
       "        vertical-align: top;\n",
       "    }\n",
       "\n",
       "    .dataframe thead th {\n",
       "        text-align: right;\n",
       "    }\n",
       "</style>\n",
       "<table border=\"1\" class=\"dataframe\">\n",
       "  <thead>\n",
       "    <tr style=\"text-align: right;\">\n",
       "      <th></th>\n",
       "      <th>date</th>\n",
       "      <th>address_first</th>\n",
       "      <th>default</th>\n",
       "      <th>All</th>\n",
       "    </tr>\n",
       "  </thead>\n",
       "  <tbody>\n",
       "    <tr>\n",
       "      <th>0</th>\n",
       "      <td>2020-11-26</td>\n",
       "      <td>3722</td>\n",
       "      <td>29866</td>\n",
       "      <td>33588</td>\n",
       "    </tr>\n",
       "    <tr>\n",
       "      <th>1</th>\n",
       "      <td>2020-11-27</td>\n",
       "      <td>3630</td>\n",
       "      <td>29383</td>\n",
       "      <td>33013</td>\n",
       "    </tr>\n",
       "    <tr>\n",
       "      <th>2</th>\n",
       "      <td>2020-11-28</td>\n",
       "      <td>3659</td>\n",
       "      <td>29138</td>\n",
       "      <td>32797</td>\n",
       "    </tr>\n",
       "    <tr>\n",
       "      <th>3</th>\n",
       "      <td>2020-11-29</td>\n",
       "      <td>3388</td>\n",
       "      <td>26475</td>\n",
       "      <td>29863</td>\n",
       "    </tr>\n",
       "    <tr>\n",
       "      <th>4</th>\n",
       "      <td>2020-11-30</td>\n",
       "      <td>3155</td>\n",
       "      <td>25318</td>\n",
       "      <td>28473</td>\n",
       "    </tr>\n",
       "    <tr>\n",
       "      <th>5</th>\n",
       "      <td>2020-12-01</td>\n",
       "      <td>3118</td>\n",
       "      <td>24246</td>\n",
       "      <td>27364</td>\n",
       "    </tr>\n",
       "    <tr>\n",
       "      <th>6</th>\n",
       "      <td>2020-12-02</td>\n",
       "      <td>3650</td>\n",
       "      <td>28357</td>\n",
       "      <td>32007</td>\n",
       "    </tr>\n",
       "    <tr>\n",
       "      <th>7</th>\n",
       "      <td>2020-12-03</td>\n",
       "      <td>3698</td>\n",
       "      <td>29821</td>\n",
       "      <td>33519</td>\n",
       "    </tr>\n",
       "    <tr>\n",
       "      <th>8</th>\n",
       "      <td>2020-12-04</td>\n",
       "      <td>3796</td>\n",
       "      <td>30911</td>\n",
       "      <td>34707</td>\n",
       "    </tr>\n",
       "    <tr>\n",
       "      <th>9</th>\n",
       "      <td>2020-12-05</td>\n",
       "      <td>4122</td>\n",
       "      <td>32970</td>\n",
       "      <td>37092</td>\n",
       "    </tr>\n",
       "    <tr>\n",
       "      <th>10</th>\n",
       "      <td>2020-12-06</td>\n",
       "      <td>4104</td>\n",
       "      <td>33275</td>\n",
       "      <td>37379</td>\n",
       "    </tr>\n",
       "    <tr>\n",
       "      <th>11</th>\n",
       "      <td>2020-12-07</td>\n",
       "      <td>3851</td>\n",
       "      <td>31035</td>\n",
       "      <td>34886</td>\n",
       "    </tr>\n",
       "    <tr>\n",
       "      <th>12</th>\n",
       "      <td>2020-12-08</td>\n",
       "      <td>3973</td>\n",
       "      <td>31143</td>\n",
       "      <td>35116</td>\n",
       "    </tr>\n",
       "    <tr>\n",
       "      <th>13</th>\n",
       "      <td>2020-12-09</td>\n",
       "      <td>3969</td>\n",
       "      <td>31675</td>\n",
       "      <td>35644</td>\n",
       "    </tr>\n",
       "    <tr>\n",
       "      <th>14</th>\n",
       "      <td>2020-12-10</td>\n",
       "      <td>3872</td>\n",
       "      <td>31590</td>\n",
       "      <td>35462</td>\n",
       "    </tr>\n",
       "    <tr>\n",
       "      <th>15</th>\n",
       "      <td>All</td>\n",
       "      <td>55707</td>\n",
       "      <td>445203</td>\n",
       "      <td>500910</td>\n",
       "    </tr>\n",
       "  </tbody>\n",
       "</table>\n",
       "</div>"
      ],
      "text/plain": [
       "          date  address_first  default     All\n",
       "0   2020-11-26           3722    29866   33588\n",
       "1   2020-11-27           3630    29383   33013\n",
       "2   2020-11-28           3659    29138   32797\n",
       "3   2020-11-29           3388    26475   29863\n",
       "4   2020-11-30           3155    25318   28473\n",
       "5   2020-12-01           3118    24246   27364\n",
       "6   2020-12-02           3650    28357   32007\n",
       "7   2020-12-03           3698    29821   33519\n",
       "8   2020-12-04           3796    30911   34707\n",
       "9   2020-12-05           4122    32970   37092\n",
       "10  2020-12-06           4104    33275   37379\n",
       "11  2020-12-07           3851    31035   34886\n",
       "12  2020-12-08           3973    31143   35116\n",
       "13  2020-12-09           3969    31675   35644\n",
       "14  2020-12-10           3872    31590   35462\n",
       "15         All          55707   445203  500910"
      ]
     },
     "execution_count": 20,
     "metadata": {},
     "output_type": "execute_result"
    }
   ],
   "source": [
    "pd.pivot_table(ab_test_not_dup, values='group_count', index='date',\n",
    "                    columns='group', aggfunc= 'count', margins=True).reset_index().rename_axis(None, axis=1)\n",
    "#, margins=True"
   ]
  },
  {
   "cell_type": "code",
   "execution_count": null,
   "metadata": {},
   "outputs": [],
   "source": []
  },
  {
   "cell_type": "markdown",
   "metadata": {},
   "source": [
    "Соберем в один файл информацию по количеству посещений страниц каждым пользователем"
   ]
  },
  {
   "cell_type": "code",
   "execution_count": 21,
   "metadata": {},
   "outputs": [],
   "source": [
    "landing_count = landing_viewed.groupby(['date','anonymous_id'], as_index = False).agg({'timestamp': 'count'})\\\n",
    "                        .rename(columns = {'timestamp': 'count_landing'})\\\n",
    "                        .query('date < \"2020-12-11\" and date >= \"2020-11-26\"')\n"
   ]
  },
  {
   "cell_type": "code",
   "execution_count": 22,
   "metadata": {},
   "outputs": [],
   "source": [
    "retailer_count = retailer.groupby(['date','anonymous_id'], as_index = False).agg({'timestamp': 'count'})\\\n",
    "                        .rename(columns = {'timestamp': 'count_mail'})\\\n",
    "                        .query('date < \"2020-12-11\" and date >= \"2020-11-26\"')\n"
   ]
  },
  {
   "cell_type": "code",
   "execution_count": 23,
   "metadata": {},
   "outputs": [],
   "source": [
    "address_change_count = address_change.groupby(['date','anonymous_id'], as_index = False).agg({'timestamp': 'count'})\\\n",
    "                        .rename(columns = {'timestamp': 'count_address_change'})\\\n",
    "                        .query('date < \"2020-12-11\" and date >= \"2020-11-26\"')\n"
   ]
  },
  {
   "cell_type": "code",
   "execution_count": 24,
   "metadata": {},
   "outputs": [],
   "source": [
    "not_zone_count = message_not_zone.groupby(['date','anonymous_id'], as_index = False).agg({'timestamp': 'count'})\\\n",
    "                        .rename(columns = {'timestamp': 'count_not_zone'})\\\n",
    "                        .query('date < \"2020-12-11\" and date >= \"2020-11-26\"')\n"
   ]
  },
  {
   "cell_type": "code",
   "execution_count": 25,
   "metadata": {},
   "outputs": [],
   "source": [
    "product_add_count = product_add.groupby(['date','anonymous_id'], as_index = False).agg({'timestamp': 'count'})\\\n",
    "                        .rename(columns = {'timestamp': 'count_product_add'})\\\n",
    "                        .query('date < \"2020-12-11\" and date >= \"2020-11-26\"')\n"
   ]
  },
  {
   "cell_type": "code",
   "execution_count": 26,
   "metadata": {},
   "outputs": [],
   "source": [
    "shop_started_count = shop_started.groupby(['date','anonymous_id'], as_index = False).agg({'timestamp': 'count'})\\\n",
    "                        .rename(columns = {'timestamp': 'count_shop_started'})\\\n",
    "                        .query('date < \"2020-12-11\" and date >= \"2020-11-26\"')"
   ]
  },
  {
   "cell_type": "code",
   "execution_count": 27,
   "metadata": {},
   "outputs": [],
   "source": [
    "shop_selected_count = shop_selected.groupby(['date','anonymous_id'], as_index = False).agg({'timestamp': 'count'})\\\n",
    "                        .rename(columns = {'timestamp': 'count_shop_selected'})\\\n",
    "                        .query('date < \"2020-12-11\" and date >= \"2020-11-26\"')\n"
   ]
  },
  {
   "cell_type": "code",
   "execution_count": 28,
   "metadata": {},
   "outputs": [],
   "source": [
    "add_to_card_count = add_to_card.groupby(['date','anonymous_id'], as_index = False).agg({'timestamp': 'count'})\\\n",
    "                        .rename(columns = {'timestamp': 'count_add_to_card'})\\\n",
    "                        .query('date < \"2020-12-11\" and date >= \"2020-11-26\"')\n"
   ]
  },
  {
   "cell_type": "code",
   "execution_count": 29,
   "metadata": {},
   "outputs": [],
   "source": [
    "order_count = order.groupby(['date','anonymous_id'], as_index = False).agg({'timestamp': 'count'})\\\n",
    "                        .rename(columns = {'timestamp': 'count_order'})\\\n",
    "                        .query('date < \"2020-12-11\" and date >= \"2020-11-26\"')\n"
   ]
  },
  {
   "cell_type": "code",
   "execution_count": 30,
   "metadata": {},
   "outputs": [],
   "source": [
    "total_data = (\n",
    "    ab_test_not_dup_first.merge(landing_count, on = ['date', 'anonymous_id'], how = 'left')\n",
    "                         .merge(retailer_count, on = ['date', 'anonymous_id'], how = 'left')\n",
    "                         .merge(address_change_count, on = ['date', 'anonymous_id'], how = 'left')\n",
    "                         .merge(not_zone_count, on = ['date', 'anonymous_id'], how = 'left')\n",
    "                         .merge(product_add_count, on = ['date', 'anonymous_id'], how = 'left')\n",
    "                         .merge(shop_started_count, on = ['date', 'anonymous_id'], how = 'left')\n",
    "                         .merge(shop_selected_count, on = ['date', 'anonymous_id'], how = 'left')    \n",
    "                         .merge(add_to_card_count, on = ['date', 'anonymous_id'], how = 'left')\n",
    "                         .merge(order_count, on = ['date', 'anonymous_id'], how = 'left')    \n",
    ")"
   ]
  },
  {
   "cell_type": "code",
   "execution_count": 31,
   "metadata": {},
   "outputs": [],
   "source": [
    "total_data.fillna(0, inplace=True)"
   ]
  },
  {
   "cell_type": "code",
   "execution_count": 32,
   "metadata": {},
   "outputs": [
    {
     "data": {
      "text/html": [
       "<div>\n",
       "<style scoped>\n",
       "    .dataframe tbody tr th:only-of-type {\n",
       "        vertical-align: middle;\n",
       "    }\n",
       "\n",
       "    .dataframe tbody tr th {\n",
       "        vertical-align: top;\n",
       "    }\n",
       "\n",
       "    .dataframe thead th {\n",
       "        text-align: right;\n",
       "    }\n",
       "</style>\n",
       "<table border=\"1\" class=\"dataframe\">\n",
       "  <thead>\n",
       "    <tr style=\"text-align: right;\">\n",
       "      <th></th>\n",
       "      <th>anonymous_id</th>\n",
       "      <th>date</th>\n",
       "      <th>group_count</th>\n",
       "      <th>hit_at</th>\n",
       "      <th>group</th>\n",
       "      <th>device_type</th>\n",
       "      <th>browser</th>\n",
       "      <th>os</th>\n",
       "      <th>count_landing</th>\n",
       "      <th>count_mail</th>\n",
       "      <th>count_address_change</th>\n",
       "      <th>count_not_zone</th>\n",
       "      <th>count_product_add</th>\n",
       "      <th>count_shop_started</th>\n",
       "      <th>count_shop_selected</th>\n",
       "      <th>count_add_to_card</th>\n",
       "      <th>count_order</th>\n",
       "    </tr>\n",
       "  </thead>\n",
       "  <tbody>\n",
       "    <tr>\n",
       "      <th>500905</th>\n",
       "      <td>5e518207-82fb-48b9-9764-c167e84dc57c</td>\n",
       "      <td>2020-12-10</td>\n",
       "      <td>1</td>\n",
       "      <td>2020-12-10 23:59:18.618000+00:00</td>\n",
       "      <td>default</td>\n",
       "      <td>desktop</td>\n",
       "      <td>Chrome</td>\n",
       "      <td>Linux</td>\n",
       "      <td>1.0</td>\n",
       "      <td>0.0</td>\n",
       "      <td>0.0</td>\n",
       "      <td>0.0</td>\n",
       "      <td>0.0</td>\n",
       "      <td>0.0</td>\n",
       "      <td>0.0</td>\n",
       "      <td>0.0</td>\n",
       "      <td>0.0</td>\n",
       "    </tr>\n",
       "    <tr>\n",
       "      <th>500906</th>\n",
       "      <td>90b60ec1-4d0e-4fab-8cf0-6c5c128ea5ec</td>\n",
       "      <td>2020-12-10</td>\n",
       "      <td>1</td>\n",
       "      <td>2020-12-10 23:59:35.345000+00:00</td>\n",
       "      <td>default</td>\n",
       "      <td>mobile</td>\n",
       "      <td>Mobile Safari</td>\n",
       "      <td>iOS</td>\n",
       "      <td>0.0</td>\n",
       "      <td>0.0</td>\n",
       "      <td>0.0</td>\n",
       "      <td>0.0</td>\n",
       "      <td>0.0</td>\n",
       "      <td>0.0</td>\n",
       "      <td>0.0</td>\n",
       "      <td>0.0</td>\n",
       "      <td>0.0</td>\n",
       "    </tr>\n",
       "    <tr>\n",
       "      <th>500907</th>\n",
       "      <td>454c7515-0a58-4822-a431-d271e91da190</td>\n",
       "      <td>2020-12-10</td>\n",
       "      <td>1</td>\n",
       "      <td>2020-12-10 23:59:36.293000+00:00</td>\n",
       "      <td>default</td>\n",
       "      <td>desktop</td>\n",
       "      <td>Chrome</td>\n",
       "      <td>Linux</td>\n",
       "      <td>1.0</td>\n",
       "      <td>0.0</td>\n",
       "      <td>0.0</td>\n",
       "      <td>0.0</td>\n",
       "      <td>0.0</td>\n",
       "      <td>0.0</td>\n",
       "      <td>0.0</td>\n",
       "      <td>0.0</td>\n",
       "      <td>0.0</td>\n",
       "    </tr>\n",
       "    <tr>\n",
       "      <th>500908</th>\n",
       "      <td>ad4b596b-88d3-41e9-969a-7d988039405b</td>\n",
       "      <td>2020-12-10</td>\n",
       "      <td>1</td>\n",
       "      <td>2020-12-10 23:59:48.461000+00:00</td>\n",
       "      <td>default</td>\n",
       "      <td>desktop</td>\n",
       "      <td>Chrome</td>\n",
       "      <td>Windows</td>\n",
       "      <td>0.0</td>\n",
       "      <td>1.0</td>\n",
       "      <td>0.0</td>\n",
       "      <td>0.0</td>\n",
       "      <td>0.0</td>\n",
       "      <td>0.0</td>\n",
       "      <td>0.0</td>\n",
       "      <td>0.0</td>\n",
       "      <td>0.0</td>\n",
       "    </tr>\n",
       "    <tr>\n",
       "      <th>500909</th>\n",
       "      <td>49ec0fa2-3470-4bad-b2ec-87341eeec530</td>\n",
       "      <td>2020-12-10</td>\n",
       "      <td>1</td>\n",
       "      <td>2020-12-10 23:59:57.308000+00:00</td>\n",
       "      <td>default</td>\n",
       "      <td>mobile</td>\n",
       "      <td>Chrome</td>\n",
       "      <td>Android</td>\n",
       "      <td>1.0</td>\n",
       "      <td>0.0</td>\n",
       "      <td>0.0</td>\n",
       "      <td>0.0</td>\n",
       "      <td>0.0</td>\n",
       "      <td>0.0</td>\n",
       "      <td>0.0</td>\n",
       "      <td>0.0</td>\n",
       "      <td>0.0</td>\n",
       "    </tr>\n",
       "  </tbody>\n",
       "</table>\n",
       "</div>"
      ],
      "text/plain": [
       "                                anonymous_id        date  group_count  \\\n",
       "500905  5e518207-82fb-48b9-9764-c167e84dc57c  2020-12-10            1   \n",
       "500906  90b60ec1-4d0e-4fab-8cf0-6c5c128ea5ec  2020-12-10            1   \n",
       "500907  454c7515-0a58-4822-a431-d271e91da190  2020-12-10            1   \n",
       "500908  ad4b596b-88d3-41e9-969a-7d988039405b  2020-12-10            1   \n",
       "500909  49ec0fa2-3470-4bad-b2ec-87341eeec530  2020-12-10            1   \n",
       "\n",
       "                                 hit_at    group device_type        browser  \\\n",
       "500905 2020-12-10 23:59:18.618000+00:00  default     desktop         Chrome   \n",
       "500906 2020-12-10 23:59:35.345000+00:00  default      mobile  Mobile Safari   \n",
       "500907 2020-12-10 23:59:36.293000+00:00  default     desktop         Chrome   \n",
       "500908 2020-12-10 23:59:48.461000+00:00  default     desktop         Chrome   \n",
       "500909 2020-12-10 23:59:57.308000+00:00  default      mobile         Chrome   \n",
       "\n",
       "             os  count_landing  count_mail  count_address_change  \\\n",
       "500905    Linux            1.0         0.0                   0.0   \n",
       "500906      iOS            0.0         0.0                   0.0   \n",
       "500907    Linux            1.0         0.0                   0.0   \n",
       "500908  Windows            0.0         1.0                   0.0   \n",
       "500909  Android            1.0         0.0                   0.0   \n",
       "\n",
       "        count_not_zone  count_product_add  count_shop_started  \\\n",
       "500905             0.0                0.0                 0.0   \n",
       "500906             0.0                0.0                 0.0   \n",
       "500907             0.0                0.0                 0.0   \n",
       "500908             0.0                0.0                 0.0   \n",
       "500909             0.0                0.0                 0.0   \n",
       "\n",
       "        count_shop_selected  count_add_to_card  count_order  \n",
       "500905                  0.0                0.0          0.0  \n",
       "500906                  0.0                0.0          0.0  \n",
       "500907                  0.0                0.0          0.0  \n",
       "500908                  0.0                0.0          0.0  \n",
       "500909                  0.0                0.0          0.0  "
      ]
     },
     "execution_count": 32,
     "metadata": {},
     "output_type": "execute_result"
    }
   ],
   "source": [
    "total_data.tail()"
   ]
  },
  {
   "cell_type": "code",
   "execution_count": 33,
   "metadata": {},
   "outputs": [
    {
     "data": {
      "text/html": [
       "<div>\n",
       "<style scoped>\n",
       "    .dataframe tbody tr th:only-of-type {\n",
       "        vertical-align: middle;\n",
       "    }\n",
       "\n",
       "    .dataframe tbody tr th {\n",
       "        vertical-align: top;\n",
       "    }\n",
       "\n",
       "    .dataframe thead th {\n",
       "        text-align: right;\n",
       "    }\n",
       "</style>\n",
       "<table border=\"1\" class=\"dataframe\">\n",
       "  <thead>\n",
       "    <tr style=\"text-align: right;\">\n",
       "      <th></th>\n",
       "      <th>anonymous_id</th>\n",
       "    </tr>\n",
       "    <tr>\n",
       "      <th>group</th>\n",
       "      <th></th>\n",
       "    </tr>\n",
       "  </thead>\n",
       "  <tbody>\n",
       "    <tr>\n",
       "      <th>address_first</th>\n",
       "      <td>55707</td>\n",
       "    </tr>\n",
       "    <tr>\n",
       "      <th>default</th>\n",
       "      <td>445203</td>\n",
       "    </tr>\n",
       "  </tbody>\n",
       "</table>\n",
       "</div>"
      ],
      "text/plain": [
       "               anonymous_id\n",
       "group                      \n",
       "address_first         55707\n",
       "default              445203"
      ]
     },
     "execution_count": 33,
     "metadata": {},
     "output_type": "execute_result"
    }
   ],
   "source": [
    "total_data.groupby('group').agg({'anonymous_id': 'count'})"
   ]
  },
  {
   "cell_type": "markdown",
   "metadata": {},
   "source": [
    "Для расчета метрик будет учитывать данные по пользователям, посетившим страницу лендинга"
   ]
  },
  {
   "cell_type": "code",
   "execution_count": 35,
   "metadata": {},
   "outputs": [
    {
     "data": {
      "text/html": [
       "<div>\n",
       "<style scoped>\n",
       "    .dataframe tbody tr th:only-of-type {\n",
       "        vertical-align: middle;\n",
       "    }\n",
       "\n",
       "    .dataframe tbody tr th {\n",
       "        vertical-align: top;\n",
       "    }\n",
       "\n",
       "    .dataframe thead th {\n",
       "        text-align: right;\n",
       "    }\n",
       "</style>\n",
       "<table border=\"1\" class=\"dataframe\">\n",
       "  <thead>\n",
       "    <tr style=\"text-align: right;\">\n",
       "      <th></th>\n",
       "      <th>group</th>\n",
       "      <th>count</th>\n",
       "    </tr>\n",
       "  </thead>\n",
       "  <tbody>\n",
       "    <tr>\n",
       "      <th>0</th>\n",
       "      <td>address_first</td>\n",
       "      <td>23665</td>\n",
       "    </tr>\n",
       "    <tr>\n",
       "      <th>1</th>\n",
       "      <td>default</td>\n",
       "      <td>188045</td>\n",
       "    </tr>\n",
       "  </tbody>\n",
       "</table>\n",
       "</div>"
      ],
      "text/plain": [
       "           group   count\n",
       "0  address_first   23665\n",
       "1        default  188045"
      ]
     },
     "execution_count": 35,
     "metadata": {},
     "output_type": "execute_result"
    }
   ],
   "source": [
    "total_data.query('count_landing>0').groupby('group', as_index = False).agg({'anonymous_id': 'count'})\\\n",
    "                                    .rename(columns = {'anonymous_id': 'count'})"
   ]
  },
  {
   "cell_type": "code",
   "execution_count": 36,
   "metadata": {},
   "outputs": [
    {
     "data": {
      "text/plain": [
       "211710"
      ]
     },
     "execution_count": 36,
     "metadata": {},
     "output_type": "execute_result"
    }
   ],
   "source": [
    "188045 + 23665"
   ]
  },
  {
   "cell_type": "markdown",
   "metadata": {},
   "source": [
    "Добавим столбцы, характиризующие наличие отказа\n",
    "bounce - True: не было посещение ни одной страницы, не считая лендинг\n",
    "bounce_shop - True: не было посещение ни одной страницы, не считая лендинг и ввод адреса\n",
    "\n",
    "и наличие факта добавления в корзину\n",
    "product_add_ok - True: было добавление в корзину"
   ]
  },
  {
   "cell_type": "code",
   "execution_count": 37,
   "metadata": {},
   "outputs": [],
   "source": [
    "total_data['bounce']=(total_data['count_mail']\n",
    "                                 +total_data['count_address_change']\n",
    "                                 +total_data['count_product_add']                      \n",
    "                                 +total_data['count_shop_started']\n",
    "                                 +total_data['count_shop_selected']\n",
    "                                 +total_data['count_add_to_card']\n",
    "                                 +total_data['count_order']\n",
    "                                )==0"
   ]
  },
  {
   "cell_type": "code",
   "execution_count": 38,
   "metadata": {},
   "outputs": [],
   "source": [
    "total_data['bounce_shop']=(total_data['count_mail']\n",
    "                                 +total_data['count_product_add']\n",
    "                                 +total_data['count_shop_started']\n",
    "                                 +total_data['count_shop_selected']\n",
    "                                 +total_data['count_order']\n",
    "                                )==0"
   ]
  },
  {
   "cell_type": "code",
   "execution_count": 39,
   "metadata": {},
   "outputs": [],
   "source": [
    "total_data['product_add_ok']=total_data['count_product_add']!=0"
   ]
  },
  {
   "cell_type": "markdown",
   "metadata": {},
   "source": [
    "#### Расчет показателя bounce_rate (любая активность со страницы лендинга)"
   ]
  },
  {
   "cell_type": "code",
   "execution_count": 40,
   "metadata": {},
   "outputs": [
    {
     "data": {
      "text/html": [
       "<div>\n",
       "<style scoped>\n",
       "    .dataframe tbody tr th:only-of-type {\n",
       "        vertical-align: middle;\n",
       "    }\n",
       "\n",
       "    .dataframe tbody tr th {\n",
       "        vertical-align: top;\n",
       "    }\n",
       "\n",
       "    .dataframe thead th {\n",
       "        text-align: right;\n",
       "    }\n",
       "</style>\n",
       "<table border=\"1\" class=\"dataframe\">\n",
       "  <thead>\n",
       "    <tr style=\"text-align: right;\">\n",
       "      <th>device_type</th>\n",
       "      <th>console</th>\n",
       "      <th>desktop</th>\n",
       "      <th>mobile</th>\n",
       "      <th>smarttv</th>\n",
       "      <th>tablet</th>\n",
       "      <th>All</th>\n",
       "    </tr>\n",
       "    <tr>\n",
       "      <th>group</th>\n",
       "      <th></th>\n",
       "      <th></th>\n",
       "      <th></th>\n",
       "      <th></th>\n",
       "      <th></th>\n",
       "      <th></th>\n",
       "    </tr>\n",
       "  </thead>\n",
       "  <tbody>\n",
       "    <tr>\n",
       "      <th>address_first</th>\n",
       "      <td>100.0</td>\n",
       "      <td>54.1</td>\n",
       "      <td>51.8</td>\n",
       "      <td>0.0</td>\n",
       "      <td>65.4</td>\n",
       "      <td>53.1</td>\n",
       "    </tr>\n",
       "    <tr>\n",
       "      <th>default</th>\n",
       "      <td>62.5</td>\n",
       "      <td>54.0</td>\n",
       "      <td>54.2</td>\n",
       "      <td>57.1</td>\n",
       "      <td>60.7</td>\n",
       "      <td>54.2</td>\n",
       "    </tr>\n",
       "    <tr>\n",
       "      <th>All</th>\n",
       "      <td>66.7</td>\n",
       "      <td>54.0</td>\n",
       "      <td>53.9</td>\n",
       "      <td>50.0</td>\n",
       "      <td>61.3</td>\n",
       "      <td>54.1</td>\n",
       "    </tr>\n",
       "  </tbody>\n",
       "</table>\n",
       "</div>"
      ],
      "text/plain": [
       "device_type    console  desktop  mobile  smarttv  tablet   All\n",
       "group                                                         \n",
       "address_first    100.0     54.1    51.8      0.0    65.4  53.1\n",
       "default           62.5     54.0    54.2     57.1    60.7  54.2\n",
       "All               66.7     54.0    53.9     50.0    61.3  54.1"
      ]
     },
     "execution_count": 40,
     "metadata": {},
     "output_type": "execute_result"
    }
   ],
   "source": [
    "bounce_rate_table = pd.pivot_table(total_data.query('count_landing>0'), values='bounce', index=['group'],\n",
    "                    columns=['device_type'], aggfunc=np.mean, margins=True).round(3)*100\n",
    "bounce_rate_table"
   ]
  },
  {
   "cell_type": "code",
   "execution_count": 41,
   "metadata": {},
   "outputs": [
    {
     "name": "stdout",
     "output_type": "stream",
     "text": [
      "bounce rate default = 54.2%\n"
     ]
    }
   ],
   "source": [
    "bounce_rate_default = total_data.query('bounce==True and count_landing > 0 and group == \"default\"').bounce.count()/\\\n",
    "                total_data.query('group == \"default\" and count_landing > 0').bounce.count()\n",
    "# проверяем что в таблице корректные данные\n",
    "print ('bounce rate default = {:.1%}'.format(bounce_rate_default))"
   ]
  },
  {
   "cell_type": "code",
   "execution_count": 42,
   "metadata": {},
   "outputs": [
    {
     "name": "stdout",
     "output_type": "stream",
     "text": [
      "bounce rate test = 53.1%\n"
     ]
    }
   ],
   "source": [
    "bounce_rate_test = total_data.query('bounce==True and count_landing > 0 and group == \"address_first\"').bounce.count()/\\\n",
    "                total_data.query('group == \"address_first\" and count_landing > 0 ').bounce.count()\n",
    "# проверяем что в таблице корректные данные\n",
    "print ('bounce rate test = {:.1%}'.format(bounce_rate_test))"
   ]
  },
  {
   "cell_type": "markdown",
   "metadata": {},
   "source": [
    "Нулевая гипотеза Н0: bounce rate в тестовой и контрольной группе равны. Альтернативная гипотеза H1: bounce rate в тестовой группе и контрольной  группах отличаются"
   ]
  },
  {
   "cell_type": "code",
   "execution_count": 43,
   "metadata": {},
   "outputs": [
    {
     "name": "stdout",
     "output_type": "stream",
     "text": [
      "p-значение: Ttest_indResult(statistic=3.2015507744943483, pvalue=0.0013671016324971004)\n",
      "Отвергаем нулевую гипотезу.\n"
     ]
    }
   ],
   "source": [
    "alpha = 0.05\n",
    "clients_default = total_data.query('group == \"default\" and count_landing > 0').bounce\n",
    "clients_test = total_data.query('group == \"address_first\" and count_landing > 0').bounce\n",
    "result = st.ttest_ind(clients_default, clients_test)\n",
    "print('p-значение:', result)\n",
    "if (result.pvalue < alpha):\n",
    "    print('Отвергаем нулевую гипотезу.')\n",
    "else:\n",
    "    print('Не получилось отвергнуть нулевую гипотезу')"
   ]
  },
  {
   "cell_type": "markdown",
   "metadata": {},
   "source": [
    "Нулевая гипотеза Н0: bounce rate при использовании задоново устройства в тестовой и контрольной группе равны. Альтернативная гипотеза H1: bounce rate в тестовой группе и контрольной  группах отличаются"
   ]
  },
  {
   "cell_type": "code",
   "execution_count": 44,
   "metadata": {},
   "outputs": [
    {
     "name": "stdout",
     "output_type": "stream",
     "text": [
      "p-значение: Ttest_indResult(statistic=-0.23400706819848385, pvalue=0.8149799575180849)\n",
      "Не получилось отвергнуть нулевую гипотезу\n"
     ]
    }
   ],
   "source": [
    "device_type = \"desktop\"\n",
    "alpha = 0.05\n",
    "clients_default = total_data.query('group == \"default\" and count_landing > 0 and device_type == @device_type').bounce\n",
    "clients_test = total_data.query('group == \"address_first\" and count_landing > 0 and  device_type == @device_type').bounce\n",
    "result = st.ttest_ind(clients_default, clients_test)\n",
    "print('p-значение:', result)\n",
    "if (result.pvalue < alpha):\n",
    "    print('Отвергаем нулевую гипотезу.')\n",
    "else:\n",
    "    print('Не получилось отвергнуть нулевую гипотезу')"
   ]
  },
  {
   "cell_type": "markdown",
   "metadata": {},
   "source": [
    "#### Расчет показателя конверсия в корзину "
   ]
  },
  {
   "cell_type": "code",
   "execution_count": 45,
   "metadata": {},
   "outputs": [
    {
     "data": {
      "text/html": [
       "<div>\n",
       "<style scoped>\n",
       "    .dataframe tbody tr th:only-of-type {\n",
       "        vertical-align: middle;\n",
       "    }\n",
       "\n",
       "    .dataframe tbody tr th {\n",
       "        vertical-align: top;\n",
       "    }\n",
       "\n",
       "    .dataframe thead th {\n",
       "        text-align: right;\n",
       "    }\n",
       "</style>\n",
       "<table border=\"1\" class=\"dataframe\">\n",
       "  <thead>\n",
       "    <tr style=\"text-align: right;\">\n",
       "      <th>device_type</th>\n",
       "      <th>console</th>\n",
       "      <th>desktop</th>\n",
       "      <th>mobile</th>\n",
       "      <th>smarttv</th>\n",
       "      <th>tablet</th>\n",
       "      <th>All</th>\n",
       "    </tr>\n",
       "    <tr>\n",
       "      <th>group</th>\n",
       "      <th></th>\n",
       "      <th></th>\n",
       "      <th></th>\n",
       "      <th></th>\n",
       "      <th></th>\n",
       "      <th></th>\n",
       "    </tr>\n",
       "  </thead>\n",
       "  <tbody>\n",
       "    <tr>\n",
       "      <th>address_first</th>\n",
       "      <td>0.0</td>\n",
       "      <td>21.0</td>\n",
       "      <td>9.2</td>\n",
       "      <td>0.0</td>\n",
       "      <td>8.9</td>\n",
       "      <td>14.8</td>\n",
       "    </tr>\n",
       "    <tr>\n",
       "      <th>default</th>\n",
       "      <td>0.0</td>\n",
       "      <td>19.9</td>\n",
       "      <td>6.1</td>\n",
       "      <td>28.6</td>\n",
       "      <td>9.5</td>\n",
       "      <td>12.8</td>\n",
       "    </tr>\n",
       "    <tr>\n",
       "      <th>All</th>\n",
       "      <td>0.0</td>\n",
       "      <td>20.0</td>\n",
       "      <td>6.4</td>\n",
       "      <td>25.0</td>\n",
       "      <td>9.5</td>\n",
       "      <td>13.1</td>\n",
       "    </tr>\n",
       "  </tbody>\n",
       "</table>\n",
       "</div>"
      ],
      "text/plain": [
       "device_type    console  desktop  mobile  smarttv  tablet   All\n",
       "group                                                         \n",
       "address_first      0.0     21.0     9.2      0.0     8.9  14.8\n",
       "default            0.0     19.9     6.1     28.6     9.5  12.8\n",
       "All                0.0     20.0     6.4     25.0     9.5  13.1"
      ]
     },
     "execution_count": 45,
     "metadata": {},
     "output_type": "execute_result"
    }
   ],
   "source": [
    "rate_product_table = pd.pivot_table(total_data.query('count_landing>0'), values='product_add_ok', index=['group'],\n",
    "                    columns=['device_type'], aggfunc=np.mean, margins=True).round(3)*100\n",
    "rate_product_table"
   ]
  },
  {
   "cell_type": "code",
   "execution_count": 46,
   "metadata": {},
   "outputs": [
    {
     "name": "stdout",
     "output_type": "stream",
     "text": [
      "Конверсия добавления товара в корзину в контрольной группе  = 12.8%\n",
      "Конверсия добавления товара в корзину в тестовой  группе  = 14.8%\n"
     ]
    }
   ],
   "source": [
    "rate_product_add_default = total_data.query('product_add_ok==True and count_landing > 0 and group == \"default\"')\\\n",
    "                                      .product_add_ok.count()/\\\n",
    "                            total_data.query('group == \"default\" and count_landing > 0').product_add_ok.count()\n",
    "print ('Конверсия добавления товара в корзину в контрольной группе  = {:.1%}'.format(rate_product_add_default))\n",
    "rate_product_add_test = total_data.query('product_add_ok==True and count_landing > 0 and group == \"address_first\"')\\\n",
    "                                      .product_add_ok.count()/\\\n",
    "                            total_data.query('group == \"address_first\" and count_landing > 0').product_add_ok.count()\n",
    "print ('Конверсия добавления товара в корзину в тестовой  группе  = {:.1%}'.format(rate_product_add_test))"
   ]
  },
  {
   "cell_type": "code",
   "execution_count": 47,
   "metadata": {},
   "outputs": [
    {
     "name": "stdout",
     "output_type": "stream",
     "text": [
      "p-значение: Ttest_indResult(statistic=-0.23400706819848385, pvalue=0.8149799575180849)\n",
      "Не получилось отвергнуть нулевую гипотезу\n"
     ]
    }
   ],
   "source": [
    "alpha = 0.05\n",
    "default = total_data.query('group == \"default\" and count_landing > 0').product_add_ok\n",
    "test = total_data.query('group == \"address_first\" and count_landing > 0').product_add_ok\n",
    "resultr = st.ttest_ind(default, test)\n",
    "print('p-значение:', result)\n",
    "if (result.pvalue < alpha):\n",
    "    print('Отвергаем нулевую гипотезу.')\n",
    "else:\n",
    "    print('Не получилось отвергнуть нулевую гипотезу')"
   ]
  },
  {
   "cell_type": "markdown",
   "metadata": {},
   "source": [
    "#### Расчет показателя bounce_rate (без учета страницы ввода адреса)"
   ]
  },
  {
   "cell_type": "code",
   "execution_count": 48,
   "metadata": {},
   "outputs": [
    {
     "data": {
      "text/html": [
       "<div>\n",
       "<style scoped>\n",
       "    .dataframe tbody tr th:only-of-type {\n",
       "        vertical-align: middle;\n",
       "    }\n",
       "\n",
       "    .dataframe tbody tr th {\n",
       "        vertical-align: top;\n",
       "    }\n",
       "\n",
       "    .dataframe thead th {\n",
       "        text-align: right;\n",
       "    }\n",
       "</style>\n",
       "<table border=\"1\" class=\"dataframe\">\n",
       "  <thead>\n",
       "    <tr style=\"text-align: right;\">\n",
       "      <th>device_type</th>\n",
       "      <th>console</th>\n",
       "      <th>desktop</th>\n",
       "      <th>mobile</th>\n",
       "      <th>smarttv</th>\n",
       "      <th>tablet</th>\n",
       "      <th>All</th>\n",
       "    </tr>\n",
       "    <tr>\n",
       "      <th>group</th>\n",
       "      <th></th>\n",
       "      <th></th>\n",
       "      <th></th>\n",
       "      <th></th>\n",
       "      <th></th>\n",
       "      <th></th>\n",
       "    </tr>\n",
       "  </thead>\n",
       "  <tbody>\n",
       "    <tr>\n",
       "      <th>address_first</th>\n",
       "      <td>100.0</td>\n",
       "      <td>60.1</td>\n",
       "      <td>68.2</td>\n",
       "      <td>0.0</td>\n",
       "      <td>72.1</td>\n",
       "      <td>64.4</td>\n",
       "    </tr>\n",
       "    <tr>\n",
       "      <th>default</th>\n",
       "      <td>62.5</td>\n",
       "      <td>54.1</td>\n",
       "      <td>54.4</td>\n",
       "      <td>57.1</td>\n",
       "      <td>60.8</td>\n",
       "      <td>54.4</td>\n",
       "    </tr>\n",
       "    <tr>\n",
       "      <th>All</th>\n",
       "      <td>66.7</td>\n",
       "      <td>54.8</td>\n",
       "      <td>56.0</td>\n",
       "      <td>50.0</td>\n",
       "      <td>62.1</td>\n",
       "      <td>55.5</td>\n",
       "    </tr>\n",
       "  </tbody>\n",
       "</table>\n",
       "</div>"
      ],
      "text/plain": [
       "device_type    console  desktop  mobile  smarttv  tablet   All\n",
       "group                                                         \n",
       "address_first    100.0     60.1    68.2      0.0    72.1  64.4\n",
       "default           62.5     54.1    54.4     57.1    60.8  54.4\n",
       "All               66.7     54.8    56.0     50.0    62.1  55.5"
      ]
     },
     "execution_count": 48,
     "metadata": {},
     "output_type": "execute_result"
    }
   ],
   "source": [
    "bounce_rate_not_addr_table = pd.pivot_table(total_data.query('count_landing>0'), values='bounce_shop', index=['group'],\n",
    "                    columns=['device_type'], aggfunc=np.mean, margins=True).round(3)*100\n",
    "bounce_rate_not_addr_table"
   ]
  },
  {
   "cell_type": "code",
   "execution_count": 49,
   "metadata": {},
   "outputs": [
    {
     "name": "stdout",
     "output_type": "stream",
     "text": [
      "bounce rate default only shop = 54.4%\n"
     ]
    }
   ],
   "source": [
    "bounce_rate_default_shop = total_data.query('bounce_shop==True and count_landing > 0 and group == \"default\"').bounce_shop.count()/\\\n",
    "                total_data.query('group == \"default\" and count_landing > 0').bounce_shop.count()\n",
    "print ('bounce rate default only shop = {:.1%}'.format(bounce_rate_default_shop))"
   ]
  },
  {
   "cell_type": "code",
   "execution_count": 50,
   "metadata": {},
   "outputs": [
    {
     "name": "stdout",
     "output_type": "stream",
     "text": [
      "bounce rate test only shop = 64.4%\n"
     ]
    }
   ],
   "source": [
    "bounce_rate_test_shop = total_data.query('bounce_shop==True and count_landing > 0 and group == \"address_first\"').bounce_shop.count()/\\\n",
    "                total_data.query('group == \"address_first\" and count_landing > 0 ').bounce_shop.count()\n",
    "print ('bounce rate test only shop = {:.1%}'.format(bounce_rate_test_shop))"
   ]
  },
  {
   "cell_type": "markdown",
   "metadata": {},
   "source": [
    "Нулевая гипотеза Н0: bounce rate (без учета страницы ввода адреса) в тестовой и контрольной группе равны. Альтернативная гипотеза H1: bounce rate в тестовой группе и контрольной  группах отличаются"
   ]
  },
  {
   "cell_type": "code",
   "execution_count": 51,
   "metadata": {},
   "outputs": [
    {
     "name": "stdout",
     "output_type": "stream",
     "text": [
      "p-значение: Ttest_indResult(statistic=-29.183098451699657, pvalue=7.481706707097168e-187)\n",
      "Отвергаем нулевую гипотезу.\n"
     ]
    }
   ],
   "source": [
    "alpha = 0.05\n",
    "clients_default = total_data.query('group == \"default\" and count_landing > 0').bounce_shop\n",
    "clients_test = total_data.query('group == \"address_first\" and count_landing > 0').bounce_shop\n",
    "result = st.ttest_ind(clients_default, clients_test)\n",
    "print('p-значение:', result)\n",
    "if (result.pvalue < alpha):\n",
    "    print('Отвергаем нулевую гипотезу.')\n",
    "else:\n",
    "    print('Не получилось отвергнуть нулевую гипотезу')"
   ]
  },
  {
   "cell_type": "code",
   "execution_count": null,
   "metadata": {},
   "outputs": [],
   "source": []
  },
  {
   "cell_type": "markdown",
   "metadata": {},
   "source": [
    "Поиск аномалий"
   ]
  },
  {
   "cell_type": "markdown",
   "metadata": {},
   "source": [
    "Есть пользователи, получавшие сообщение о том, что адрес «вне зоны доставки», хотя ни каких других активностей по пользователю не было. "
   ]
  },
  {
   "cell_type": "code",
   "execution_count": 52,
   "metadata": {},
   "outputs": [
    {
     "data": {
      "text/plain": [
       "group\n",
       "default          242\n",
       "address_first     31\n",
       "dtype: int64"
      ]
     },
     "execution_count": 52,
     "metadata": {},
     "output_type": "execute_result"
    }
   ],
   "source": [
    "total_data.query('bounce == True and count_landing == 0 and count_not_zone > 0').value_counts('group')"
   ]
  },
  {
   "cell_type": "markdown",
   "metadata": {},
   "source": [
    "Есть пользователи, которые добавили товар в корзину, хотя попыток добавить товар в корзину не зафиксировано."
   ]
  },
  {
   "cell_type": "code",
   "execution_count": 53,
   "metadata": {},
   "outputs": [
    {
     "data": {
      "text/plain": [
       "group\n",
       "default          140\n",
       "address_first     23\n",
       "dtype: int64"
      ]
     },
     "execution_count": 53,
     "metadata": {},
     "output_type": "execute_result"
    }
   ],
   "source": [
    "total_data.query('count_add_to_card == 0 and count_product_add > 0').value_counts('group')"
   ]
  },
  {
   "cell_type": "markdown",
   "metadata": {},
   "source": [
    "Есть пользователи одновременно зафиксированные и в тестовой и в контрольной группе."
   ]
  },
  {
   "cell_type": "code",
   "execution_count": 62,
   "metadata": {},
   "outputs": [
    {
     "data": {
      "text/html": [
       "<div>\n",
       "<style scoped>\n",
       "    .dataframe tbody tr th:only-of-type {\n",
       "        vertical-align: middle;\n",
       "    }\n",
       "\n",
       "    .dataframe tbody tr th {\n",
       "        vertical-align: top;\n",
       "    }\n",
       "\n",
       "    .dataframe thead th {\n",
       "        text-align: right;\n",
       "    }\n",
       "</style>\n",
       "<table border=\"1\" class=\"dataframe\">\n",
       "  <thead>\n",
       "    <tr style=\"text-align: right;\">\n",
       "      <th></th>\n",
       "      <th>anonymous_id</th>\n",
       "      <th>date</th>\n",
       "      <th>group_count</th>\n",
       "      <th>hit_at</th>\n",
       "      <th>group</th>\n",
       "      <th>device_type</th>\n",
       "      <th>browser</th>\n",
       "      <th>os</th>\n",
       "    </tr>\n",
       "  </thead>\n",
       "  <tbody>\n",
       "    <tr>\n",
       "      <th>438</th>\n",
       "      <td>7a299bab-fefd-4de8-b82a-236e5f5f8dd4</td>\n",
       "      <td>2020-11-26</td>\n",
       "      <td>2</td>\n",
       "      <td>2020-11-26 02:42:10.302000+00:00</td>\n",
       "      <td>default</td>\n",
       "      <td>desktop</td>\n",
       "      <td>Chrome</td>\n",
       "      <td>Windows</td>\n",
       "    </tr>\n",
       "    <tr>\n",
       "      <th>439</th>\n",
       "      <td>7a299bab-fefd-4de8-b82a-236e5f5f8dd4</td>\n",
       "      <td>2020-11-26</td>\n",
       "      <td>2</td>\n",
       "      <td>2020-11-26 02:42:10.332000+00:00</td>\n",
       "      <td>address_first</td>\n",
       "      <td>desktop</td>\n",
       "      <td>Chrome</td>\n",
       "      <td>Windows</td>\n",
       "    </tr>\n",
       "    <tr>\n",
       "      <th>952</th>\n",
       "      <td>f18567dc-a005-42f1-b934-d2dab0cc1c41</td>\n",
       "      <td>2020-11-26</td>\n",
       "      <td>2</td>\n",
       "      <td>2020-11-26 02:47:50.250000+00:00</td>\n",
       "      <td>address_first</td>\n",
       "      <td>mobile</td>\n",
       "      <td>Chrome</td>\n",
       "      <td>Android</td>\n",
       "    </tr>\n",
       "    <tr>\n",
       "      <th>953</th>\n",
       "      <td>f18567dc-a005-42f1-b934-d2dab0cc1c41</td>\n",
       "      <td>2020-11-26</td>\n",
       "      <td>2</td>\n",
       "      <td>2020-11-26 02:47:50.432000+00:00</td>\n",
       "      <td>default</td>\n",
       "      <td>mobile</td>\n",
       "      <td>Chrome</td>\n",
       "      <td>Android</td>\n",
       "    </tr>\n",
       "    <tr>\n",
       "      <th>824</th>\n",
       "      <td>d3d51683-5df6-4803-ac64-a811e93dc6d5</td>\n",
       "      <td>2020-11-26</td>\n",
       "      <td>2</td>\n",
       "      <td>2020-11-26 02:57:02.111000+00:00</td>\n",
       "      <td>address_first</td>\n",
       "      <td>mobile</td>\n",
       "      <td>Chrome WebView</td>\n",
       "      <td>Android</td>\n",
       "    </tr>\n",
       "  </tbody>\n",
       "</table>\n",
       "</div>"
      ],
      "text/plain": [
       "                             anonymous_id        date  group_count  \\\n",
       "438  7a299bab-fefd-4de8-b82a-236e5f5f8dd4  2020-11-26            2   \n",
       "439  7a299bab-fefd-4de8-b82a-236e5f5f8dd4  2020-11-26            2   \n",
       "952  f18567dc-a005-42f1-b934-d2dab0cc1c41  2020-11-26            2   \n",
       "953  f18567dc-a005-42f1-b934-d2dab0cc1c41  2020-11-26            2   \n",
       "824  d3d51683-5df6-4803-ac64-a811e93dc6d5  2020-11-26            2   \n",
       "\n",
       "                              hit_at          group device_type  \\\n",
       "438 2020-11-26 02:42:10.302000+00:00        default     desktop   \n",
       "439 2020-11-26 02:42:10.332000+00:00  address_first     desktop   \n",
       "952 2020-11-26 02:47:50.250000+00:00  address_first      mobile   \n",
       "953 2020-11-26 02:47:50.432000+00:00        default      mobile   \n",
       "824 2020-11-26 02:57:02.111000+00:00  address_first      mobile   \n",
       "\n",
       "            browser       os  \n",
       "438          Chrome  Windows  \n",
       "439          Chrome  Windows  \n",
       "952          Chrome  Android  \n",
       "953          Chrome  Android  \n",
       "824  Chrome WebView  Android  "
      ]
     },
     "execution_count": 62,
     "metadata": {},
     "output_type": "execute_result"
    }
   ],
   "source": [
    "client_group_count.query('group_count > 1')\\\n",
    "                              .merge(ab_test.drop_duplicates(subset=['date', 'anonymous_id', 'group'], keep='last'),\\\n",
    "                                     on = ['date', 'anonymous_id'], how = 'left')\\\n",
    "                              .sort_values('hit_at').head()"
   ]
  },
  {
   "cell_type": "code",
   "execution_count": 63,
   "metadata": {},
   "outputs": [
    {
     "data": {
      "text/plain": [
       "513.0"
      ]
     },
     "execution_count": 63,
     "metadata": {},
     "output_type": "execute_result"
    }
   ],
   "source": [
    "1026/2"
   ]
  },
  {
   "cell_type": "markdown",
   "metadata": {},
   "source": [
    "Частота посещений страниц лендинга"
   ]
  },
  {
   "cell_type": "code",
   "execution_count": 64,
   "metadata": {},
   "outputs": [
    {
     "data": {
      "text/html": [
       "<div>\n",
       "<style scoped>\n",
       "    .dataframe tbody tr th:only-of-type {\n",
       "        vertical-align: middle;\n",
       "    }\n",
       "\n",
       "    .dataframe tbody tr th {\n",
       "        vertical-align: top;\n",
       "    }\n",
       "\n",
       "    .dataframe thead th {\n",
       "        text-align: right;\n",
       "    }\n",
       "</style>\n",
       "<table border=\"1\" class=\"dataframe\">\n",
       "  <thead>\n",
       "    <tr style=\"text-align: right;\">\n",
       "      <th></th>\n",
       "      <th>anonymous_id</th>\n",
       "      <th>group</th>\n",
       "      <th>device_type</th>\n",
       "      <th>browser</th>\n",
       "      <th>os</th>\n",
       "      <th>count_landing</th>\n",
       "      <th>bounce</th>\n",
       "    </tr>\n",
       "  </thead>\n",
       "  <tbody>\n",
       "    <tr>\n",
       "      <th>158045</th>\n",
       "      <td>6368eb82-d361-4aca-869e-080f167e3b5f</td>\n",
       "      <td>address_first</td>\n",
       "      <td>mobile</td>\n",
       "      <td>Chrome</td>\n",
       "      <td>Android</td>\n",
       "      <td>536.0</td>\n",
       "      <td>True</td>\n",
       "    </tr>\n",
       "    <tr>\n",
       "      <th>249268</th>\n",
       "      <td>8851d1da-4b18-4028-baa6-47e8a135fe87</td>\n",
       "      <td>default</td>\n",
       "      <td>desktop</td>\n",
       "      <td>Safari</td>\n",
       "      <td>Mac OS</td>\n",
       "      <td>150.0</td>\n",
       "      <td>False</td>\n",
       "    </tr>\n",
       "    <tr>\n",
       "      <th>352112</th>\n",
       "      <td>8da49d4a-48a7-4e27-8a16-5d122c9602c4</td>\n",
       "      <td>address_first</td>\n",
       "      <td>desktop</td>\n",
       "      <td>Yandex</td>\n",
       "      <td>Windows</td>\n",
       "      <td>79.0</td>\n",
       "      <td>False</td>\n",
       "    </tr>\n",
       "    <tr>\n",
       "      <th>130535</th>\n",
       "      <td>3e3c5ef8-fb2d-4c9b-8de2-224c78ce4149</td>\n",
       "      <td>default</td>\n",
       "      <td>desktop</td>\n",
       "      <td>Yandex</td>\n",
       "      <td>Windows</td>\n",
       "      <td>52.0</td>\n",
       "      <td>False</td>\n",
       "    </tr>\n",
       "    <tr>\n",
       "      <th>7287</th>\n",
       "      <td>4d74ffbd-a92d-4a49-bb2a-a5aa1ec3df79</td>\n",
       "      <td>default</td>\n",
       "      <td>desktop</td>\n",
       "      <td>Opera</td>\n",
       "      <td>Windows</td>\n",
       "      <td>50.0</td>\n",
       "      <td>False</td>\n",
       "    </tr>\n",
       "  </tbody>\n",
       "</table>\n",
       "</div>"
      ],
      "text/plain": [
       "                                anonymous_id          group device_type  \\\n",
       "158045  6368eb82-d361-4aca-869e-080f167e3b5f  address_first      mobile   \n",
       "249268  8851d1da-4b18-4028-baa6-47e8a135fe87        default     desktop   \n",
       "352112  8da49d4a-48a7-4e27-8a16-5d122c9602c4  address_first     desktop   \n",
       "130535  3e3c5ef8-fb2d-4c9b-8de2-224c78ce4149        default     desktop   \n",
       "7287    4d74ffbd-a92d-4a49-bb2a-a5aa1ec3df79        default     desktop   \n",
       "\n",
       "       browser       os  count_landing  bounce  \n",
       "158045  Chrome  Android          536.0    True  \n",
       "249268  Safari   Mac OS          150.0   False  \n",
       "352112  Yandex  Windows           79.0   False  \n",
       "130535  Yandex  Windows           52.0   False  \n",
       "7287     Opera  Windows           50.0   False  "
      ]
     },
     "execution_count": 64,
     "metadata": {},
     "output_type": "execute_result"
    }
   ],
   "source": [
    "total_data[['anonymous_id','group', 'device_type','browser','os', 'count_landing', 'bounce']]\\\n",
    "        .sort_values('count_landing', ascending = False).head()"
   ]
  },
  {
   "cell_type": "code",
   "execution_count": null,
   "metadata": {},
   "outputs": [],
   "source": []
  },
  {
   "cell_type": "code",
   "execution_count": null,
   "metadata": {},
   "outputs": [],
   "source": []
  },
  {
   "cell_type": "code",
   "execution_count": null,
   "metadata": {},
   "outputs": [],
   "source": []
  },
  {
   "cell_type": "markdown",
   "metadata": {},
   "source": [
    "Поиск закономерностей и изменений"
   ]
  },
  {
   "cell_type": "markdown",
   "metadata": {},
   "source": [
    "Структура магазинов"
   ]
  },
  {
   "cell_type": "code",
   "execution_count": 65,
   "metadata": {},
   "outputs": [
    {
     "data": {
      "text/html": [
       "<div>\n",
       "<style scoped>\n",
       "    .dataframe tbody tr th:only-of-type {\n",
       "        vertical-align: middle;\n",
       "    }\n",
       "\n",
       "    .dataframe tbody tr th {\n",
       "        vertical-align: top;\n",
       "    }\n",
       "\n",
       "    .dataframe thead th {\n",
       "        text-align: right;\n",
       "    }\n",
       "</style>\n",
       "<table border=\"1\" class=\"dataframe\">\n",
       "  <thead>\n",
       "    <tr style=\"text-align: right;\">\n",
       "      <th>group</th>\n",
       "      <th>address_first</th>\n",
       "      <th>default</th>\n",
       "      <th>address_first_per</th>\n",
       "      <th>default_per</th>\n",
       "    </tr>\n",
       "    <tr>\n",
       "      <th>retailer_id</th>\n",
       "      <th></th>\n",
       "      <th></th>\n",
       "      <th></th>\n",
       "      <th></th>\n",
       "    </tr>\n",
       "  </thead>\n",
       "  <tbody>\n",
       "    <tr>\n",
       "      <th>1</th>\n",
       "      <td>7009.0</td>\n",
       "      <td>59064.0</td>\n",
       "      <td>33.468628</td>\n",
       "      <td>28.499189</td>\n",
       "    </tr>\n",
       "    <tr>\n",
       "      <th>29</th>\n",
       "      <td>5275.0</td>\n",
       "      <td>49569.0</td>\n",
       "      <td>25.188616</td>\n",
       "      <td>23.917722</td>\n",
       "    </tr>\n",
       "    <tr>\n",
       "      <th>57</th>\n",
       "      <td>3743.0</td>\n",
       "      <td>34359.0</td>\n",
       "      <td>17.873174</td>\n",
       "      <td>16.578688</td>\n",
       "    </tr>\n",
       "    <tr>\n",
       "      <th>93</th>\n",
       "      <td>494.0</td>\n",
       "      <td>6309.0</td>\n",
       "      <td>2.358896</td>\n",
       "      <td>3.044179</td>\n",
       "    </tr>\n",
       "    <tr>\n",
       "      <th>33</th>\n",
       "      <td>516.0</td>\n",
       "      <td>5198.0</td>\n",
       "      <td>2.463948</td>\n",
       "      <td>2.508106</td>\n",
       "    </tr>\n",
       "    <tr>\n",
       "      <th>97</th>\n",
       "      <td>427.0</td>\n",
       "      <td>4285.0</td>\n",
       "      <td>2.038965</td>\n",
       "      <td>2.067571</td>\n",
       "    </tr>\n",
       "    <tr>\n",
       "      <th>193</th>\n",
       "      <td>27.0</td>\n",
       "      <td>4078.0</td>\n",
       "      <td>0.128928</td>\n",
       "      <td>1.967691</td>\n",
       "    </tr>\n",
       "    <tr>\n",
       "      <th>229</th>\n",
       "      <td>341.0</td>\n",
       "      <td>2891.0</td>\n",
       "      <td>1.628307</td>\n",
       "      <td>1.394947</td>\n",
       "    </tr>\n",
       "    <tr>\n",
       "      <th>61</th>\n",
       "      <td>276.0</td>\n",
       "      <td>2467.0</td>\n",
       "      <td>1.317926</td>\n",
       "      <td>1.190361</td>\n",
       "    </tr>\n",
       "    <tr>\n",
       "      <th>221</th>\n",
       "      <td>223.0</td>\n",
       "      <td>2296.0</td>\n",
       "      <td>1.064846</td>\n",
       "      <td>1.107851</td>\n",
       "    </tr>\n",
       "  </tbody>\n",
       "</table>\n",
       "</div>"
      ],
      "text/plain": [
       "group        address_first  default  address_first_per  default_per\n",
       "retailer_id                                                        \n",
       "1                   7009.0  59064.0          33.468628    28.499189\n",
       "29                  5275.0  49569.0          25.188616    23.917722\n",
       "57                  3743.0  34359.0          17.873174    16.578688\n",
       "93                   494.0   6309.0           2.358896     3.044179\n",
       "33                   516.0   5198.0           2.463948     2.508106\n",
       "97                   427.0   4285.0           2.038965     2.067571\n",
       "193                   27.0   4078.0           0.128928     1.967691\n",
       "229                  341.0   2891.0           1.628307     1.394947\n",
       "61                   276.0   2467.0           1.317926     1.190361\n",
       "221                  223.0   2296.0           1.064846     1.107851"
      ]
     },
     "execution_count": 65,
     "metadata": {},
     "output_type": "execute_result"
    }
   ],
   "source": [
    "shop = total_data.merge(retailer.groupby(['date', 'anonymous_id', 'retailer_id'], as_index = False).agg({'timestamp': 'count'})\\\n",
    "                , on = ['date', 'anonymous_id'], how = 'inner')[['date', 'anonymous_id', 'group', 'retailer_id']]\n",
    "shop = pd.pivot_table(shop, values='anonymous_id', index=['retailer_id'],\n",
    "                    columns=['group'], aggfunc='count')\n",
    "shop['address_first_per']=(shop['address_first']/(shop['address_first'].sum()))*100\n",
    "shop['default_per']=(shop['default']/(shop['default'].sum()))*100\n",
    "shop.sort_values('default', ascending=False).head(10)"
   ]
  },
  {
   "cell_type": "markdown",
   "metadata": {},
   "source": [
    "Связь количества добавлений товаров с суммой заказа"
   ]
  },
  {
   "cell_type": "code",
   "execution_count": 75,
   "metadata": {},
   "outputs": [],
   "source": [
    "total_data = total_data.merge(order.groupby(['date', 'anonymous_id'], as_index = False).agg({'order_sum': 'sum'})\\\n",
    "                , on = ['date', 'anonymous_id'], how = 'left')"
   ]
  },
  {
   "cell_type": "code",
   "execution_count": 76,
   "metadata": {},
   "outputs": [
    {
     "data": {
      "text/html": [
       "<div>\n",
       "<style scoped>\n",
       "    .dataframe tbody tr th:only-of-type {\n",
       "        vertical-align: middle;\n",
       "    }\n",
       "\n",
       "    .dataframe tbody tr th {\n",
       "        vertical-align: top;\n",
       "    }\n",
       "\n",
       "    .dataframe thead th {\n",
       "        text-align: right;\n",
       "    }\n",
       "</style>\n",
       "<table border=\"1\" class=\"dataframe\">\n",
       "  <thead>\n",
       "    <tr style=\"text-align: right;\">\n",
       "      <th></th>\n",
       "      <th>count_product_add</th>\n",
       "      <th>order_sum</th>\n",
       "    </tr>\n",
       "  </thead>\n",
       "  <tbody>\n",
       "    <tr>\n",
       "      <th>count_product_add</th>\n",
       "      <td>1.000000</td>\n",
       "      <td>0.182478</td>\n",
       "    </tr>\n",
       "    <tr>\n",
       "      <th>order_sum</th>\n",
       "      <td>0.182478</td>\n",
       "      <td>1.000000</td>\n",
       "    </tr>\n",
       "  </tbody>\n",
       "</table>\n",
       "</div>"
      ],
      "text/plain": [
       "                   count_product_add  order_sum\n",
       "count_product_add           1.000000   0.182478\n",
       "order_sum                   0.182478   1.000000"
      ]
     },
     "execution_count": 76,
     "metadata": {},
     "output_type": "execute_result"
    }
   ],
   "source": [
    "total_data[['count_product_add', 'order_sum']].corr()"
   ]
  },
  {
   "cell_type": "markdown",
   "metadata": {},
   "source": [
    "связь положительная слабая"
   ]
  },
  {
   "cell_type": "code",
   "execution_count": null,
   "metadata": {},
   "outputs": [],
   "source": []
  },
  {
   "cell_type": "code",
   "execution_count": 77,
   "metadata": {},
   "outputs": [
    {
     "data": {
      "text/html": [
       "<div>\n",
       "<style scoped>\n",
       "    .dataframe tbody tr th:only-of-type {\n",
       "        vertical-align: middle;\n",
       "    }\n",
       "\n",
       "    .dataframe tbody tr th {\n",
       "        vertical-align: top;\n",
       "    }\n",
       "\n",
       "    .dataframe thead th {\n",
       "        text-align: right;\n",
       "    }\n",
       "</style>\n",
       "<table border=\"1\" class=\"dataframe\">\n",
       "  <thead>\n",
       "    <tr style=\"text-align: right;\">\n",
       "      <th></th>\n",
       "      <th>count_landing</th>\n",
       "      <th>bounce</th>\n",
       "    </tr>\n",
       "  </thead>\n",
       "  <tbody>\n",
       "    <tr>\n",
       "      <th>count_landing</th>\n",
       "      <td>1.00000</td>\n",
       "      <td>-0.14537</td>\n",
       "    </tr>\n",
       "    <tr>\n",
       "      <th>bounce</th>\n",
       "      <td>-0.14537</td>\n",
       "      <td>1.00000</td>\n",
       "    </tr>\n",
       "  </tbody>\n",
       "</table>\n",
       "</div>"
      ],
      "text/plain": [
       "               count_landing   bounce\n",
       "count_landing        1.00000 -0.14537\n",
       "bounce              -0.14537  1.00000"
      ]
     },
     "execution_count": 77,
     "metadata": {},
     "output_type": "execute_result"
    }
   ],
   "source": [
    "total_data[['count_landing', 'bounce']].corr()"
   ]
  },
  {
   "cell_type": "markdown",
   "metadata": {},
   "source": [
    "связь отрицательная слабая"
   ]
  },
  {
   "cell_type": "code",
   "execution_count": null,
   "metadata": {},
   "outputs": [],
   "source": []
  },
  {
   "cell_type": "code",
   "execution_count": null,
   "metadata": {},
   "outputs": [],
   "source": []
  },
  {
   "cell_type": "code",
   "execution_count": 79,
   "metadata": {},
   "outputs": [
    {
     "data": {
      "text/html": [
       "<div>\n",
       "<style scoped>\n",
       "    .dataframe tbody tr th:only-of-type {\n",
       "        vertical-align: middle;\n",
       "    }\n",
       "\n",
       "    .dataframe tbody tr th {\n",
       "        vertical-align: top;\n",
       "    }\n",
       "\n",
       "    .dataframe thead th {\n",
       "        text-align: right;\n",
       "    }\n",
       "</style>\n",
       "<table border=\"1\" class=\"dataframe\">\n",
       "  <thead>\n",
       "    <tr style=\"text-align: right;\">\n",
       "      <th></th>\n",
       "      <th>date</th>\n",
       "      <th>order_sum</th>\n",
       "    </tr>\n",
       "  </thead>\n",
       "  <tbody>\n",
       "    <tr>\n",
       "      <th>0</th>\n",
       "      <td>2020-11-26</td>\n",
       "      <td>4.064831e+06</td>\n",
       "    </tr>\n",
       "    <tr>\n",
       "      <th>1</th>\n",
       "      <td>2020-11-27</td>\n",
       "      <td>4.368580e+06</td>\n",
       "    </tr>\n",
       "    <tr>\n",
       "      <th>2</th>\n",
       "      <td>2020-11-28</td>\n",
       "      <td>3.773313e+06</td>\n",
       "    </tr>\n",
       "    <tr>\n",
       "      <th>3</th>\n",
       "      <td>2020-11-29</td>\n",
       "      <td>2.707209e+06</td>\n",
       "    </tr>\n",
       "    <tr>\n",
       "      <th>4</th>\n",
       "      <td>2020-11-30</td>\n",
       "      <td>2.561717e+06</td>\n",
       "    </tr>\n",
       "    <tr>\n",
       "      <th>5</th>\n",
       "      <td>2020-12-01</td>\n",
       "      <td>2.691321e+06</td>\n",
       "    </tr>\n",
       "    <tr>\n",
       "      <th>6</th>\n",
       "      <td>2020-12-02</td>\n",
       "      <td>3.230707e+06</td>\n",
       "    </tr>\n",
       "    <tr>\n",
       "      <th>7</th>\n",
       "      <td>2020-12-03</td>\n",
       "      <td>3.423439e+06</td>\n",
       "    </tr>\n",
       "    <tr>\n",
       "      <th>8</th>\n",
       "      <td>2020-12-04</td>\n",
       "      <td>4.454987e+06</td>\n",
       "    </tr>\n",
       "    <tr>\n",
       "      <th>9</th>\n",
       "      <td>2020-12-05</td>\n",
       "      <td>3.440876e+06</td>\n",
       "    </tr>\n",
       "    <tr>\n",
       "      <th>10</th>\n",
       "      <td>2020-12-06</td>\n",
       "      <td>3.396791e+06</td>\n",
       "    </tr>\n",
       "    <tr>\n",
       "      <th>11</th>\n",
       "      <td>2020-12-07</td>\n",
       "      <td>2.669109e+06</td>\n",
       "    </tr>\n",
       "    <tr>\n",
       "      <th>12</th>\n",
       "      <td>2020-12-08</td>\n",
       "      <td>2.848624e+06</td>\n",
       "    </tr>\n",
       "    <tr>\n",
       "      <th>13</th>\n",
       "      <td>2020-12-09</td>\n",
       "      <td>3.481809e+06</td>\n",
       "    </tr>\n",
       "    <tr>\n",
       "      <th>14</th>\n",
       "      <td>2020-12-10</td>\n",
       "      <td>3.456455e+06</td>\n",
       "    </tr>\n",
       "  </tbody>\n",
       "</table>\n",
       "</div>"
      ],
      "text/plain": [
       "          date     order_sum\n",
       "0   2020-11-26  4.064831e+06\n",
       "1   2020-11-27  4.368580e+06\n",
       "2   2020-11-28  3.773313e+06\n",
       "3   2020-11-29  2.707209e+06\n",
       "4   2020-11-30  2.561717e+06\n",
       "5   2020-12-01  2.691321e+06\n",
       "6   2020-12-02  3.230707e+06\n",
       "7   2020-12-03  3.423439e+06\n",
       "8   2020-12-04  4.454987e+06\n",
       "9   2020-12-05  3.440876e+06\n",
       "10  2020-12-06  3.396791e+06\n",
       "11  2020-12-07  2.669109e+06\n",
       "12  2020-12-08  2.848624e+06\n",
       "13  2020-12-09  3.481809e+06\n",
       "14  2020-12-10  3.456455e+06"
      ]
     },
     "execution_count": 79,
     "metadata": {},
     "output_type": "execute_result"
    }
   ],
   "source": [
    "total_data.groupby(['date'], as_index = False).agg({'order_sum': 'sum'})"
   ]
  },
  {
   "cell_type": "code",
   "execution_count": null,
   "metadata": {},
   "outputs": [],
   "source": []
  },
  {
   "cell_type": "code",
   "execution_count": null,
   "metadata": {},
   "outputs": [],
   "source": []
  },
  {
   "cell_type": "code",
   "execution_count": null,
   "metadata": {},
   "outputs": [],
   "source": []
  },
  {
   "cell_type": "code",
   "execution_count": null,
   "metadata": {},
   "outputs": [],
   "source": []
  },
  {
   "cell_type": "markdown",
   "metadata": {},
   "source": [
    "Проверим, что сумма покупки зависит от девайса или группы"
   ]
  },
  {
   "cell_type": "code",
   "execution_count": 80,
   "metadata": {},
   "outputs": [
    {
     "data": {
      "text/html": [
       "<div>\n",
       "<style scoped>\n",
       "    .dataframe tbody tr th:only-of-type {\n",
       "        vertical-align: middle;\n",
       "    }\n",
       "\n",
       "    .dataframe tbody tr th {\n",
       "        vertical-align: top;\n",
       "    }\n",
       "\n",
       "    .dataframe thead th {\n",
       "        text-align: right;\n",
       "    }\n",
       "</style>\n",
       "<table border=\"1\" class=\"dataframe\">\n",
       "  <thead>\n",
       "    <tr style=\"text-align: right;\">\n",
       "      <th>device_type</th>\n",
       "      <th>desktop</th>\n",
       "      <th>mobile</th>\n",
       "      <th>smarttv</th>\n",
       "      <th>tablet</th>\n",
       "      <th>All</th>\n",
       "    </tr>\n",
       "    <tr>\n",
       "      <th>group</th>\n",
       "      <th></th>\n",
       "      <th></th>\n",
       "      <th></th>\n",
       "      <th></th>\n",
       "      <th></th>\n",
       "    </tr>\n",
       "  </thead>\n",
       "  <tbody>\n",
       "    <tr>\n",
       "      <th>address_first</th>\n",
       "      <td>7501.908822</td>\n",
       "      <td>5552.347175</td>\n",
       "      <td>NaN</td>\n",
       "      <td>7577.295201</td>\n",
       "      <td>7144.405928</td>\n",
       "    </tr>\n",
       "    <tr>\n",
       "      <th>default</th>\n",
       "      <td>7285.404651</td>\n",
       "      <td>5820.335059</td>\n",
       "      <td>10020.099014</td>\n",
       "      <td>6873.425487</td>\n",
       "      <td>7048.823219</td>\n",
       "    </tr>\n",
       "    <tr>\n",
       "      <th>All</th>\n",
       "      <td>7309.814974</td>\n",
       "      <td>5785.097898</td>\n",
       "      <td>10020.099014</td>\n",
       "      <td>6938.732986</td>\n",
       "      <td>7059.858665</td>\n",
       "    </tr>\n",
       "  </tbody>\n",
       "</table>\n",
       "</div>"
      ],
      "text/plain": [
       "device_type        desktop       mobile       smarttv       tablet  \\\n",
       "group                                                                \n",
       "address_first  7501.908822  5552.347175           NaN  7577.295201   \n",
       "default        7285.404651  5820.335059  10020.099014  6873.425487   \n",
       "All            7309.814974  5785.097898  10020.099014  6938.732986   \n",
       "\n",
       "device_type            All  \n",
       "group                       \n",
       "address_first  7144.405928  \n",
       "default        7048.823219  \n",
       "All            7059.858665  "
      ]
     },
     "execution_count": 80,
     "metadata": {},
     "output_type": "execute_result"
    }
   ],
   "source": [
    "pd.pivot_table(total_data, values='order_sum', index=['group'],\n",
    "                    columns=['device_type'], aggfunc=np.mean, margins=True)"
   ]
  },
  {
   "cell_type": "markdown",
   "metadata": {},
   "source": [
    "Проверим значимость отличий суммы покупки в типах девайса desktop и mobile"
   ]
  },
  {
   "cell_type": "code",
   "execution_count": 81,
   "metadata": {},
   "outputs": [
    {
     "name": "stdout",
     "output_type": "stream",
     "text": [
      "p-значение: Ttest_indResult(statistic=nan, pvalue=nan)\n",
      "Не получилось отвергнуть нулевую гипотезу\n"
     ]
    }
   ],
   "source": [
    "#H0: суммы равны\n",
    "#H1: суммы статистически различаются\n",
    "alpha = 0.05\n",
    "desktop_order_sum = total_data.query('device_type == \"desktop\"').order_sum\n",
    "mobile_order_sum = total_data.query('device_type == \"mobile\"').order_sum\n",
    "result = st.ttest_ind(desktop_order_sum, mobile_order_sum)\n",
    "print('p-значение:', result)\n",
    "if (result.pvalue < alpha):\n",
    "    print('Отвергаем нулевую гипотезу.')\n",
    "else:\n",
    "    print('Не получилось отвергнуть нулевую гипотезу')"
   ]
  },
  {
   "cell_type": "code",
   "execution_count": 82,
   "metadata": {},
   "outputs": [
    {
     "name": "stdout",
     "output_type": "stream",
     "text": [
      "p-значение: Ttest_indResult(statistic=nan, pvalue=nan)\n",
      "Не получилось отвергнуть нулевую гипотезу\n"
     ]
    }
   ],
   "source": [
    "#H0: суммы равны\n",
    "#H1: суммы статистически различаются\n",
    "alpha = 0.05\n",
    "address_first = total_data.query('group == \"address_first\"').order_sum\n",
    "default = total_data.query('group == \"default\"').order_sum\n",
    "result = st.ttest_ind(address_first, default)\n",
    "print('p-значение:', result)\n",
    "if (result.pvalue < alpha):\n",
    "    print('Отвергаем нулевую гипотезу.')\n",
    "else:\n",
    "    print('Не получилось отвергнуть нулевую гипотезу')"
   ]
  },
  {
   "cell_type": "markdown",
   "metadata": {},
   "source": [
    "Количество заказов в засисимости от группы или девайса"
   ]
  },
  {
   "cell_type": "code",
   "execution_count": 83,
   "metadata": {},
   "outputs": [
    {
     "data": {
      "text/html": [
       "<div>\n",
       "<style scoped>\n",
       "    .dataframe tbody tr th:only-of-type {\n",
       "        vertical-align: middle;\n",
       "    }\n",
       "\n",
       "    .dataframe tbody tr th {\n",
       "        vertical-align: top;\n",
       "    }\n",
       "\n",
       "    .dataframe thead th {\n",
       "        text-align: right;\n",
       "    }\n",
       "</style>\n",
       "<table border=\"1\" class=\"dataframe\">\n",
       "  <thead>\n",
       "    <tr style=\"text-align: right;\">\n",
       "      <th>device_type</th>\n",
       "      <th>desktop</th>\n",
       "      <th>mobile</th>\n",
       "      <th>smarttv</th>\n",
       "      <th>tablet</th>\n",
       "      <th>All</th>\n",
       "    </tr>\n",
       "    <tr>\n",
       "      <th>group</th>\n",
       "      <th></th>\n",
       "      <th></th>\n",
       "      <th></th>\n",
       "      <th></th>\n",
       "      <th></th>\n",
       "    </tr>\n",
       "  </thead>\n",
       "  <tbody>\n",
       "    <tr>\n",
       "      <th>address_first</th>\n",
       "      <td>1.115616</td>\n",
       "      <td>1.473684</td>\n",
       "      <td>NaN</td>\n",
       "      <td>1.000000</td>\n",
       "      <td>1.180169</td>\n",
       "    </tr>\n",
       "    <tr>\n",
       "      <th>default</th>\n",
       "      <td>1.111811</td>\n",
       "      <td>1.349602</td>\n",
       "      <td>1.0</td>\n",
       "      <td>1.204545</td>\n",
       "      <td>1.150726</td>\n",
       "    </tr>\n",
       "    <tr>\n",
       "      <th>All</th>\n",
       "      <td>1.112240</td>\n",
       "      <td>1.365917</td>\n",
       "      <td>1.0</td>\n",
       "      <td>1.185567</td>\n",
       "      <td>1.154125</td>\n",
       "    </tr>\n",
       "  </tbody>\n",
       "</table>\n",
       "</div>"
      ],
      "text/plain": [
       "device_type     desktop    mobile  smarttv    tablet       All\n",
       "group                                                         \n",
       "address_first  1.115616  1.473684      NaN  1.000000  1.180169\n",
       "default        1.111811  1.349602      1.0  1.204545  1.150726\n",
       "All            1.112240  1.365917      1.0  1.185567  1.154125"
      ]
     },
     "execution_count": 83,
     "metadata": {},
     "output_type": "execute_result"
    }
   ],
   "source": [
    "pd.pivot_table(total_data.query('count_order>0'), values='count_order', index=['group'],\n",
    "                    columns=['device_type'], aggfunc=np.mean, margins=True)"
   ]
  },
  {
   "cell_type": "code",
   "execution_count": 84,
   "metadata": {},
   "outputs": [
    {
     "name": "stdout",
     "output_type": "stream",
     "text": [
      "p-значение: Ttest_indResult(statistic=1.4563174729964774, pvalue=0.14534871887509554)\n",
      "Не получилось отвергнуть нулевую гипотезу\n"
     ]
    }
   ],
   "source": [
    "#H0: суммы равны\n",
    "#H1: суммы статистически различаются\n",
    "alpha = 0.05\n",
    "address_first = total_data.query('group == \"address_first\"').query('count_order>0').count_order\n",
    "default = total_data.query('group == \"default\"').query('count_order>0').count_order\n",
    "result = st.ttest_ind(address_first, default)\n",
    "print('p-значение:', result)\n",
    "if (result.pvalue < alpha):\n",
    "    print('Отвергаем нулевую гипотезу.')\n",
    "else:\n",
    "    print('Не получилось отвергнуть нулевую гипотезу')"
   ]
  },
  {
   "cell_type": "code",
   "execution_count": null,
   "metadata": {},
   "outputs": [],
   "source": []
  },
  {
   "cell_type": "code",
   "execution_count": null,
   "metadata": {},
   "outputs": [],
   "source": []
  },
  {
   "cell_type": "code",
   "execution_count": null,
   "metadata": {},
   "outputs": [],
   "source": []
  },
  {
   "cell_type": "markdown",
   "metadata": {},
   "source": [
    "Вспомогательные расчеты"
   ]
  },
  {
   "cell_type": "markdown",
   "metadata": {},
   "source": [
    "Таблица для просмотра всех операций пользователя"
   ]
  },
  {
   "cell_type": "code",
   "execution_count": 85,
   "metadata": {},
   "outputs": [],
   "source": [
    "ab_test2 = ab_test.rename(columns = {'hit_at': 'timestamp'})\n",
    "ab_test2['table']= 'ab_test'\n",
    "landing_viewed2 = landing_viewed\n",
    "landing_viewed2['table']= 'landing_viewed'\n",
    "retailer2 = retailer\n",
    "retailer2['table']= 'retailer'\n",
    "address_change2 = address_change\n",
    "address_change2['table']= 'address_change'\n",
    "message_not_zone2 = message_not_zone\n",
    "message_not_zone2['table']= 'message_not_zone'\n",
    "shop_started2 = shop_started\n",
    "shop_started2['table']= 'shop_started'\n",
    "shop_selected2 = shop_selected\n",
    "shop_selected2['table']= 'shop_selected'\n",
    "add_to_card2 = add_to_card\n",
    "add_to_card2['table']= 'add_to_card'\n",
    "product_add2 = product_add\n",
    "product_add2['table']= 'product_add'\n",
    "order2 = order\n",
    "order2['table']= 'order'"
   ]
  },
  {
   "cell_type": "code",
   "execution_count": 86,
   "metadata": {},
   "outputs": [],
   "source": [
    "res= pd.concat([ab_test2, landing_viewed2, retailer2, address_change2, message_not_zone2, shop_started2, shop_selected2,\n",
    "                add_to_card2, product_add2, order2], ignore_index=True).sort_values('timestamp')"
   ]
  },
  {
   "cell_type": "code",
   "execution_count": 87,
   "metadata": {},
   "outputs": [
    {
     "data": {
      "text/html": [
       "<div>\n",
       "<style scoped>\n",
       "    .dataframe tbody tr th:only-of-type {\n",
       "        vertical-align: middle;\n",
       "    }\n",
       "\n",
       "    .dataframe tbody tr th {\n",
       "        vertical-align: top;\n",
       "    }\n",
       "\n",
       "    .dataframe thead th {\n",
       "        text-align: right;\n",
       "    }\n",
       "</style>\n",
       "<table border=\"1\" class=\"dataframe\">\n",
       "  <thead>\n",
       "    <tr style=\"text-align: right;\">\n",
       "      <th></th>\n",
       "      <th>timestamp</th>\n",
       "      <th>anonymous_id</th>\n",
       "      <th>group</th>\n",
       "      <th>device_type</th>\n",
       "      <th>browser</th>\n",
       "      <th>os</th>\n",
       "      <th>date</th>\n",
       "      <th>table</th>\n",
       "      <th>retailer_id</th>\n",
       "      <th>source</th>\n",
       "      <th>order_sum</th>\n",
       "    </tr>\n",
       "  </thead>\n",
       "  <tbody>\n",
       "    <tr>\n",
       "      <th>1476681</th>\n",
       "      <td>2020-11-26 05:38:27.551000+00:00</td>\n",
       "      <td>98201a66-3667-48f1-96e7-42ce28d9b959</td>\n",
       "      <td>NaN</td>\n",
       "      <td>NaN</td>\n",
       "      <td>NaN</td>\n",
       "      <td>NaN</td>\n",
       "      <td>2020-11-26</td>\n",
       "      <td>address_change</td>\n",
       "      <td>NaN</td>\n",
       "      <td>address</td>\n",
       "      <td>NaN</td>\n",
       "    </tr>\n",
       "    <tr>\n",
       "      <th>1710564</th>\n",
       "      <td>2020-11-26 05:38:42.526000+00:00</td>\n",
       "      <td>98201a66-3667-48f1-96e7-42ce28d9b959</td>\n",
       "      <td>NaN</td>\n",
       "      <td>NaN</td>\n",
       "      <td>NaN</td>\n",
       "      <td>NaN</td>\n",
       "      <td>2020-11-26</td>\n",
       "      <td>shop_selected</td>\n",
       "      <td>NaN</td>\n",
       "      <td>header</td>\n",
       "      <td>NaN</td>\n",
       "    </tr>\n",
       "    <tr>\n",
       "      <th>974184</th>\n",
       "      <td>2020-11-26 05:38:45.350000+00:00</td>\n",
       "      <td>98201a66-3667-48f1-96e7-42ce28d9b959</td>\n",
       "      <td>NaN</td>\n",
       "      <td>NaN</td>\n",
       "      <td>NaN</td>\n",
       "      <td>NaN</td>\n",
       "      <td>2020-11-26</td>\n",
       "      <td>retailer</td>\n",
       "      <td>1.0</td>\n",
       "      <td>NaN</td>\n",
       "      <td>NaN</td>\n",
       "    </tr>\n",
       "    <tr>\n",
       "      <th>1476677</th>\n",
       "      <td>2020-11-26 05:40:21.120000+00:00</td>\n",
       "      <td>98201a66-3667-48f1-96e7-42ce28d9b959</td>\n",
       "      <td>NaN</td>\n",
       "      <td>NaN</td>\n",
       "      <td>NaN</td>\n",
       "      <td>NaN</td>\n",
       "      <td>2020-11-26</td>\n",
       "      <td>address_change</td>\n",
       "      <td>NaN</td>\n",
       "      <td>address</td>\n",
       "      <td>NaN</td>\n",
       "    </tr>\n",
       "    <tr>\n",
       "      <th>1710573</th>\n",
       "      <td>2020-11-26 08:01:24.581000+00:00</td>\n",
       "      <td>98201a66-3667-48f1-96e7-42ce28d9b959</td>\n",
       "      <td>NaN</td>\n",
       "      <td>NaN</td>\n",
       "      <td>NaN</td>\n",
       "      <td>NaN</td>\n",
       "      <td>2020-11-26</td>\n",
       "      <td>shop_selected</td>\n",
       "      <td>NaN</td>\n",
       "      <td>header</td>\n",
       "      <td>NaN</td>\n",
       "    </tr>\n",
       "  </tbody>\n",
       "</table>\n",
       "</div>"
      ],
      "text/plain": [
       "                               timestamp  \\\n",
       "1476681 2020-11-26 05:38:27.551000+00:00   \n",
       "1710564 2020-11-26 05:38:42.526000+00:00   \n",
       "974184  2020-11-26 05:38:45.350000+00:00   \n",
       "1476677 2020-11-26 05:40:21.120000+00:00   \n",
       "1710573 2020-11-26 08:01:24.581000+00:00   \n",
       "\n",
       "                                 anonymous_id group device_type browser   os  \\\n",
       "1476681  98201a66-3667-48f1-96e7-42ce28d9b959   NaN         NaN     NaN  NaN   \n",
       "1710564  98201a66-3667-48f1-96e7-42ce28d9b959   NaN         NaN     NaN  NaN   \n",
       "974184   98201a66-3667-48f1-96e7-42ce28d9b959   NaN         NaN     NaN  NaN   \n",
       "1476677  98201a66-3667-48f1-96e7-42ce28d9b959   NaN         NaN     NaN  NaN   \n",
       "1710573  98201a66-3667-48f1-96e7-42ce28d9b959   NaN         NaN     NaN  NaN   \n",
       "\n",
       "               date           table  retailer_id   source  order_sum  \n",
       "1476681  2020-11-26  address_change          NaN  address        NaN  \n",
       "1710564  2020-11-26   shop_selected          NaN   header        NaN  \n",
       "974184   2020-11-26        retailer          1.0      NaN        NaN  \n",
       "1476677  2020-11-26  address_change          NaN  address        NaN  \n",
       "1710573  2020-11-26   shop_selected          NaN   header        NaN  "
      ]
     },
     "execution_count": 87,
     "metadata": {},
     "output_type": "execute_result"
    }
   ],
   "source": [
    "res_id = res.query('anonymous_id == \"98201a66-3667-48f1-96e7-42ce28d9b959\"')\n",
    "res_id.head()"
   ]
  },
  {
   "cell_type": "code",
   "execution_count": 88,
   "metadata": {},
   "outputs": [],
   "source": [
    "# Specify a writer\n",
    "writer = pd.ExcelWriter('example.xlsx', engine='xlsxwriter')\n",
    "\n",
    "# Write your DataFrame to a file     \n",
    "res_id.astype({\"timestamp\": str}).to_excel(writer, 'Sheet1')\n",
    "\n",
    "# Save the result \n",
    "writer.save()"
   ]
  },
  {
   "cell_type": "code",
   "execution_count": null,
   "metadata": {},
   "outputs": [],
   "source": []
  },
  {
   "cell_type": "code",
   "execution_count": null,
   "metadata": {},
   "outputs": [],
   "source": []
  },
  {
   "cell_type": "code",
   "execution_count": null,
   "metadata": {},
   "outputs": [],
   "source": []
  },
  {
   "cell_type": "code",
   "execution_count": null,
   "metadata": {},
   "outputs": [],
   "source": []
  },
  {
   "cell_type": "code",
   "execution_count": null,
   "metadata": {},
   "outputs": [],
   "source": []
  },
  {
   "cell_type": "code",
   "execution_count": null,
   "metadata": {},
   "outputs": [],
   "source": []
  },
  {
   "cell_type": "code",
   "execution_count": null,
   "metadata": {},
   "outputs": [],
   "source": []
  },
  {
   "cell_type": "code",
   "execution_count": null,
   "metadata": {},
   "outputs": [],
   "source": []
  },
  {
   "cell_type": "code",
   "execution_count": null,
   "metadata": {},
   "outputs": [],
   "source": []
  },
  {
   "cell_type": "code",
   "execution_count": null,
   "metadata": {},
   "outputs": [],
   "source": []
  }
 ],
 "metadata": {
  "kernelspec": {
   "display_name": "Python 3 (ipykernel)",
   "language": "python",
   "name": "python3"
  },
  "language_info": {
   "codemirror_mode": {
    "name": "ipython",
    "version": 3
   },
   "file_extension": ".py",
   "mimetype": "text/x-python",
   "name": "python",
   "nbconvert_exporter": "python",
   "pygments_lexer": "ipython3",
   "version": "3.10.9"
  }
 },
 "nbformat": 4,
 "nbformat_minor": 4
}
