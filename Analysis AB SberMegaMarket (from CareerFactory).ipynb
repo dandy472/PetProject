{
 "cells": [
  {
   "cell_type": "markdown",
   "id": "1328ccc5",
   "metadata": {},
   "source": [
    "# Описание проблемы"
   ]
  },
  {
   "cell_type": "markdown",
   "id": "916fdf69",
   "metadata": {},
   "source": [
    "На текущем варианте лендинга пользователь сначала выбирает ритейлера, переходит в каталог, ищет нужные ему товары и только потом может узнать, что по его адресу выбранного магазина может не оказаться. Хотим проверить гипотезу, что выбор адреса до этапа выбора магазина поможет избежать “кривых” сценариев без повышения отказов с самого лендинга.\n",
    "\n",
    "Описание групп\n",
    "\n",
    "1 - контрольная (без каких-либо изменений)\n",
    "2 - тестовая, сначала пользователь указывает адрес, затем выбирает магазин. \n",
    "\n",
    "Метрики\n",
    "\n",
    "Основные метрики, на основе которых будем принимать решение:\n",
    "\n",
    "- bounce rate лендинга (в тестовых группах он не должен стат значимо вырасти)\n",
    "- конверсия в добавление в корзину"
   ]
  },
  {
   "cell_type": "markdown",
   "id": "8beed22a",
   "metadata": {},
   "source": [
    "# Задание"
   ]
  },
  {
   "cell_type": "markdown",
   "id": "14fd3bd3",
   "metadata": {},
   "source": [
    "- ❓Проанализируйте дизайн эксперимента. Какие ошибки были допущены? Как можно его улучшить?\n",
    "- ❓ Проанализируйте данные эксперимента. Какой из вариантов нужно пускать в бой по итогу A/B теста и почему?\n",
    "- 🕵️ Проведите неофициальное расследование и составьте максимально подробный список аномалий в приведенных данных."
   ]
  },
  {
   "cell_type": "markdown",
   "id": "af832085",
   "metadata": {},
   "source": [
    "# ----------------------------------------------------------------------------------------------------\n",
    "# Решение"
   ]
  },
  {
   "cell_type": "markdown",
   "id": "cec7a02f",
   "metadata": {},
   "source": [
    "## Импорт библиотек"
   ]
  },
  {
   "cell_type": "code",
   "execution_count": 3,
   "id": "c102c16e",
   "metadata": {},
   "outputs": [],
   "source": [
    "import pandas as pd\n",
    "import seaborn as sns\n",
    "import matplotlib.pyplot as plt\n",
    "from scipy import stats as st\n",
    "import math as mth\n",
    "import numpy as np"
   ]
  },
  {
   "cell_type": "markdown",
   "id": "9a8671ef",
   "metadata": {},
   "source": [
    "## Ввод данных"
   ]
  },
  {
   "cell_type": "code",
   "execution_count": 4,
   "id": "cdb9f420",
   "metadata": {},
   "outputs": [],
   "source": [
    "ab_test_hit = pd.read_csv('Data\\\\AB Test Hit.csv')\n",
    "add_to_cart_clicked = pd.read_csv('Data\\\\Add To Cart Clicked.csv')\n",
    "address_change_initiated = pd.read_csv('Data\\\\Address Change Initiated.csv')\n",
    "address_not_in_deli = pd.read_csv('Data\\\\Address Not In Delivery Zone.csv')\n",
    "landing_viewed = pd.read_csv('Data\\\\Landing Viewed.csv')\n",
    "main_viewed = pd.read_csv('Data\\\\Main Page Viewed.csv')\n",
    "order_completed = pd.read_csv('Data\\\\Order Completed.csv')\n",
    "product_added = pd.read_csv('Data\\\\Product Added.csv')\n",
    "shop_selected = pd.read_csv('Data\\\\Shop Selected.csv')\n",
    "shop_celection_started = pd.read_csv('Data\\\\Shop Celection Started.csv')"
   ]
  },
  {
   "cell_type": "markdown",
   "id": "d2988d66",
   "metadata": {},
   "source": [
    "### Описание и очистка данных"
   ]
  },
  {
   "cell_type": "markdown",
   "id": "481deb4e",
   "metadata": {},
   "source": [
    "#### DataFrame ab_test_hit - время взита пользователя и назначенная ему группа (A\\B)"
   ]
  },
  {
   "cell_type": "code",
   "execution_count": 15,
   "id": "b3fb8115",
   "metadata": {
    "scrolled": true
   },
   "outputs": [
    {
     "data": {
      "text/html": [
       "<div>\n",
       "<style scoped>\n",
       "    .dataframe tbody tr th:only-of-type {\n",
       "        vertical-align: middle;\n",
       "    }\n",
       "\n",
       "    .dataframe tbody tr th {\n",
       "        vertical-align: top;\n",
       "    }\n",
       "\n",
       "    .dataframe thead th {\n",
       "        text-align: right;\n",
       "    }\n",
       "</style>\n",
       "<table border=\"1\" class=\"dataframe\">\n",
       "  <thead>\n",
       "    <tr style=\"text-align: right;\">\n",
       "      <th></th>\n",
       "      <th>hit_at</th>\n",
       "      <th>anonymous_id</th>\n",
       "      <th>group</th>\n",
       "      <th>device_type</th>\n",
       "      <th>browser</th>\n",
       "      <th>os</th>\n",
       "    </tr>\n",
       "  </thead>\n",
       "  <tbody>\n",
       "    <tr>\n",
       "      <th>count</th>\n",
       "      <td>502784</td>\n",
       "      <td>502784</td>\n",
       "      <td>502784</td>\n",
       "      <td>502784</td>\n",
       "      <td>502784</td>\n",
       "      <td>502783</td>\n",
       "    </tr>\n",
       "    <tr>\n",
       "      <th>unique</th>\n",
       "      <td>502470</td>\n",
       "      <td>489019</td>\n",
       "      <td>2</td>\n",
       "      <td>5</td>\n",
       "      <td>37</td>\n",
       "      <td>15</td>\n",
       "    </tr>\n",
       "    <tr>\n",
       "      <th>top</th>\n",
       "      <td>2020-12-03 05:33:34.021 UTC</td>\n",
       "      <td>5bb785fd-e0e7-447a-b0e1-a06328b31cbe</td>\n",
       "      <td>default</td>\n",
       "      <td>mobile</td>\n",
       "      <td>Chrome</td>\n",
       "      <td>Android</td>\n",
       "    </tr>\n",
       "    <tr>\n",
       "      <th>freq</th>\n",
       "      <td>3</td>\n",
       "      <td>18</td>\n",
       "      <td>446474</td>\n",
       "      <td>305530</td>\n",
       "      <td>250245</td>\n",
       "      <td>195489</td>\n",
       "    </tr>\n",
       "  </tbody>\n",
       "</table>\n",
       "</div>"
      ],
      "text/plain": [
       "                             hit_at                          anonymous_id  \\\n",
       "count                        502784                                502784   \n",
       "unique                       502470                                489019   \n",
       "top     2020-12-03 05:33:34.021 UTC  5bb785fd-e0e7-447a-b0e1-a06328b31cbe   \n",
       "freq                              3                                    18   \n",
       "\n",
       "          group device_type browser       os  \n",
       "count    502784      502784  502784   502783  \n",
       "unique        2           5      37       15  \n",
       "top     default      mobile  Chrome  Android  \n",
       "freq     446474      305530  250245   195489  "
      ]
     },
     "execution_count": 15,
     "metadata": {},
     "output_type": "execute_result"
    }
   ],
   "source": [
    "ab_test_hit.describe()"
   ]
  },
  {
   "cell_type": "code",
   "execution_count": 19,
   "id": "2c189c73",
   "metadata": {},
   "outputs": [
    {
     "data": {
      "text/plain": [
       "Android             195489\n",
       "Windows             138854\n",
       "iOS                 118173\n",
       "Linux                35319\n",
       "Mac OS               14284\n",
       "Ubuntu                 517\n",
       "Chromium OS             50\n",
       "Windows Phone           35\n",
       "Fedora                  26\n",
       "PlayStation             14\n",
       "Tizen                   13\n",
       "NetBSD                   4\n",
       "FreeBSD                  3\n",
       "Mint                     1\n",
       "Windows Phone OS         1\n",
       "Name: os, dtype: int64"
      ]
     },
     "execution_count": 19,
     "metadata": {},
     "output_type": "execute_result"
    }
   ],
   "source": [
    "ab_test_hit.os.value_counts()"
   ]
  },
  {
   "cell_type": "markdown",
   "id": "fe060df2",
   "metadata": {},
   "source": [
    "Видим пользователей PlayStation, что вряд ли учитывалось в начальном эксперименте. Но поскольку на это ограничений нет, то оставим их"
   ]
  },
  {
   "cell_type": "code",
   "execution_count": 20,
   "id": "5e7f10ad",
   "metadata": {
    "scrolled": true
   },
   "outputs": [
    {
     "data": {
      "text/plain": [
       "mobile     305530\n",
       "desktop    190480\n",
       "tablet       6740\n",
       "console        18\n",
       "smarttv        16\n",
       "Name: device_type, dtype: int64"
      ]
     },
     "execution_count": 20,
     "metadata": {},
     "output_type": "execute_result"
    }
   ],
   "source": [
    "ab_test_hit.device_type.value_counts()"
   ]
  },
  {
   "cell_type": "markdown",
   "id": "8ff0c8b0",
   "metadata": {},
   "source": [
    "Та же история и с пользователями, зашедшими со smarttv"
   ]
  },
  {
   "cell_type": "markdown",
   "id": "8fb784b9",
   "metadata": {},
   "source": [
    "Ищем пользователей, попавших в обе группы"
   ]
  },
  {
   "cell_type": "code",
   "execution_count": 41,
   "id": "dcae73ce",
   "metadata": {},
   "outputs": [
    {
     "data": {
      "text/plain": [
       "(528, 2)"
      ]
     },
     "execution_count": 41,
     "metadata": {},
     "output_type": "execute_result"
    }
   ],
   "source": [
    "dupl_user = ab_test_hit[['anonymous_id','group']].groupby('anonymous_id').nunique().reset_index()\n",
    "dupl_user[dupl_user['group']>1].shape"
   ]
  },
  {
   "cell_type": "code",
   "execution_count": 48,
   "id": "a0c1c8e9",
   "metadata": {},
   "outputs": [],
   "source": [
    "dupl_user=dupl_user[dupl_user['group']>1]"
   ]
  },
  {
   "cell_type": "markdown",
   "id": "c51b4d81",
   "metadata": {},
   "source": [
    "Итого 528 пользователей попавших в обе группы. Это ошибка, которая повлияет на ход эксперимента. Удаляем данных пользователей из эксперимента."
   ]
  },
  {
   "cell_type": "code",
   "execution_count": 51,
   "id": "d2868cc9",
   "metadata": {},
   "outputs": [
    {
     "data": {
      "text/plain": [
       "(501626, 6)"
      ]
     },
     "execution_count": 51,
     "metadata": {},
     "output_type": "execute_result"
    }
   ],
   "source": [
    "ab_test_hit_clear = ab_test_hit[~ab_test_hit['anonymous_id'].isin(dupl_user['anonymous_id'])]\n",
    "ab_test_hit_clear.shape"
   ]
  },
  {
   "cell_type": "markdown",
   "id": "082b5e18",
   "metadata": {},
   "source": [
    "Эксперимент проводился с 26 ноября по 10 декабря 2020 года. Поэтому, необходимо отсеять лишних"
   ]
  },
  {
   "cell_type": "code",
   "execution_count": 109,
   "id": "ade38d06",
   "metadata": {},
   "outputs": [],
   "source": [
    "ab_test_hit_clear=ab_test_hit_clear[ab_test_hit_clear.hit_at<'2020-12-10 00:00:00']\n",
    "ab_test_hit_clear=ab_test_hit_clear[ab_test_hit_clear.hit_at>='2020-11-26 00:00:00']"
   ]
  },
  {
   "cell_type": "markdown",
   "id": "73d6e05d",
   "metadata": {},
   "source": [
    "Проверка распределения по группам A(address_first) и B(default)"
   ]
  },
  {
   "cell_type": "code",
   "execution_count": 110,
   "id": "5cdbee85",
   "metadata": {},
   "outputs": [
    {
     "data": {
      "text/plain": [
       "group\n",
       "address_first    0.111287\n",
       "default          0.888713\n",
       "dtype: float64"
      ]
     },
     "execution_count": 110,
     "metadata": {},
     "output_type": "execute_result"
    }
   ],
   "source": [
    "ab_test_hit_clear.groupby(['group']).size()/len(ab_test_hit_clear)"
   ]
  },
  {
   "cell_type": "markdown",
   "id": "2efe5a37",
   "metadata": {},
   "source": [
    "Следовательно нарушена пропорция на группы (11% и 89%). В идеале делят 50/50 или если боятся сильно негативного эффекта. "
   ]
  },
  {
   "cell_type": "markdown",
   "id": "5fcf139d",
   "metadata": {},
   "source": [
    "#### DataFrame add_to_cart_clicked - клик по добавлению в корзину"
   ]
  },
  {
   "cell_type": "code",
   "execution_count": 56,
   "id": "9980fbbc",
   "metadata": {
    "scrolled": false
   },
   "outputs": [
    {
     "data": {
      "text/html": [
       "<div>\n",
       "<style scoped>\n",
       "    .dataframe tbody tr th:only-of-type {\n",
       "        vertical-align: middle;\n",
       "    }\n",
       "\n",
       "    .dataframe tbody tr th {\n",
       "        vertical-align: top;\n",
       "    }\n",
       "\n",
       "    .dataframe thead th {\n",
       "        text-align: right;\n",
       "    }\n",
       "</style>\n",
       "<table border=\"1\" class=\"dataframe\">\n",
       "  <thead>\n",
       "    <tr style=\"text-align: right;\">\n",
       "      <th></th>\n",
       "      <th>timestamp</th>\n",
       "      <th>anonymous_id</th>\n",
       "    </tr>\n",
       "  </thead>\n",
       "  <tbody>\n",
       "    <tr>\n",
       "      <th>count</th>\n",
       "      <td>1223417</td>\n",
       "      <td>1223417</td>\n",
       "    </tr>\n",
       "    <tr>\n",
       "      <th>unique</th>\n",
       "      <td>1221588</td>\n",
       "      <td>70820</td>\n",
       "    </tr>\n",
       "    <tr>\n",
       "      <th>top</th>\n",
       "      <td>2020-12-08 16:50:18.141 UTC</td>\n",
       "      <td>3c223064-4496-450d-b502-04727851bc7c</td>\n",
       "    </tr>\n",
       "    <tr>\n",
       "      <th>freq</th>\n",
       "      <td>4</td>\n",
       "      <td>2124</td>\n",
       "    </tr>\n",
       "  </tbody>\n",
       "</table>\n",
       "</div>"
      ],
      "text/plain": [
       "                          timestamp                          anonymous_id\n",
       "count                       1223417                               1223417\n",
       "unique                      1221588                                 70820\n",
       "top     2020-12-08 16:50:18.141 UTC  3c223064-4496-450d-b502-04727851bc7c\n",
       "freq                              4                                  2124"
      ]
     },
     "execution_count": 56,
     "metadata": {},
     "output_type": "execute_result"
    }
   ],
   "source": [
    "add_to_cart_clicked.describe()"
   ]
  },
  {
   "cell_type": "code",
   "execution_count": 61,
   "id": "bf6b2afa",
   "metadata": {
    "scrolled": true
   },
   "outputs": [
    {
     "data": {
      "text/html": [
       "<div>\n",
       "<style scoped>\n",
       "    .dataframe tbody tr th:only-of-type {\n",
       "        vertical-align: middle;\n",
       "    }\n",
       "\n",
       "    .dataframe tbody tr th {\n",
       "        vertical-align: top;\n",
       "    }\n",
       "\n",
       "    .dataframe thead th {\n",
       "        text-align: right;\n",
       "    }\n",
       "</style>\n",
       "<table border=\"1\" class=\"dataframe\">\n",
       "  <thead>\n",
       "    <tr style=\"text-align: right;\">\n",
       "      <th></th>\n",
       "      <th>timestamp</th>\n",
       "      <th>anonymous_id</th>\n",
       "      <th>c_date</th>\n",
       "    </tr>\n",
       "  </thead>\n",
       "  <tbody>\n",
       "    <tr>\n",
       "      <th>0</th>\n",
       "      <td>2020-11-30 03:08:30.345 UTC</td>\n",
       "      <td>04880e58-9530-46c2-bf03-b9bc21e72e99</td>\n",
       "      <td>2020-11-30</td>\n",
       "    </tr>\n",
       "    <tr>\n",
       "      <th>1</th>\n",
       "      <td>2020-11-30 11:13:52.439 UTC</td>\n",
       "      <td>74526202-97a7-49d7-b312-91d93583c530</td>\n",
       "      <td>2020-11-30</td>\n",
       "    </tr>\n",
       "    <tr>\n",
       "      <th>2</th>\n",
       "      <td>2020-11-30 09:11:38.708 UTC</td>\n",
       "      <td>d246c872-7a1e-4a02-9440-0908ba605f79</td>\n",
       "      <td>2020-11-30</td>\n",
       "    </tr>\n",
       "    <tr>\n",
       "      <th>3</th>\n",
       "      <td>2020-11-30 09:42:22.833 UTC</td>\n",
       "      <td>71102afd-bcf1-4585-aaba-819b68554c79</td>\n",
       "      <td>2020-11-30</td>\n",
       "    </tr>\n",
       "    <tr>\n",
       "      <th>4</th>\n",
       "      <td>2020-11-30 03:38:11.446 UTC</td>\n",
       "      <td>df194e6d-d88a-4b18-bf44-209992dd9f7e</td>\n",
       "      <td>2020-11-30</td>\n",
       "    </tr>\n",
       "  </tbody>\n",
       "</table>\n",
       "</div>"
      ],
      "text/plain": [
       "                     timestamp                          anonymous_id  \\\n",
       "0  2020-11-30 03:08:30.345 UTC  04880e58-9530-46c2-bf03-b9bc21e72e99   \n",
       "1  2020-11-30 11:13:52.439 UTC  74526202-97a7-49d7-b312-91d93583c530   \n",
       "2  2020-11-30 09:11:38.708 UTC  d246c872-7a1e-4a02-9440-0908ba605f79   \n",
       "3  2020-11-30 09:42:22.833 UTC  71102afd-bcf1-4585-aaba-819b68554c79   \n",
       "4  2020-11-30 03:38:11.446 UTC  df194e6d-d88a-4b18-bf44-209992dd9f7e   \n",
       "\n",
       "       c_date  \n",
       "0  2020-11-30  \n",
       "1  2020-11-30  \n",
       "2  2020-11-30  \n",
       "3  2020-11-30  \n",
       "4  2020-11-30  "
      ]
     },
     "execution_count": 61,
     "metadata": {},
     "output_type": "execute_result"
    }
   ],
   "source": [
    "add_to_cart_clicked['c_date']=pd.to_datetime (add_to_cart_clicked['timestamp']).dt.date\n",
    "add_to_cart_clicked.head()"
   ]
  },
  {
   "cell_type": "code",
   "execution_count": 65,
   "id": "70b6c5b8",
   "metadata": {},
   "outputs": [
    {
     "data": {
      "text/plain": [
       "(1223417, 3)"
      ]
     },
     "execution_count": 65,
     "metadata": {},
     "output_type": "execute_result"
    }
   ],
   "source": [
    "add_to_cart_clicked.shape"
   ]
  },
  {
   "cell_type": "code",
   "execution_count": 73,
   "id": "ae3e393a",
   "metadata": {},
   "outputs": [
    {
     "data": {
      "text/html": [
       "<div>\n",
       "<style scoped>\n",
       "    .dataframe tbody tr th:only-of-type {\n",
       "        vertical-align: middle;\n",
       "    }\n",
       "\n",
       "    .dataframe tbody tr th {\n",
       "        vertical-align: top;\n",
       "    }\n",
       "\n",
       "    .dataframe thead th {\n",
       "        text-align: right;\n",
       "    }\n",
       "</style>\n",
       "<table border=\"1\" class=\"dataframe\">\n",
       "  <thead>\n",
       "    <tr style=\"text-align: right;\">\n",
       "      <th></th>\n",
       "      <th>anonymous_id</th>\n",
       "      <th>c_date</th>\n",
       "      <th>timestamp</th>\n",
       "    </tr>\n",
       "  </thead>\n",
       "  <tbody>\n",
       "    <tr>\n",
       "      <th>24539</th>\n",
       "      <td>3c223064-4496-450d-b502-04727851bc7c</td>\n",
       "      <td>2020-11-27</td>\n",
       "      <td>1257</td>\n",
       "    </tr>\n",
       "    <tr>\n",
       "      <th>24538</th>\n",
       "      <td>3c223064-4496-450d-b502-04727851bc7c</td>\n",
       "      <td>2020-11-26</td>\n",
       "      <td>867</td>\n",
       "    </tr>\n",
       "    <tr>\n",
       "      <th>99346</th>\n",
       "      <td>f1026d7a-afe5-4700-862b-ccf505f5fc52</td>\n",
       "      <td>2020-11-26</td>\n",
       "      <td>426</td>\n",
       "    </tr>\n",
       "    <tr>\n",
       "      <th>94938</th>\n",
       "      <td>e66b5954-bb2d-498c-8ac3-815758872704</td>\n",
       "      <td>2020-12-11</td>\n",
       "      <td>418</td>\n",
       "    </tr>\n",
       "    <tr>\n",
       "      <th>25379</th>\n",
       "      <td>3e5732f3-b0fb-4c1f-8bed-dd7a68994585</td>\n",
       "      <td>2020-12-17</td>\n",
       "      <td>361</td>\n",
       "    </tr>\n",
       "    <tr>\n",
       "      <th>...</th>\n",
       "      <td>...</td>\n",
       "      <td>...</td>\n",
       "      <td>...</td>\n",
       "    </tr>\n",
       "    <tr>\n",
       "      <th>54545</th>\n",
       "      <td>84868ed1-f6c5-4b97-9ee7-74c3a222fc99</td>\n",
       "      <td>2020-11-26</td>\n",
       "      <td>1</td>\n",
       "    </tr>\n",
       "    <tr>\n",
       "      <th>54549</th>\n",
       "      <td>8488a12d-75a5-4edc-a247-66b18a80d549</td>\n",
       "      <td>2020-11-26</td>\n",
       "      <td>1</td>\n",
       "    </tr>\n",
       "    <tr>\n",
       "      <th>54552</th>\n",
       "      <td>848a2c72-1470-4640-bd6f-3f5bdb3f208c</td>\n",
       "      <td>2020-11-30</td>\n",
       "      <td>1</td>\n",
       "    </tr>\n",
       "    <tr>\n",
       "      <th>54562</th>\n",
       "      <td>8491242b-6d1b-49a3-a787-2f00625435c7</td>\n",
       "      <td>2020-12-06</td>\n",
       "      <td>1</td>\n",
       "    </tr>\n",
       "    <tr>\n",
       "      <th>105509</th>\n",
       "      <td>ffffdd92-2f11-4455-8cd1-c065d368b120</td>\n",
       "      <td>2020-12-04</td>\n",
       "      <td>1</td>\n",
       "    </tr>\n",
       "  </tbody>\n",
       "</table>\n",
       "<p>105510 rows × 3 columns</p>\n",
       "</div>"
      ],
      "text/plain": [
       "                                anonymous_id      c_date  timestamp\n",
       "24539   3c223064-4496-450d-b502-04727851bc7c  2020-11-27       1257\n",
       "24538   3c223064-4496-450d-b502-04727851bc7c  2020-11-26        867\n",
       "99346   f1026d7a-afe5-4700-862b-ccf505f5fc52  2020-11-26        426\n",
       "94938   e66b5954-bb2d-498c-8ac3-815758872704  2020-12-11        418\n",
       "25379   3e5732f3-b0fb-4c1f-8bed-dd7a68994585  2020-12-17        361\n",
       "...                                      ...         ...        ...\n",
       "54545   84868ed1-f6c5-4b97-9ee7-74c3a222fc99  2020-11-26          1\n",
       "54549   8488a12d-75a5-4edc-a247-66b18a80d549  2020-11-26          1\n",
       "54552   848a2c72-1470-4640-bd6f-3f5bdb3f208c  2020-11-30          1\n",
       "54562   8491242b-6d1b-49a3-a787-2f00625435c7  2020-12-06          1\n",
       "105509  ffffdd92-2f11-4455-8cd1-c065d368b120  2020-12-04          1\n",
       "\n",
       "[105510 rows x 3 columns]"
      ]
     },
     "execution_count": 73,
     "metadata": {},
     "output_type": "execute_result"
    }
   ],
   "source": [
    "add_to_cart_clicked.groupby(['anonymous_id','c_date'])['timestamp'].count().reset_index().sort_values(['timestamp'], ascending=False)"
   ]
  },
  {
   "cell_type": "markdown",
   "id": "bfb18f84",
   "metadata": {},
   "source": [
    "В данных явно аномалии - добавить 1257 раз в корзину товар за день вряд ли возможно человеку. Предположительно это или боты или тестировщики. В любом случе данные надо чистить. Использую для этого статистику 95 процентиля"
   ]
  },
  {
   "cell_type": "code",
   "execution_count": 74,
   "id": "ba62f60c",
   "metadata": {},
   "outputs": [],
   "source": [
    "test = add_to_cart_clicked.groupby(['anonymous_id','c_date'])['timestamp'].count().reset_index().sort_values(['timestamp'], ascending=False)\n",
    "test=test[test.timestamp >= test.timestamp.quantile(.95)]\n",
    "add_to_cart_clicked=add_to_cart_clicked[~add_to_cart_clicked['anonymous_id'].isin(test['anonymous_id'])]"
   ]
  },
  {
   "cell_type": "code",
   "execution_count": 75,
   "id": "4a7d057e",
   "metadata": {},
   "outputs": [
    {
     "data": {
      "text/plain": [
       "(788893, 3)"
      ]
     },
     "execution_count": 75,
     "metadata": {},
     "output_type": "execute_result"
    }
   ],
   "source": [
    "add_to_cart_clicked.shape"
   ]
  },
  {
   "cell_type": "markdown",
   "id": "b7d4379c",
   "metadata": {},
   "source": [
    "Итого удалено ~ 43 000 строк "
   ]
  },
  {
   "cell_type": "markdown",
   "id": "b5e108f4",
   "metadata": {},
   "source": [
    "#### DataFrame landing_viewed - время посещения лендинга"
   ]
  },
  {
   "cell_type": "code",
   "execution_count": 80,
   "id": "8e2333ff",
   "metadata": {},
   "outputs": [
    {
     "data": {
      "text/html": [
       "<div>\n",
       "<style scoped>\n",
       "    .dataframe tbody tr th:only-of-type {\n",
       "        vertical-align: middle;\n",
       "    }\n",
       "\n",
       "    .dataframe tbody tr th {\n",
       "        vertical-align: top;\n",
       "    }\n",
       "\n",
       "    .dataframe thead th {\n",
       "        text-align: right;\n",
       "    }\n",
       "</style>\n",
       "<table border=\"1\" class=\"dataframe\">\n",
       "  <thead>\n",
       "    <tr style=\"text-align: right;\">\n",
       "      <th></th>\n",
       "      <th>timestamp</th>\n",
       "      <th>anonymous_id</th>\n",
       "    </tr>\n",
       "  </thead>\n",
       "  <tbody>\n",
       "    <tr>\n",
       "      <th>count</th>\n",
       "      <td>341481</td>\n",
       "      <td>341481</td>\n",
       "    </tr>\n",
       "    <tr>\n",
       "      <th>unique</th>\n",
       "      <td>341263</td>\n",
       "      <td>210922</td>\n",
       "    </tr>\n",
       "    <tr>\n",
       "      <th>top</th>\n",
       "      <td>2020-12-11 04:33:58.64 UTC</td>\n",
       "      <td>6368eb82-d361-4aca-869e-080f167e3b5f</td>\n",
       "    </tr>\n",
       "    <tr>\n",
       "      <th>freq</th>\n",
       "      <td>3</td>\n",
       "      <td>536</td>\n",
       "    </tr>\n",
       "  </tbody>\n",
       "</table>\n",
       "</div>"
      ],
      "text/plain": [
       "                         timestamp                          anonymous_id\n",
       "count                       341481                                341481\n",
       "unique                      341263                                210922\n",
       "top     2020-12-11 04:33:58.64 UTC  6368eb82-d361-4aca-869e-080f167e3b5f\n",
       "freq                             3                                   536"
      ]
     },
     "execution_count": 80,
     "metadata": {},
     "output_type": "execute_result"
    }
   ],
   "source": [
    "landing_viewed.describe()"
   ]
  },
  {
   "cell_type": "markdown",
   "id": "6226bceb",
   "metadata": {},
   "source": [
    "Проверка анамалий захода на лендинг (как в прошлом примере)"
   ]
  },
  {
   "cell_type": "code",
   "execution_count": 82,
   "id": "c7c7384f",
   "metadata": {},
   "outputs": [],
   "source": [
    "landing_viewed['c_date']=pd.to_datetime(landing_viewed['timestamp']).dt.date"
   ]
  },
  {
   "cell_type": "code",
   "execution_count": 83,
   "id": "27352c20",
   "metadata": {},
   "outputs": [
    {
     "data": {
      "text/html": [
       "<div>\n",
       "<style scoped>\n",
       "    .dataframe tbody tr th:only-of-type {\n",
       "        vertical-align: middle;\n",
       "    }\n",
       "\n",
       "    .dataframe tbody tr th {\n",
       "        vertical-align: top;\n",
       "    }\n",
       "\n",
       "    .dataframe thead th {\n",
       "        text-align: right;\n",
       "    }\n",
       "</style>\n",
       "<table border=\"1\" class=\"dataframe\">\n",
       "  <thead>\n",
       "    <tr style=\"text-align: right;\">\n",
       "      <th></th>\n",
       "      <th>anonymous_id</th>\n",
       "      <th>c_date</th>\n",
       "      <th>timestamp</th>\n",
       "    </tr>\n",
       "  </thead>\n",
       "  <tbody>\n",
       "    <tr>\n",
       "      <th>90093</th>\n",
       "      <td>6368eb82-d361-4aca-869e-080f167e3b5f</td>\n",
       "      <td>2020-12-01</td>\n",
       "      <td>536</td>\n",
       "    </tr>\n",
       "    <tr>\n",
       "      <th>124268</th>\n",
       "      <td>8851d1da-4b18-4028-baa6-47e8a135fe87</td>\n",
       "      <td>2020-12-03</td>\n",
       "      <td>150</td>\n",
       "    </tr>\n",
       "    <tr>\n",
       "      <th>129295</th>\n",
       "      <td>8da49d4a-48a7-4e27-8a16-5d122c9602c4</td>\n",
       "      <td>2020-12-06</td>\n",
       "      <td>79</td>\n",
       "    </tr>\n",
       "    <tr>\n",
       "      <th>36834</th>\n",
       "      <td>287e99ad-777a-46ee-89ca-89145711fb4e</td>\n",
       "      <td>2020-12-13</td>\n",
       "      <td>54</td>\n",
       "    </tr>\n",
       "    <tr>\n",
       "      <th>56394</th>\n",
       "      <td>3e3c5ef8-fb2d-4c9b-8de2-224c78ce4149</td>\n",
       "      <td>2020-11-30</td>\n",
       "      <td>52</td>\n",
       "    </tr>\n",
       "    <tr>\n",
       "      <th>...</th>\n",
       "      <td>...</td>\n",
       "      <td>...</td>\n",
       "      <td>...</td>\n",
       "    </tr>\n",
       "    <tr>\n",
       "      <th>88753</th>\n",
       "      <td>61f25cb2-a79d-4c40-896f-884f1558e5db</td>\n",
       "      <td>2020-12-03</td>\n",
       "      <td>1</td>\n",
       "    </tr>\n",
       "    <tr>\n",
       "      <th>88754</th>\n",
       "      <td>61f2db5f-94fc-48f8-9208-ac042092b1b9</td>\n",
       "      <td>2020-12-09</td>\n",
       "      <td>1</td>\n",
       "    </tr>\n",
       "    <tr>\n",
       "      <th>88756</th>\n",
       "      <td>61f42fc7-ed21-4f28-9c48-e019f57ddba4</td>\n",
       "      <td>2020-12-02</td>\n",
       "      <td>1</td>\n",
       "    </tr>\n",
       "    <tr>\n",
       "      <th>88757</th>\n",
       "      <td>61f48b16-210e-4781-bce7-2e8803b126d3</td>\n",
       "      <td>2020-12-02</td>\n",
       "      <td>1</td>\n",
       "    </tr>\n",
       "    <tr>\n",
       "      <th>233718</th>\n",
       "      <td>ffffdd92-2f11-4455-8cd1-c065d368b120</td>\n",
       "      <td>2020-12-04</td>\n",
       "      <td>1</td>\n",
       "    </tr>\n",
       "  </tbody>\n",
       "</table>\n",
       "<p>233719 rows × 3 columns</p>\n",
       "</div>"
      ],
      "text/plain": [
       "                                anonymous_id      c_date  timestamp\n",
       "90093   6368eb82-d361-4aca-869e-080f167e3b5f  2020-12-01        536\n",
       "124268  8851d1da-4b18-4028-baa6-47e8a135fe87  2020-12-03        150\n",
       "129295  8da49d4a-48a7-4e27-8a16-5d122c9602c4  2020-12-06         79\n",
       "36834   287e99ad-777a-46ee-89ca-89145711fb4e  2020-12-13         54\n",
       "56394   3e3c5ef8-fb2d-4c9b-8de2-224c78ce4149  2020-11-30         52\n",
       "...                                      ...         ...        ...\n",
       "88753   61f25cb2-a79d-4c40-896f-884f1558e5db  2020-12-03          1\n",
       "88754   61f2db5f-94fc-48f8-9208-ac042092b1b9  2020-12-09          1\n",
       "88756   61f42fc7-ed21-4f28-9c48-e019f57ddba4  2020-12-02          1\n",
       "88757   61f48b16-210e-4781-bce7-2e8803b126d3  2020-12-02          1\n",
       "233718  ffffdd92-2f11-4455-8cd1-c065d368b120  2020-12-04          1\n",
       "\n",
       "[233719 rows x 3 columns]"
      ]
     },
     "execution_count": 83,
     "metadata": {},
     "output_type": "execute_result"
    }
   ],
   "source": [
    "landing_viewed.groupby(['anonymous_id','c_date'])['timestamp'].count().reset_index().sort_values(['timestamp'], ascending=False)"
   ]
  },
  {
   "cell_type": "markdown",
   "id": "a5a8744b",
   "metadata": {},
   "source": [
    "Подтверждена гипотеза о наличии аномальных данных в заходах на лендинг за сутки. Данные необходимо чистить"
   ]
  },
  {
   "cell_type": "code",
   "execution_count": 84,
   "id": "2c5f81eb",
   "metadata": {},
   "outputs": [],
   "source": [
    "temp=landing_viewed.groupby(['anonymous_id','c_date'])['timestamp'].count().reset_index().sort_values(['timestamp'], ascending=False)\n",
    "temp=temp[temp['timestamp']>=temp.timestamp.quantile(.95)]\n",
    "landing_viewed=landing_viewed[~landing_viewed.anonymous_id.isin(temp['anonymous_id'])]"
   ]
  },
  {
   "cell_type": "code",
   "execution_count": 85,
   "id": "d37378b3",
   "metadata": {},
   "outputs": [
    {
     "data": {
      "text/plain": [
       "(237552, 3)"
      ]
     },
     "execution_count": 85,
     "metadata": {},
     "output_type": "execute_result"
    }
   ],
   "source": [
    "landing_viewed.shape"
   ]
  },
  {
   "cell_type": "markdown",
   "id": "20d632ac",
   "metadata": {},
   "source": [
    "Удалено ~ 104 000 строк"
   ]
  },
  {
   "cell_type": "markdown",
   "id": "badc3ced",
   "metadata": {},
   "source": [
    "#### DataFrame order_completed - заказ\n"
   ]
  },
  {
   "cell_type": "code",
   "execution_count": 95,
   "id": "5f22b704",
   "metadata": {
    "scrolled": true
   },
   "outputs": [
    {
     "data": {
      "text/plain": [
       "{'whiskers': [<matplotlib.lines.Line2D at 0x1a944c1b100>,\n",
       "  <matplotlib.lines.Line2D at 0x1a944c19090>],\n",
       " 'caps': [<matplotlib.lines.Line2D at 0x1a944c1b190>,\n",
       "  <matplotlib.lines.Line2D at 0x1a944c39cc0>],\n",
       " 'boxes': [<matplotlib.lines.Line2D at 0x1a944c19300>],\n",
       " 'medians': [<matplotlib.lines.Line2D at 0x1a944c3ae60>],\n",
       " 'fliers': [<matplotlib.lines.Line2D at 0x1a944c011e0>],\n",
       " 'means': []}"
      ]
     },
     "execution_count": 95,
     "metadata": {},
     "output_type": "execute_result"
    },
    {
     "data": {
      "image/png": "[encoded data removed]",
      "text/plain": [
       "<Figure size 640x480 with 1 Axes>"
      ]
     },
     "metadata": {},
     "output_type": "display_data"
    }
   ],
   "source": [
    "order_completed.head()\n",
    "plt.boxplot(order_completed.order_sum)"
   ]
  },
  {
   "cell_type": "markdown",
   "id": "d5605041",
   "metadata": {},
   "source": [
    "Очень большое количество выбросов, при этом есть заказы > 100 т.р., что совсем не характерно для приложения доставки продуктов. Возможно также работа тестировщиков или бобтов. Это подтверждается тем, что средний чек (с учётом выбросов) ~6 т.р. Удаляю выбросы"
   ]
  },
  {
   "cell_type": "code",
   "execution_count": 101,
   "id": "8dd8bf96",
   "metadata": {},
   "outputs": [
    {
     "data": {
      "text/html": [
       "<div>\n",
       "<style scoped>\n",
       "    .dataframe tbody tr th:only-of-type {\n",
       "        vertical-align: middle;\n",
       "    }\n",
       "\n",
       "    .dataframe tbody tr th {\n",
       "        vertical-align: top;\n",
       "    }\n",
       "\n",
       "    .dataframe thead th {\n",
       "        text-align: right;\n",
       "    }\n",
       "</style>\n",
       "<table border=\"1\" class=\"dataframe\">\n",
       "  <thead>\n",
       "    <tr style=\"text-align: right;\">\n",
       "      <th></th>\n",
       "      <th>order_sum</th>\n",
       "    </tr>\n",
       "  </thead>\n",
       "  <tbody>\n",
       "    <tr>\n",
       "      <th>count</th>\n",
       "      <td>16483.000000</td>\n",
       "    </tr>\n",
       "    <tr>\n",
       "      <th>mean</th>\n",
       "      <td>5587.596096</td>\n",
       "    </tr>\n",
       "    <tr>\n",
       "      <th>std</th>\n",
       "      <td>4903.485252</td>\n",
       "    </tr>\n",
       "    <tr>\n",
       "      <th>min</th>\n",
       "      <td>3.382452</td>\n",
       "    </tr>\n",
       "    <tr>\n",
       "      <th>25%</th>\n",
       "      <td>2257.181064</td>\n",
       "    </tr>\n",
       "    <tr>\n",
       "      <th>50%</th>\n",
       "      <td>4064.028029</td>\n",
       "    </tr>\n",
       "    <tr>\n",
       "      <th>75%</th>\n",
       "      <td>7252.150818</td>\n",
       "    </tr>\n",
       "    <tr>\n",
       "      <th>max</th>\n",
       "      <td>36612.583206</td>\n",
       "    </tr>\n",
       "  </tbody>\n",
       "</table>\n",
       "</div>"
      ],
      "text/plain": [
       "          order_sum\n",
       "count  16483.000000\n",
       "mean    5587.596096\n",
       "std     4903.485252\n",
       "min        3.382452\n",
       "25%     2257.181064\n",
       "50%     4064.028029\n",
       "75%     7252.150818\n",
       "max    36612.583206"
      ]
     },
     "execution_count": 101,
     "metadata": {},
     "output_type": "execute_result"
    }
   ],
   "source": [
    "temp=order_completed[ order_completed.order_sum>=order_completed.order_sum.quantile(.99)]\n",
    "order_completed=order_completed[~order_completed.order_sum.isin(temp.order_sum)]\n",
    "order_completed.describe()"
   ]
  },
  {
   "cell_type": "markdown",
   "id": "a18d2a5b",
   "metadata": {},
   "source": [
    "Отмечаю, что среднее не сильно сдвинулось, однако дисперсия упала в 2 раза"
   ]
  },
  {
   "cell_type": "code",
   "execution_count": 102,
   "id": "61561b28",
   "metadata": {
    "scrolled": false
   },
   "outputs": [
    {
     "data": {
      "text/plain": [
       "{'whiskers': [<matplotlib.lines.Line2D at 0x1a955587700>,\n",
       "  <matplotlib.lines.Line2D at 0x1a955587b20>],\n",
       " 'caps': [<matplotlib.lines.Line2D at 0x1a955587d90>,\n",
       "  <matplotlib.lines.Line2D at 0x1a955554a90>],\n",
       " 'boxes': [<matplotlib.lines.Line2D at 0x1a955587430>],\n",
       " 'medians': [<matplotlib.lines.Line2D at 0x1a955554d60>],\n",
       " 'fliers': [<matplotlib.lines.Line2D at 0x1a955555000>],\n",
       " 'means': []}"
      ]
     },
     "execution_count": 102,
     "metadata": {},
     "output_type": "execute_result"
    },
    {
     "data": {
      "image/png": "[encoded data removed]",
      "text/plain": [
       "<Figure size 640x480 with 1 Axes>"
      ]
     },
     "metadata": {},
     "output_type": "display_data"
    }
   ],
   "source": [
    "plt.boxplot(order_completed.order_sum)"
   ]
  },
  {
   "cell_type": "markdown",
   "id": "70d268f4",
   "metadata": {},
   "source": [
    "#### DataFrame main - после лендинга идёт главная страница. "
   ]
  },
  {
   "cell_type": "markdown",
   "id": "0427db9a",
   "metadata": {},
   "source": [
    "По условиям эксперимента, необходимо, чтобы пользоватеь зашёл с лендинга на главную. Нужно посчитать разницу по времени посещения и она должна быть положительна. Остальное - не подходит"
   ]
  },
  {
   "cell_type": "code",
   "execution_count": 121,
   "id": "aa08609a",
   "metadata": {
    "scrolled": true
   },
   "outputs": [
    {
     "data": {
      "text/html": [
       "<div>\n",
       "<style scoped>\n",
       "    .dataframe tbody tr th:only-of-type {\n",
       "        vertical-align: middle;\n",
       "    }\n",
       "\n",
       "    .dataframe tbody tr th {\n",
       "        vertical-align: top;\n",
       "    }\n",
       "\n",
       "    .dataframe thead th {\n",
       "        text-align: right;\n",
       "    }\n",
       "</style>\n",
       "<table border=\"1\" class=\"dataframe\">\n",
       "  <thead>\n",
       "    <tr style=\"text-align: right;\">\n",
       "      <th></th>\n",
       "      <th>timestamp</th>\n",
       "      <th>anonymous_id</th>\n",
       "      <th>retailer_id</th>\n",
       "    </tr>\n",
       "  </thead>\n",
       "  <tbody>\n",
       "    <tr>\n",
       "      <th>0</th>\n",
       "      <td>2020-11-29 08:54:57.64 UTC</td>\n",
       "      <td>00000782-154a-4159-ab12-6c34b658e375</td>\n",
       "      <td>1</td>\n",
       "    </tr>\n",
       "    <tr>\n",
       "      <th>1</th>\n",
       "      <td>2020-11-29 08:22:54.554 UTC</td>\n",
       "      <td>00000782-154a-4159-ab12-6c34b658e375</td>\n",
       "      <td>1</td>\n",
       "    </tr>\n",
       "    <tr>\n",
       "      <th>2</th>\n",
       "      <td>2020-11-30 10:56:52.877 UTC</td>\n",
       "      <td>00000782-154a-4159-ab12-6c34b658e375</td>\n",
       "      <td>1</td>\n",
       "    </tr>\n",
       "    <tr>\n",
       "      <th>3</th>\n",
       "      <td>2020-11-29 08:22:24.663 UTC</td>\n",
       "      <td>00000782-154a-4159-ab12-6c34b658e375</td>\n",
       "      <td>1</td>\n",
       "    </tr>\n",
       "    <tr>\n",
       "      <th>4</th>\n",
       "      <td>2020-11-29 09:07:11.648 UTC</td>\n",
       "      <td>00000782-154a-4159-ab12-6c34b658e375</td>\n",
       "      <td>1</td>\n",
       "    </tr>\n",
       "  </tbody>\n",
       "</table>\n",
       "</div>"
      ],
      "text/plain": [
       "                     timestamp                          anonymous_id  \\\n",
       "0   2020-11-29 08:54:57.64 UTC  00000782-154a-4159-ab12-6c34b658e375   \n",
       "1  2020-11-29 08:22:54.554 UTC  00000782-154a-4159-ab12-6c34b658e375   \n",
       "2  2020-11-30 10:56:52.877 UTC  00000782-154a-4159-ab12-6c34b658e375   \n",
       "3  2020-11-29 08:22:24.663 UTC  00000782-154a-4159-ab12-6c34b658e375   \n",
       "4  2020-11-29 09:07:11.648 UTC  00000782-154a-4159-ab12-6c34b658e375   \n",
       "\n",
       "   retailer_id  \n",
       "0            1  \n",
       "1            1  \n",
       "2            1  \n",
       "3            1  \n",
       "4            1  "
      ]
     },
     "execution_count": 121,
     "metadata": {},
     "output_type": "execute_result"
    }
   ],
   "source": [
    "main_viewed.head()"
   ]
  },
  {
   "cell_type": "code",
   "execution_count": null,
   "id": "e392e6b2",
   "metadata": {},
   "outputs": [],
   "source": []
  },
  {
   "cell_type": "markdown",
   "id": "2ac6d411",
   "metadata": {},
   "source": [
    "### Расчёт показателей эксперимента"
   ]
  },
  {
   "cell_type": "markdown",
   "id": "065014fd",
   "metadata": {},
   "source": [
    "Расчёт количества посетителей лендинга по дням"
   ]
  },
  {
   "cell_type": "code",
   "execution_count": 116,
   "id": "c8f3ac89",
   "metadata": {},
   "outputs": [
    {
     "data": {
      "text/html": [
       "<div>\n",
       "<style scoped>\n",
       "    .dataframe tbody tr th:only-of-type {\n",
       "        vertical-align: middle;\n",
       "    }\n",
       "\n",
       "    .dataframe tbody tr th {\n",
       "        vertical-align: top;\n",
       "    }\n",
       "\n",
       "    .dataframe thead th {\n",
       "        text-align: right;\n",
       "    }\n",
       "</style>\n",
       "<table border=\"1\" class=\"dataframe\">\n",
       "  <thead>\n",
       "    <tr style=\"text-align: right;\">\n",
       "      <th></th>\n",
       "      <th>c_date</th>\n",
       "      <th>group</th>\n",
       "      <th>timestamp</th>\n",
       "    </tr>\n",
       "  </thead>\n",
       "  <tbody>\n",
       "    <tr>\n",
       "      <th>0</th>\n",
       "      <td>2020-11-26</td>\n",
       "      <td>address_first</td>\n",
       "      <td>1945</td>\n",
       "    </tr>\n",
       "    <tr>\n",
       "      <th>1</th>\n",
       "      <td>2020-11-26</td>\n",
       "      <td>default</td>\n",
       "      <td>15349</td>\n",
       "    </tr>\n",
       "    <tr>\n",
       "      <th>2</th>\n",
       "      <td>2020-11-27</td>\n",
       "      <td>address_first</td>\n",
       "      <td>1848</td>\n",
       "    </tr>\n",
       "    <tr>\n",
       "      <th>3</th>\n",
       "      <td>2020-11-27</td>\n",
       "      <td>default</td>\n",
       "      <td>15207</td>\n",
       "    </tr>\n",
       "    <tr>\n",
       "      <th>4</th>\n",
       "      <td>2020-11-28</td>\n",
       "      <td>address_first</td>\n",
       "      <td>2078</td>\n",
       "    </tr>\n",
       "    <tr>\n",
       "      <th>5</th>\n",
       "      <td>2020-11-28</td>\n",
       "      <td>default</td>\n",
       "      <td>15870</td>\n",
       "    </tr>\n",
       "    <tr>\n",
       "      <th>6</th>\n",
       "      <td>2020-11-29</td>\n",
       "      <td>address_first</td>\n",
       "      <td>1786</td>\n",
       "    </tr>\n",
       "    <tr>\n",
       "      <th>7</th>\n",
       "      <td>2020-11-29</td>\n",
       "      <td>default</td>\n",
       "      <td>13646</td>\n",
       "    </tr>\n",
       "    <tr>\n",
       "      <th>8</th>\n",
       "      <td>2020-11-30</td>\n",
       "      <td>address_first</td>\n",
       "      <td>1666</td>\n",
       "    </tr>\n",
       "    <tr>\n",
       "      <th>9</th>\n",
       "      <td>2020-11-30</td>\n",
       "      <td>default</td>\n",
       "      <td>13373</td>\n",
       "    </tr>\n",
       "    <tr>\n",
       "      <th>10</th>\n",
       "      <td>2020-12-01</td>\n",
       "      <td>address_first</td>\n",
       "      <td>1542</td>\n",
       "    </tr>\n",
       "    <tr>\n",
       "      <th>11</th>\n",
       "      <td>2020-12-01</td>\n",
       "      <td>default</td>\n",
       "      <td>12196</td>\n",
       "    </tr>\n",
       "    <tr>\n",
       "      <th>12</th>\n",
       "      <td>2020-12-02</td>\n",
       "      <td>address_first</td>\n",
       "      <td>1751</td>\n",
       "    </tr>\n",
       "    <tr>\n",
       "      <th>13</th>\n",
       "      <td>2020-12-02</td>\n",
       "      <td>default</td>\n",
       "      <td>13708</td>\n",
       "    </tr>\n",
       "    <tr>\n",
       "      <th>14</th>\n",
       "      <td>2020-12-03</td>\n",
       "      <td>address_first</td>\n",
       "      <td>1819</td>\n",
       "    </tr>\n",
       "    <tr>\n",
       "      <th>15</th>\n",
       "      <td>2020-12-03</td>\n",
       "      <td>default</td>\n",
       "      <td>14210</td>\n",
       "    </tr>\n",
       "    <tr>\n",
       "      <th>16</th>\n",
       "      <td>2020-12-04</td>\n",
       "      <td>address_first</td>\n",
       "      <td>1888</td>\n",
       "    </tr>\n",
       "    <tr>\n",
       "      <th>17</th>\n",
       "      <td>2020-12-04</td>\n",
       "      <td>default</td>\n",
       "      <td>14624</td>\n",
       "    </tr>\n",
       "    <tr>\n",
       "      <th>18</th>\n",
       "      <td>2020-12-05</td>\n",
       "      <td>address_first</td>\n",
       "      <td>1886</td>\n",
       "    </tr>\n",
       "    <tr>\n",
       "      <th>19</th>\n",
       "      <td>2020-12-05</td>\n",
       "      <td>default</td>\n",
       "      <td>14966</td>\n",
       "    </tr>\n",
       "    <tr>\n",
       "      <th>20</th>\n",
       "      <td>2020-12-06</td>\n",
       "      <td>address_first</td>\n",
       "      <td>1932</td>\n",
       "    </tr>\n",
       "    <tr>\n",
       "      <th>21</th>\n",
       "      <td>2020-12-06</td>\n",
       "      <td>default</td>\n",
       "      <td>15082</td>\n",
       "    </tr>\n",
       "    <tr>\n",
       "      <th>22</th>\n",
       "      <td>2020-12-07</td>\n",
       "      <td>address_first</td>\n",
       "      <td>1823</td>\n",
       "    </tr>\n",
       "    <tr>\n",
       "      <th>23</th>\n",
       "      <td>2020-12-07</td>\n",
       "      <td>default</td>\n",
       "      <td>14929</td>\n",
       "    </tr>\n",
       "    <tr>\n",
       "      <th>24</th>\n",
       "      <td>2020-12-08</td>\n",
       "      <td>address_first</td>\n",
       "      <td>1824</td>\n",
       "    </tr>\n",
       "    <tr>\n",
       "      <th>25</th>\n",
       "      <td>2020-12-08</td>\n",
       "      <td>default</td>\n",
       "      <td>13951</td>\n",
       "    </tr>\n",
       "    <tr>\n",
       "      <th>26</th>\n",
       "      <td>2020-12-09</td>\n",
       "      <td>address_first</td>\n",
       "      <td>1842</td>\n",
       "    </tr>\n",
       "    <tr>\n",
       "      <th>27</th>\n",
       "      <td>2020-12-09</td>\n",
       "      <td>default</td>\n",
       "      <td>14376</td>\n",
       "    </tr>\n",
       "    <tr>\n",
       "      <th>28</th>\n",
       "      <td>2020-12-10</td>\n",
       "      <td>address_first</td>\n",
       "      <td>1856</td>\n",
       "    </tr>\n",
       "    <tr>\n",
       "      <th>29</th>\n",
       "      <td>2020-12-10</td>\n",
       "      <td>default</td>\n",
       "      <td>14703</td>\n",
       "    </tr>\n",
       "    <tr>\n",
       "      <th>30</th>\n",
       "      <td>2020-12-11</td>\n",
       "      <td>address_first</td>\n",
       "      <td>245</td>\n",
       "    </tr>\n",
       "    <tr>\n",
       "      <th>31</th>\n",
       "      <td>2020-12-11</td>\n",
       "      <td>default</td>\n",
       "      <td>1649</td>\n",
       "    </tr>\n",
       "    <tr>\n",
       "      <th>32</th>\n",
       "      <td>2020-12-12</td>\n",
       "      <td>address_first</td>\n",
       "      <td>155</td>\n",
       "    </tr>\n",
       "    <tr>\n",
       "      <th>33</th>\n",
       "      <td>2020-12-12</td>\n",
       "      <td>default</td>\n",
       "      <td>1316</td>\n",
       "    </tr>\n",
       "    <tr>\n",
       "      <th>34</th>\n",
       "      <td>2020-12-13</td>\n",
       "      <td>address_first</td>\n",
       "      <td>141</td>\n",
       "    </tr>\n",
       "    <tr>\n",
       "      <th>35</th>\n",
       "      <td>2020-12-13</td>\n",
       "      <td>default</td>\n",
       "      <td>1357</td>\n",
       "    </tr>\n",
       "    <tr>\n",
       "      <th>36</th>\n",
       "      <td>2020-12-14</td>\n",
       "      <td>address_first</td>\n",
       "      <td>189</td>\n",
       "    </tr>\n",
       "    <tr>\n",
       "      <th>37</th>\n",
       "      <td>2020-12-14</td>\n",
       "      <td>default</td>\n",
       "      <td>1357</td>\n",
       "    </tr>\n",
       "    <tr>\n",
       "      <th>38</th>\n",
       "      <td>2020-12-15</td>\n",
       "      <td>address_first</td>\n",
       "      <td>182</td>\n",
       "    </tr>\n",
       "    <tr>\n",
       "      <th>39</th>\n",
       "      <td>2020-12-15</td>\n",
       "      <td>default</td>\n",
       "      <td>1265</td>\n",
       "    </tr>\n",
       "    <tr>\n",
       "      <th>40</th>\n",
       "      <td>2020-12-16</td>\n",
       "      <td>address_first</td>\n",
       "      <td>166</td>\n",
       "    </tr>\n",
       "    <tr>\n",
       "      <th>41</th>\n",
       "      <td>2020-12-16</td>\n",
       "      <td>default</td>\n",
       "      <td>1240</td>\n",
       "    </tr>\n",
       "    <tr>\n",
       "      <th>42</th>\n",
       "      <td>2020-12-17</td>\n",
       "      <td>address_first</td>\n",
       "      <td>152</td>\n",
       "    </tr>\n",
       "    <tr>\n",
       "      <th>43</th>\n",
       "      <td>2020-12-17</td>\n",
       "      <td>default</td>\n",
       "      <td>1334</td>\n",
       "    </tr>\n",
       "  </tbody>\n",
       "</table>\n",
       "</div>"
      ],
      "text/plain": [
       "        c_date          group  timestamp\n",
       "0   2020-11-26  address_first       1945\n",
       "1   2020-11-26        default      15349\n",
       "2   2020-11-27  address_first       1848\n",
       "3   2020-11-27        default      15207\n",
       "4   2020-11-28  address_first       2078\n",
       "5   2020-11-28        default      15870\n",
       "6   2020-11-29  address_first       1786\n",
       "7   2020-11-29        default      13646\n",
       "8   2020-11-30  address_first       1666\n",
       "9   2020-11-30        default      13373\n",
       "10  2020-12-01  address_first       1542\n",
       "11  2020-12-01        default      12196\n",
       "12  2020-12-02  address_first       1751\n",
       "13  2020-12-02        default      13708\n",
       "14  2020-12-03  address_first       1819\n",
       "15  2020-12-03        default      14210\n",
       "16  2020-12-04  address_first       1888\n",
       "17  2020-12-04        default      14624\n",
       "18  2020-12-05  address_first       1886\n",
       "19  2020-12-05        default      14966\n",
       "20  2020-12-06  address_first       1932\n",
       "21  2020-12-06        default      15082\n",
       "22  2020-12-07  address_first       1823\n",
       "23  2020-12-07        default      14929\n",
       "24  2020-12-08  address_first       1824\n",
       "25  2020-12-08        default      13951\n",
       "26  2020-12-09  address_first       1842\n",
       "27  2020-12-09        default      14376\n",
       "28  2020-12-10  address_first       1856\n",
       "29  2020-12-10        default      14703\n",
       "30  2020-12-11  address_first        245\n",
       "31  2020-12-11        default       1649\n",
       "32  2020-12-12  address_first        155\n",
       "33  2020-12-12        default       1316\n",
       "34  2020-12-13  address_first        141\n",
       "35  2020-12-13        default       1357\n",
       "36  2020-12-14  address_first        189\n",
       "37  2020-12-14        default       1357\n",
       "38  2020-12-15  address_first        182\n",
       "39  2020-12-15        default       1265\n",
       "40  2020-12-16  address_first        166\n",
       "41  2020-12-16        default       1240\n",
       "42  2020-12-17  address_first        152\n",
       "43  2020-12-17        default       1334"
      ]
     },
     "execution_count": 116,
     "metadata": {},
     "output_type": "execute_result"
    }
   ],
   "source": [
    "import seaborn as sns\n",
    "hit_land=landing_viewed.merge(ab_test_hit, on = 'anonymous_id')\n",
    "temp=hit_land.groupby(['c_date','group'])['timestamp'].count().reset_index()"
   ]
  },
  {
   "cell_type": "code",
   "execution_count": 118,
   "id": "1f0ad232",
   "metadata": {},
   "outputs": [
    {
     "data": {
      "text/plain": [
       "<Axes: xlabel='timestamp', ylabel='c_date'>"
      ]
     },
     "execution_count": 118,
     "metadata": {},
     "output_type": "execute_result"
    },
    {
     "data": {
      "image/png": "[encoded data removed]",
      "text/plain": [
       "<Figure size 640x480 with 1 Axes>"
      ]
     },
     "metadata": {},
     "output_type": "display_data"
    }
   ],
   "source": [
    "\n",
    "sns.barplot(y=\"c_date\", x=\"timestamp\", hue=\"group\", data=temp)"
   ]
  }
 ],
 "metadata": {
  "kernelspec": {
   "display_name": "Python 3 (ipykernel)",
   "language": "python",
   "name": "python3"
  },
  "language_info": {
   "codemirror_mode": {
    "name": "ipython",
    "version": 3
   },
   "file_extension": ".py",
   "mimetype": "text/x-python",
   "name": "python",
   "nbconvert_exporter": "python",
   "pygments_lexer": "ipython3",
   "version": "3.10.9"
  }
 },
 "nbformat": 4,
 "nbformat_minor": 5
}
