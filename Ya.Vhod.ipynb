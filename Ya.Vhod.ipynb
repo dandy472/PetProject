{
 "cells": [
  {
   "cell_type": "code",
   "execution_count": 41,
   "id": "f07d9c76",
   "metadata": {},
   "outputs": [
    {
     "name": "stdout",
     "output_type": "stream",
     "text": [
      "4\n"
     ]
    }
   ],
   "source": [
    "def find_gcd(x, y):\n",
    "    while(y):\n",
    "        x, y = y, x % y\n",
    " \n",
    "    return x    \n",
    "     \n",
    "l = [4] \n",
    "num1=l[0]\n",
    "num2=l[1]\n",
    "gcd=math.gcd(num1,num2)\n",
    " \n",
    "for i in range(2,len(l)):\n",
    "    gcd=math.gcd(gcd,l[i])\n",
    "     \n",
    "print(gcd)"
   ]
  },
  {
   "cell_type": "code",
   "execution_count": 33,
   "id": "e4a280ad",
   "metadata": {},
   "outputs": [
    {
     "data": {
      "text/plain": [
       "['\"a\"',\n",
       " '\"a\"',\n",
       " '\"a\"',\n",
       " '\"b\"',\n",
       " '\"b\"',\n",
       " '\"b\"',\n",
       " '\"b\"',\n",
       " '\"c\"',\n",
       " '\"c\"',\n",
       " '\"c\"',\n",
       " '\"c\"',\n",
       " '\"c\"']"
      ]
     },
     "execution_count": 33,
     "metadata": {},
     "output_type": "execute_result"
    }
   ],
   "source": [
    "import fileinput\n",
    "import json\n",
    "import math\n",
    "\n",
    "def get_friend(x):\n",
    "    res = set(x)\n",
    "    ar_res=list(res)\n",
    "    aa=[0]*len(ar_res)\n",
    "    for i in range(len(x)):\n",
    "        for j in range(len(ar_res)):\n",
    "            if x[i]==ar_res[j]:\n",
    "                aa[j]=aa[j]+1\n",
    "                break\n",
    "    if len(aa)==1:\n",
    "        return 1\n",
    "    else:\n",
    "        result=math.gcd(aa[0],aa[1])\n",
    "        for i in range (2,len(aa)):\n",
    "            result=math.gcd(result,aa[i])\n",
    "        return result\n",
    "\n",
    "for line in fileinput.input():\n",
    "    candies = json.loads(line)\n",
    "    print(get_friend(candies))"
   ]
  },
  {
   "cell_type": "code",
   "execution_count": 6,
   "id": "ea76a47d",
   "metadata": {},
   "outputs": [
    {
     "data": {
      "text/plain": [
       "[5, 6, 7, 1, 2, 3, 4]"
      ]
     },
     "execution_count": 6,
     "metadata": {},
     "output_type": "execute_result"
    }
   ],
   "source": [
    "nums = [1,2,3,4,5,6,7]\n",
    "a=nums[-3:]\n",
    "b=nums[:-3]\n",
    "a+b"
   ]
  },
  {
   "cell_type": "code",
   "execution_count": 103,
   "id": "3a6a021f",
   "metadata": {},
   "outputs": [
    {
     "name": "stdout",
     "output_type": "stream",
     "text": [
      "3\n"
     ]
    }
   ],
   "source": [
    "import fileinput\n",
    "\n",
    "def get_index(k,paints):\n",
    "    ss=set(paints)\n",
    "    l_res=sorted(ss,reverse = True)\n",
    "\n",
    "    if (l_res[0]==0):\n",
    "        return 0\n",
    "    if (l_res[0]<4):\n",
    "        return 1\n",
    "    if(pow(k,2)<l_res[len(l_res)-1]):\n",
    "        return k\n",
    "    if (k==2 and l_res[0]>3):\n",
    "        return 2\n",
    "    if (k==2 and l_res[0]<4):\n",
    "        return 1\n",
    "    c_max=0\n",
    "    result=-1\n",
    "    for i in range(2,k):\n",
    "        t=pow(i,2)\n",
    "        for j in range(0,len(l_res)):\n",
    "            if t<=l_res[j] :\n",
    "                if c_max<j:\n",
    "                    c_max=j\n",
    "                    result=i\n",
    "                    break\n",
    "            else:\n",
    "                i=k\n",
    "\n",
    "    return result\n",
    "\n",
    "with open('input.txt', 'r') as f:\n",
    "    lines = [line.strip() for line in f]\n",
    "k=int(lines[0])\n",
    "paints=[int(x) for x in lines[1].split()]\n",
    "print(get_index(k,paints))"
   ]
  },
  {
   "cell_type": "code",
   "execution_count": 44,
   "id": "f7368ebf",
   "metadata": {},
   "outputs": [
    {
     "data": {
      "text/plain": [
       "100"
      ]
     },
     "execution_count": 44,
     "metadata": {},
     "output_type": "execute_result"
    }
   ],
   "source": [
    "r=set(paints)\n",
    "ar=list(r)\n",
    "ar[len(ar)-1]"
   ]
  }
 ],
 "metadata": {
  "kernelspec": {
   "display_name": "Python 3 (ipykernel)",
   "language": "python",
   "name": "python3"
  },
  "language_info": {
   "codemirror_mode": {
    "name": "ipython",
    "version": 3
   },
   "file_extension": ".py",
   "mimetype": "text/x-python",
   "name": "python",
   "nbconvert_exporter": "python",
   "pygments_lexer": "ipython3",
   "version": "3.10.9"
  }
 },
 "nbformat": 4,
 "nbformat_minor": 5
}
